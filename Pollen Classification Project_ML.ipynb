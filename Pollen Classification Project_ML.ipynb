{
 "cells": [
  {
   "cell_type": "code",
   "execution_count": 1,
   "id": "ae63a316",
   "metadata": {},
   "outputs": [],
   "source": [
    "import os\n",
    "import numpy as np\n",
    "import matplotlib.pyplot as plt\n",
    "import seaborn as sns\n",
    "import pandas as pd\n",
    "from sklearn.model_selection import train_test_split\n",
    "\n",
    "from sklearn import preprocessing\n",
    "\n",
    "from sklearn.svm import SVC\n",
    "from sklearn.ensemble import RandomForestClassifier\n",
    "from sklearn.neighbors import KNeighborsClassifier\n",
    "from sklearn.tree import DecisionTreeClassifier\n",
    "from sklearn.naive_bayes import GaussianNB\n",
    "from xgboost import XGBClassifier\n",
    "\n",
    "import sys\n",
    "import warnings\n",
    "if not sys.warnoptions:\n",
    "    warnings.simplefilter(\"ignore\")\n",
    "\n",
    "from sklearn import metrics\n",
    "from sklearn import model_selection\n",
    "\n",
    "import random\n",
    "from sklearn.utils import shuffle\n",
    "\n",
    "from sklearn.preprocessing import MinMaxScaler\n",
    "from sklearn.ensemble import GradientBoostingClassifier"
   ]
  },
  {
   "cell_type": "code",
   "execution_count": 2,
   "id": "cb838754",
   "metadata": {},
   "outputs": [],
   "source": [
    "os.chdir(\"D:\\\\Maja\\\\LSDM\\\\Projekat\\\\train\")\n",
    "training_data1 = pd.read_csv('spectrum.csv')\n",
    "training_data2 = pd.read_csv('scattering.csv')\n",
    "training_data3 = pd.read_csv('lifetime.csv')\n",
    "training_data4 = pd.read_csv('lifetime_features.csv')\n",
    "training_data5 = pd.read_csv('size.csv')\n",
    "\n",
    "train_labels = pd.read_csv('train_labels.csv')"
   ]
  },
  {
   "cell_type": "code",
   "execution_count": 13,
   "id": "3c5b95b6",
   "metadata": {},
   "outputs": [],
   "source": [
    "train_data = training_data1.merge(training_data2, how = \"left\", on = \"ID\")\n",
    "train_data = train_data.merge(training_data3, how = \"left\", on = \"ID\")\n",
    "train_data = train_data.merge(training_data4, how = \"left\", on = \"ID\")\n",
    "train_data = train_data.merge(training_data5, how = \"left\", on = \"ID\")\n",
    "train_data = train_data.merge(train_labels, how = \"left\", on = \"ID\")"
   ]
  },
  {
   "cell_type": "code",
   "execution_count": 14,
   "id": "5dabce66",
   "metadata": {},
   "outputs": [],
   "source": [
    "train_data = train_data.set_index('ID')"
   ]
  },
  {
   "cell_type": "code",
   "execution_count": 8,
   "id": "43782ef8",
   "metadata": {},
   "outputs": [],
   "source": [
    "os.chdir(\"D:\\\\Maja\\\\LSDM\\\\Projekat\\\\test\")\n",
    "test_data1 = pd.read_csv('tspectrum.csv')\n",
    "test_data2 = pd.read_csv('tscattering.csv')\n",
    "test_data3 = pd.read_csv('tlifetime.csv')\n",
    "test_data4 = pd.read_csv('tlifetime_features.csv')\n",
    "test_data5 = pd.read_csv('tsize.csv')"
   ]
  },
  {
   "cell_type": "code",
   "execution_count": 9,
   "id": "5910f6e9",
   "metadata": {},
   "outputs": [],
   "source": [
    "test_data = test_data1.merge(test_data2, how = \"left\", on = \"ID\")\n",
    "test_data = test_data.merge(test_data3, how = \"left\", on = \"ID\")\n",
    "test_data = test_data.merge(test_data4, how = \"left\", on = \"ID\")\n",
    "test_data = test_data.merge(test_data5, how = \"left\", on = \"ID\")"
   ]
  },
  {
   "cell_type": "code",
   "execution_count": 10,
   "id": "7aa11c1f",
   "metadata": {},
   "outputs": [],
   "source": [
    "test_data = test_data.set_index('ID')"
   ]
  },
  {
   "cell_type": "markdown",
   "id": "7d88b558",
   "metadata": {},
   "source": [
    "# Exploratory Data Analysis"
   ]
  },
  {
   "cell_type": "code",
   "execution_count": 5,
   "id": "ed0ee595",
   "metadata": {},
   "outputs": [
    {
     "data": {
      "text/plain": [
       "(6000, 2629)"
      ]
     },
     "execution_count": 5,
     "metadata": {},
     "output_type": "execute_result"
    }
   ],
   "source": [
    "train_data.shape"
   ]
  },
  {
   "cell_type": "code",
   "execution_count": 11,
   "id": "cda55f1f",
   "metadata": {},
   "outputs": [
    {
     "data": {
      "text/plain": [
       "(3866, 2629)"
      ]
     },
     "execution_count": 11,
     "metadata": {},
     "output_type": "execute_result"
    }
   ],
   "source": [
    "test_data.shape"
   ]
  },
  {
   "cell_type": "code",
   "execution_count": 6,
   "id": "deb4d406",
   "metadata": {},
   "outputs": [
    {
     "data": {
      "text/html": [
       "<div>\n",
       "<style scoped>\n",
       "    .dataframe tbody tr th:only-of-type {\n",
       "        vertical-align: middle;\n",
       "    }\n",
       "\n",
       "    .dataframe tbody tr th {\n",
       "        vertical-align: top;\n",
       "    }\n",
       "\n",
       "    .dataframe thead th {\n",
       "        text-align: right;\n",
       "    }\n",
       "</style>\n",
       "<table border=\"1\" class=\"dataframe\">\n",
       "  <thead>\n",
       "    <tr style=\"text-align: right;\">\n",
       "      <th></th>\n",
       "      <th>350 nm, t=0</th>\n",
       "      <th>364 nm, t=0</th>\n",
       "      <th>379 nm, t=0</th>\n",
       "      <th>393 nm, t=0</th>\n",
       "      <th>408 nm, t=0</th>\n",
       "      <th>422 nm, t=0</th>\n",
       "      <th>437 nm, t=0</th>\n",
       "      <th>451 nm, t=0</th>\n",
       "      <th>466 nm, t=0</th>\n",
       "      <th>480 nm, t=0</th>\n",
       "      <th>...</th>\n",
       "      <th>672-800 nm, t=19</th>\n",
       "      <th>672-800 nm, t=20</th>\n",
       "      <th>672-800 nm, t=21</th>\n",
       "      <th>672-800 nm, t=22</th>\n",
       "      <th>672-800 nm, t=23</th>\n",
       "      <th>lt feature 1</th>\n",
       "      <th>lt feature 2</th>\n",
       "      <th>lt feature 3</th>\n",
       "      <th>lt feature 4</th>\n",
       "      <th>size</th>\n",
       "    </tr>\n",
       "    <tr>\n",
       "      <th>ID</th>\n",
       "      <th></th>\n",
       "      <th></th>\n",
       "      <th></th>\n",
       "      <th></th>\n",
       "      <th></th>\n",
       "      <th></th>\n",
       "      <th></th>\n",
       "      <th></th>\n",
       "      <th></th>\n",
       "      <th></th>\n",
       "      <th></th>\n",
       "      <th></th>\n",
       "      <th></th>\n",
       "      <th></th>\n",
       "      <th></th>\n",
       "      <th></th>\n",
       "      <th></th>\n",
       "      <th></th>\n",
       "      <th></th>\n",
       "      <th></th>\n",
       "      <th></th>\n",
       "    </tr>\n",
       "  </thead>\n",
       "  <tbody>\n",
       "    <tr>\n",
       "      <th>0</th>\n",
       "      <td>0.129278</td>\n",
       "      <td>0.041910</td>\n",
       "      <td>0.121054</td>\n",
       "      <td>0.496012</td>\n",
       "      <td>0.800121</td>\n",
       "      <td>1.000000</td>\n",
       "      <td>0.853183</td>\n",
       "      <td>0.962091</td>\n",
       "      <td>0.745947</td>\n",
       "      <td>0.663627</td>\n",
       "      <td>...</td>\n",
       "      <td>-0.003418</td>\n",
       "      <td>0.006031</td>\n",
       "      <td>0.011460</td>\n",
       "      <td>0.016888</td>\n",
       "      <td>0.013872</td>\n",
       "      <td>0.280202</td>\n",
       "      <td>1.0</td>\n",
       "      <td>0.134079</td>\n",
       "      <td>-0.008439</td>\n",
       "      <td>12.513989</td>\n",
       "    </tr>\n",
       "    <tr>\n",
       "      <th>1</th>\n",
       "      <td>-0.011963</td>\n",
       "      <td>0.086481</td>\n",
       "      <td>0.099374</td>\n",
       "      <td>0.132618</td>\n",
       "      <td>0.527263</td>\n",
       "      <td>0.820056</td>\n",
       "      <td>0.939995</td>\n",
       "      <td>1.000000</td>\n",
       "      <td>0.914903</td>\n",
       "      <td>0.678411</td>\n",
       "      <td>...</td>\n",
       "      <td>0.057081</td>\n",
       "      <td>0.043353</td>\n",
       "      <td>0.013728</td>\n",
       "      <td>-0.016618</td>\n",
       "      <td>-0.026012</td>\n",
       "      <td>0.481173</td>\n",
       "      <td>1.0</td>\n",
       "      <td>0.266975</td>\n",
       "      <td>0.140432</td>\n",
       "      <td>19.461646</td>\n",
       "    </tr>\n",
       "    <tr>\n",
       "      <th>2</th>\n",
       "      <td>-0.006165</td>\n",
       "      <td>0.110295</td>\n",
       "      <td>0.157199</td>\n",
       "      <td>0.232229</td>\n",
       "      <td>0.404684</td>\n",
       "      <td>0.739406</td>\n",
       "      <td>1.000000</td>\n",
       "      <td>0.887348</td>\n",
       "      <td>0.716564</td>\n",
       "      <td>0.546009</td>\n",
       "      <td>...</td>\n",
       "      <td>-0.009285</td>\n",
       "      <td>-0.024627</td>\n",
       "      <td>-0.027049</td>\n",
       "      <td>-0.030279</td>\n",
       "      <td>-0.015745</td>\n",
       "      <td>0.519641</td>\n",
       "      <td>1.0</td>\n",
       "      <td>0.145762</td>\n",
       "      <td>0.002905</td>\n",
       "      <td>25.726931</td>\n",
       "    </tr>\n",
       "    <tr>\n",
       "      <th>3</th>\n",
       "      <td>-0.005657</td>\n",
       "      <td>0.036070</td>\n",
       "      <td>0.101411</td>\n",
       "      <td>0.245322</td>\n",
       "      <td>0.426752</td>\n",
       "      <td>0.674580</td>\n",
       "      <td>0.992005</td>\n",
       "      <td>1.000000</td>\n",
       "      <td>0.851382</td>\n",
       "      <td>0.676852</td>\n",
       "      <td>...</td>\n",
       "      <td>0.003787</td>\n",
       "      <td>0.006312</td>\n",
       "      <td>0.007469</td>\n",
       "      <td>0.008626</td>\n",
       "      <td>0.004103</td>\n",
       "      <td>0.639556</td>\n",
       "      <td>1.0</td>\n",
       "      <td>0.305319</td>\n",
       "      <td>-0.015814</td>\n",
       "      <td>35.178985</td>\n",
       "    </tr>\n",
       "    <tr>\n",
       "      <th>4</th>\n",
       "      <td>-0.007325</td>\n",
       "      <td>0.063621</td>\n",
       "      <td>0.125746</td>\n",
       "      <td>0.214150</td>\n",
       "      <td>0.409600</td>\n",
       "      <td>0.782647</td>\n",
       "      <td>1.000000</td>\n",
       "      <td>0.770002</td>\n",
       "      <td>0.544802</td>\n",
       "      <td>0.428694</td>\n",
       "      <td>...</td>\n",
       "      <td>-0.004052</td>\n",
       "      <td>0.017828</td>\n",
       "      <td>0.031605</td>\n",
       "      <td>0.045381</td>\n",
       "      <td>0.020259</td>\n",
       "      <td>0.624575</td>\n",
       "      <td>1.0</td>\n",
       "      <td>0.396259</td>\n",
       "      <td>-0.059949</td>\n",
       "      <td>4.672308</td>\n",
       "    </tr>\n",
       "  </tbody>\n",
       "</table>\n",
       "<p>5 rows × 2629 columns</p>\n",
       "</div>"
      ],
      "text/plain": [
       "    350 nm, t=0  364 nm, t=0  379 nm, t=0  393 nm, t=0  408 nm, t=0  \\\n",
       "ID                                                                    \n",
       "0      0.129278     0.041910     0.121054     0.496012     0.800121   \n",
       "1     -0.011963     0.086481     0.099374     0.132618     0.527263   \n",
       "2     -0.006165     0.110295     0.157199     0.232229     0.404684   \n",
       "3     -0.005657     0.036070     0.101411     0.245322     0.426752   \n",
       "4     -0.007325     0.063621     0.125746     0.214150     0.409600   \n",
       "\n",
       "    422 nm, t=0  437 nm, t=0  451 nm, t=0  466 nm, t=0  480 nm, t=0  ...  \\\n",
       "ID                                                                   ...   \n",
       "0      1.000000     0.853183     0.962091     0.745947     0.663627  ...   \n",
       "1      0.820056     0.939995     1.000000     0.914903     0.678411  ...   \n",
       "2      0.739406     1.000000     0.887348     0.716564     0.546009  ...   \n",
       "3      0.674580     0.992005     1.000000     0.851382     0.676852  ...   \n",
       "4      0.782647     1.000000     0.770002     0.544802     0.428694  ...   \n",
       "\n",
       "    672-800 nm, t=19  672-800 nm, t=20  672-800 nm, t=21  672-800 nm, t=22  \\\n",
       "ID                                                                           \n",
       "0          -0.003418          0.006031          0.011460          0.016888   \n",
       "1           0.057081          0.043353          0.013728         -0.016618   \n",
       "2          -0.009285         -0.024627         -0.027049         -0.030279   \n",
       "3           0.003787          0.006312          0.007469          0.008626   \n",
       "4          -0.004052          0.017828          0.031605          0.045381   \n",
       "\n",
       "    672-800 nm, t=23  lt feature 1  lt feature 2  lt feature 3  lt feature 4  \\\n",
       "ID                                                                             \n",
       "0           0.013872      0.280202           1.0      0.134079     -0.008439   \n",
       "1          -0.026012      0.481173           1.0      0.266975      0.140432   \n",
       "2          -0.015745      0.519641           1.0      0.145762      0.002905   \n",
       "3           0.004103      0.639556           1.0      0.305319     -0.015814   \n",
       "4           0.020259      0.624575           1.0      0.396259     -0.059949   \n",
       "\n",
       "         size  \n",
       "ID             \n",
       "0   12.513989  \n",
       "1   19.461646  \n",
       "2   25.726931  \n",
       "3   35.178985  \n",
       "4    4.672308  \n",
       "\n",
       "[5 rows x 2629 columns]"
      ]
     },
     "execution_count": 6,
     "metadata": {},
     "output_type": "execute_result"
    }
   ],
   "source": [
    "train_data.head()"
   ]
  },
  {
   "cell_type": "code",
   "execution_count": 20,
   "id": "c8814d0d",
   "metadata": {},
   "outputs": [
    {
     "data": {
      "text/html": [
       "<div>\n",
       "<style scoped>\n",
       "    .dataframe tbody tr th:only-of-type {\n",
       "        vertical-align: middle;\n",
       "    }\n",
       "\n",
       "    .dataframe tbody tr th {\n",
       "        vertical-align: top;\n",
       "    }\n",
       "\n",
       "    .dataframe thead th {\n",
       "        text-align: right;\n",
       "    }\n",
       "</style>\n",
       "<table border=\"1\" class=\"dataframe\">\n",
       "  <thead>\n",
       "    <tr style=\"text-align: right;\">\n",
       "      <th></th>\n",
       "      <th>350 nm, t=0</th>\n",
       "      <th>364 nm, t=0</th>\n",
       "      <th>379 nm, t=0</th>\n",
       "      <th>393 nm, t=0</th>\n",
       "      <th>408 nm, t=0</th>\n",
       "      <th>422 nm, t=0</th>\n",
       "      <th>437 nm, t=0</th>\n",
       "      <th>451 nm, t=0</th>\n",
       "      <th>466 nm, t=0</th>\n",
       "      <th>480 nm, t=0</th>\n",
       "      <th>...</th>\n",
       "      <th>672-800 nm, t=19</th>\n",
       "      <th>672-800 nm, t=20</th>\n",
       "      <th>672-800 nm, t=21</th>\n",
       "      <th>672-800 nm, t=22</th>\n",
       "      <th>672-800 nm, t=23</th>\n",
       "      <th>lt feature 1</th>\n",
       "      <th>lt feature 2</th>\n",
       "      <th>lt feature 3</th>\n",
       "      <th>lt feature 4</th>\n",
       "      <th>size</th>\n",
       "    </tr>\n",
       "    <tr>\n",
       "      <th>ID</th>\n",
       "      <th></th>\n",
       "      <th></th>\n",
       "      <th></th>\n",
       "      <th></th>\n",
       "      <th></th>\n",
       "      <th></th>\n",
       "      <th></th>\n",
       "      <th></th>\n",
       "      <th></th>\n",
       "      <th></th>\n",
       "      <th></th>\n",
       "      <th></th>\n",
       "      <th></th>\n",
       "      <th></th>\n",
       "      <th></th>\n",
       "      <th></th>\n",
       "      <th></th>\n",
       "      <th></th>\n",
       "      <th></th>\n",
       "      <th></th>\n",
       "      <th></th>\n",
       "    </tr>\n",
       "  </thead>\n",
       "  <tbody>\n",
       "    <tr>\n",
       "      <th>0</th>\n",
       "      <td>-0.006175</td>\n",
       "      <td>0.133574</td>\n",
       "      <td>0.257874</td>\n",
       "      <td>0.424291</td>\n",
       "      <td>0.641383</td>\n",
       "      <td>0.799268</td>\n",
       "      <td>0.844012</td>\n",
       "      <td>0.981950</td>\n",
       "      <td>1.000000</td>\n",
       "      <td>0.823689</td>\n",
       "      <td>...</td>\n",
       "      <td>0.016092</td>\n",
       "      <td>0.014767</td>\n",
       "      <td>0.010602</td>\n",
       "      <td>0.006437</td>\n",
       "      <td>0.001515</td>\n",
       "      <td>0.853280</td>\n",
       "      <td>1.000000</td>\n",
       "      <td>0.657596</td>\n",
       "      <td>0.170519</td>\n",
       "      <td>30.752787</td>\n",
       "    </tr>\n",
       "    <tr>\n",
       "      <th>1</th>\n",
       "      <td>-0.003148</td>\n",
       "      <td>0.108654</td>\n",
       "      <td>0.324557</td>\n",
       "      <td>0.516828</td>\n",
       "      <td>0.676417</td>\n",
       "      <td>0.764131</td>\n",
       "      <td>0.945514</td>\n",
       "      <td>1.000000</td>\n",
       "      <td>0.900275</td>\n",
       "      <td>0.681794</td>\n",
       "      <td>...</td>\n",
       "      <td>-0.000508</td>\n",
       "      <td>0.001693</td>\n",
       "      <td>0.002709</td>\n",
       "      <td>0.003724</td>\n",
       "      <td>0.000931</td>\n",
       "      <td>0.823714</td>\n",
       "      <td>1.000000</td>\n",
       "      <td>0.619438</td>\n",
       "      <td>-0.002691</td>\n",
       "      <td>35.027671</td>\n",
       "    </tr>\n",
       "    <tr>\n",
       "      <th>2</th>\n",
       "      <td>-0.007439</td>\n",
       "      <td>0.007508</td>\n",
       "      <td>0.011817</td>\n",
       "      <td>0.194983</td>\n",
       "      <td>0.424769</td>\n",
       "      <td>0.671424</td>\n",
       "      <td>0.864234</td>\n",
       "      <td>1.000000</td>\n",
       "      <td>0.859543</td>\n",
       "      <td>0.533120</td>\n",
       "      <td>...</td>\n",
       "      <td>0.018417</td>\n",
       "      <td>0.013440</td>\n",
       "      <td>0.003235</td>\n",
       "      <td>-0.007218</td>\n",
       "      <td>-0.007466</td>\n",
       "      <td>0.465441</td>\n",
       "      <td>1.000000</td>\n",
       "      <td>0.212438</td>\n",
       "      <td>0.018943</td>\n",
       "      <td>22.178817</td>\n",
       "    </tr>\n",
       "    <tr>\n",
       "      <th>3</th>\n",
       "      <td>-0.006136</td>\n",
       "      <td>0.089382</td>\n",
       "      <td>0.177509</td>\n",
       "      <td>0.267597</td>\n",
       "      <td>0.476476</td>\n",
       "      <td>0.760759</td>\n",
       "      <td>1.000000</td>\n",
       "      <td>0.992037</td>\n",
       "      <td>0.982640</td>\n",
       "      <td>0.785008</td>\n",
       "      <td>...</td>\n",
       "      <td>-0.005983</td>\n",
       "      <td>-0.011790</td>\n",
       "      <td>-0.013549</td>\n",
       "      <td>-0.015661</td>\n",
       "      <td>-0.010382</td>\n",
       "      <td>0.616071</td>\n",
       "      <td>1.000000</td>\n",
       "      <td>0.948248</td>\n",
       "      <td>0.000212</td>\n",
       "      <td>41.726350</td>\n",
       "    </tr>\n",
       "    <tr>\n",
       "      <th>4</th>\n",
       "      <td>-0.018904</td>\n",
       "      <td>0.189651</td>\n",
       "      <td>0.216550</td>\n",
       "      <td>0.249746</td>\n",
       "      <td>0.271422</td>\n",
       "      <td>0.944361</td>\n",
       "      <td>1.000000</td>\n",
       "      <td>0.923041</td>\n",
       "      <td>0.744498</td>\n",
       "      <td>0.697991</td>\n",
       "      <td>...</td>\n",
       "      <td>0.059192</td>\n",
       "      <td>0.072423</td>\n",
       "      <td>0.040390</td>\n",
       "      <td>0.007660</td>\n",
       "      <td>-0.015320</td>\n",
       "      <td>0.745478</td>\n",
       "      <td>0.924289</td>\n",
       "      <td>1.000000</td>\n",
       "      <td>0.204651</td>\n",
       "      <td>33.576380</td>\n",
       "    </tr>\n",
       "  </tbody>\n",
       "</table>\n",
       "<p>5 rows × 2629 columns</p>\n",
       "</div>"
      ],
      "text/plain": [
       "    350 nm, t=0  364 nm, t=0  379 nm, t=0  393 nm, t=0  408 nm, t=0  \\\n",
       "ID                                                                    \n",
       "0     -0.006175     0.133574     0.257874     0.424291     0.641383   \n",
       "1     -0.003148     0.108654     0.324557     0.516828     0.676417   \n",
       "2     -0.007439     0.007508     0.011817     0.194983     0.424769   \n",
       "3     -0.006136     0.089382     0.177509     0.267597     0.476476   \n",
       "4     -0.018904     0.189651     0.216550     0.249746     0.271422   \n",
       "\n",
       "    422 nm, t=0  437 nm, t=0  451 nm, t=0  466 nm, t=0  480 nm, t=0  ...  \\\n",
       "ID                                                                   ...   \n",
       "0      0.799268     0.844012     0.981950     1.000000     0.823689  ...   \n",
       "1      0.764131     0.945514     1.000000     0.900275     0.681794  ...   \n",
       "2      0.671424     0.864234     1.000000     0.859543     0.533120  ...   \n",
       "3      0.760759     1.000000     0.992037     0.982640     0.785008  ...   \n",
       "4      0.944361     1.000000     0.923041     0.744498     0.697991  ...   \n",
       "\n",
       "    672-800 nm, t=19  672-800 nm, t=20  672-800 nm, t=21  672-800 nm, t=22  \\\n",
       "ID                                                                           \n",
       "0           0.016092          0.014767          0.010602          0.006437   \n",
       "1          -0.000508          0.001693          0.002709          0.003724   \n",
       "2           0.018417          0.013440          0.003235         -0.007218   \n",
       "3          -0.005983         -0.011790         -0.013549         -0.015661   \n",
       "4           0.059192          0.072423          0.040390          0.007660   \n",
       "\n",
       "    672-800 nm, t=23  lt feature 1  lt feature 2  lt feature 3  lt feature 4  \\\n",
       "ID                                                                             \n",
       "0           0.001515      0.853280      1.000000      0.657596      0.170519   \n",
       "1           0.000931      0.823714      1.000000      0.619438     -0.002691   \n",
       "2          -0.007466      0.465441      1.000000      0.212438      0.018943   \n",
       "3          -0.010382      0.616071      1.000000      0.948248      0.000212   \n",
       "4          -0.015320      0.745478      0.924289      1.000000      0.204651   \n",
       "\n",
       "         size  \n",
       "ID             \n",
       "0   30.752787  \n",
       "1   35.027671  \n",
       "2   22.178817  \n",
       "3   41.726350  \n",
       "4   33.576380  \n",
       "\n",
       "[5 rows x 2629 columns]"
      ]
     },
     "execution_count": 20,
     "metadata": {},
     "output_type": "execute_result"
    }
   ],
   "source": [
    "test_data.head()"
   ]
  },
  {
   "cell_type": "code",
   "execution_count": 15,
   "id": "49ba199b",
   "metadata": {},
   "outputs": [
    {
     "data": {
      "text/plain": [
       "ID\n",
       "0        0\n",
       "1        0\n",
       "2        0\n",
       "3        0\n",
       "4        0\n",
       "        ..\n",
       "5995    11\n",
       "5996    11\n",
       "5997    11\n",
       "5998    11\n",
       "5999    11\n",
       "Name: Pollen, Length: 6000, dtype: int64"
      ]
     },
     "execution_count": 15,
     "metadata": {},
     "output_type": "execute_result"
    }
   ],
   "source": [
    "train_data[\"Pollen\"]"
   ]
  },
  {
   "cell_type": "code",
   "execution_count": 16,
   "id": "0f5cf5ae",
   "metadata": {},
   "outputs": [
    {
     "data": {
      "text/plain": [
       "array([ 0,  1,  2,  3,  4,  5,  6,  7,  8,  9, 10, 11], dtype=int64)"
      ]
     },
     "execution_count": 16,
     "metadata": {},
     "output_type": "execute_result"
    }
   ],
   "source": [
    "train_data[\"Pollen\"].unique()"
   ]
  },
  {
   "cell_type": "code",
   "execution_count": 21,
   "id": "11382204",
   "metadata": {},
   "outputs": [
    {
     "data": {
      "text/plain": [
       "0     500\n",
       "4     500\n",
       "8     500\n",
       "1     500\n",
       "5     500\n",
       "9     500\n",
       "2     500\n",
       "6     500\n",
       "10    500\n",
       "3     500\n",
       "7     500\n",
       "11    500\n",
       "Name: Pollen, dtype: int64"
      ]
     },
     "execution_count": 21,
     "metadata": {},
     "output_type": "execute_result"
    }
   ],
   "source": [
    "train_data[\"Pollen\"].value_counts()"
   ]
  },
  {
   "cell_type": "code",
   "execution_count": 18,
   "id": "98890562",
   "metadata": {},
   "outputs": [
    {
     "data": {
      "text/plain": [
       "<AxesSubplot:ylabel='Type'>"
      ]
     },
     "execution_count": 18,
     "metadata": {},
     "output_type": "execute_result"
    },
    {
     "data": {
      "image/png": "[encoded data removed]",
      "text/plain": [
       "<Figure size 432x288 with 1 Axes>"
      ]
     },
     "metadata": {},
     "output_type": "display_data"
    }
   ],
   "source": [
    "train_data.groupby('Pollen').size().plot(kind='pie',\n",
    "                                         radius=3,\n",
    "                                       y = \"Pollen\",\n",
    "                                       label = \"Type\",\n",
    "                                       autopct='%1.1f%%')"
   ]
  },
  {
   "cell_type": "code",
   "execution_count": 19,
   "id": "b4f16101",
   "metadata": {},
   "outputs": [
    {
     "data": {
      "image/png": "[encoded data removed]",
      "text/plain": [
       "<Figure size 432x288 with 1 Axes>"
      ]
     },
     "metadata": {
      "needs_background": "light"
     },
     "output_type": "display_data"
    }
   ],
   "source": [
    "ax = sns.countplot(x=\"Pollen\", data=train_data,palette=\"Set2\")"
   ]
  },
  {
   "cell_type": "code",
   "execution_count": 22,
   "id": "2faa90cf",
   "metadata": {},
   "outputs": [
    {
     "data": {
      "text/html": [
       "<div>\n",
       "<style scoped>\n",
       "    .dataframe tbody tr th:only-of-type {\n",
       "        vertical-align: middle;\n",
       "    }\n",
       "\n",
       "    .dataframe tbody tr th {\n",
       "        vertical-align: top;\n",
       "    }\n",
       "\n",
       "    .dataframe thead th {\n",
       "        text-align: right;\n",
       "    }\n",
       "</style>\n",
       "<table border=\"1\" class=\"dataframe\">\n",
       "  <thead>\n",
       "    <tr style=\"text-align: right;\">\n",
       "      <th></th>\n",
       "      <th>350 nm, t=0</th>\n",
       "      <th>364 nm, t=0</th>\n",
       "      <th>379 nm, t=0</th>\n",
       "      <th>393 nm, t=0</th>\n",
       "      <th>408 nm, t=0</th>\n",
       "      <th>422 nm, t=0</th>\n",
       "      <th>437 nm, t=0</th>\n",
       "      <th>451 nm, t=0</th>\n",
       "      <th>466 nm, t=0</th>\n",
       "      <th>480 nm, t=0</th>\n",
       "      <th>...</th>\n",
       "      <th>672-800 nm, t=20</th>\n",
       "      <th>672-800 nm, t=21</th>\n",
       "      <th>672-800 nm, t=22</th>\n",
       "      <th>672-800 nm, t=23</th>\n",
       "      <th>lt feature 1</th>\n",
       "      <th>lt feature 2</th>\n",
       "      <th>lt feature 3</th>\n",
       "      <th>lt feature 4</th>\n",
       "      <th>size</th>\n",
       "      <th>Pollen</th>\n",
       "    </tr>\n",
       "  </thead>\n",
       "  <tbody>\n",
       "    <tr>\n",
       "      <th>count</th>\n",
       "      <td>6000.000000</td>\n",
       "      <td>6000.000000</td>\n",
       "      <td>6000.000000</td>\n",
       "      <td>6000.000000</td>\n",
       "      <td>6000.000000</td>\n",
       "      <td>6000.000000</td>\n",
       "      <td>6000.000000</td>\n",
       "      <td>6000.000000</td>\n",
       "      <td>6000.000000</td>\n",
       "      <td>6000.000000</td>\n",
       "      <td>...</td>\n",
       "      <td>6000.000000</td>\n",
       "      <td>6000.000000</td>\n",
       "      <td>6000.000000</td>\n",
       "      <td>6000.000000</td>\n",
       "      <td>6000.000000</td>\n",
       "      <td>6000.000000</td>\n",
       "      <td>6000.000000</td>\n",
       "      <td>6000.000000</td>\n",
       "      <td>6000.000000</td>\n",
       "      <td>6000.00000</td>\n",
       "    </tr>\n",
       "    <tr>\n",
       "      <th>mean</th>\n",
       "      <td>0.017517</td>\n",
       "      <td>0.116549</td>\n",
       "      <td>0.228131</td>\n",
       "      <td>0.380130</td>\n",
       "      <td>0.584314</td>\n",
       "      <td>0.775178</td>\n",
       "      <td>0.910941</td>\n",
       "      <td>0.910821</td>\n",
       "      <td>0.801408</td>\n",
       "      <td>0.611507</td>\n",
       "      <td>...</td>\n",
       "      <td>0.011211</td>\n",
       "      <td>0.008374</td>\n",
       "      <td>0.005143</td>\n",
       "      <td>0.002536</td>\n",
       "      <td>0.732468</td>\n",
       "      <td>0.909214</td>\n",
       "      <td>0.413923</td>\n",
       "      <td>0.003213</td>\n",
       "      <td>26.665765</td>\n",
       "      <td>5.50000</td>\n",
       "    </tr>\n",
       "    <tr>\n",
       "      <th>std</th>\n",
       "      <td>0.060886</td>\n",
       "      <td>0.094822</td>\n",
       "      <td>0.130609</td>\n",
       "      <td>0.177075</td>\n",
       "      <td>0.196820</td>\n",
       "      <td>0.178155</td>\n",
       "      <td>0.130429</td>\n",
       "      <td>0.122533</td>\n",
       "      <td>0.157971</td>\n",
       "      <td>0.179970</td>\n",
       "      <td>...</td>\n",
       "      <td>0.042358</td>\n",
       "      <td>0.034213</td>\n",
       "      <td>0.037061</td>\n",
       "      <td>0.025813</td>\n",
       "      <td>0.262197</td>\n",
       "      <td>0.184189</td>\n",
       "      <td>0.290376</td>\n",
       "      <td>0.201566</td>\n",
       "      <td>10.263375</td>\n",
       "      <td>3.45234</td>\n",
       "    </tr>\n",
       "    <tr>\n",
       "      <th>min</th>\n",
       "      <td>-0.175501</td>\n",
       "      <td>-0.143263</td>\n",
       "      <td>-0.176747</td>\n",
       "      <td>-0.178489</td>\n",
       "      <td>-0.117258</td>\n",
       "      <td>-0.007024</td>\n",
       "      <td>-0.091754</td>\n",
       "      <td>0.028803</td>\n",
       "      <td>0.029040</td>\n",
       "      <td>-0.060012</td>\n",
       "      <td>...</td>\n",
       "      <td>-0.309491</td>\n",
       "      <td>-0.195296</td>\n",
       "      <td>-0.372986</td>\n",
       "      <td>-0.204319</td>\n",
       "      <td>-4.160000</td>\n",
       "      <td>-2.641791</td>\n",
       "      <td>-6.440000</td>\n",
       "      <td>-6.840000</td>\n",
       "      <td>3.846422</td>\n",
       "      <td>0.00000</td>\n",
       "    </tr>\n",
       "    <tr>\n",
       "      <th>25%</th>\n",
       "      <td>-0.010396</td>\n",
       "      <td>0.050551</td>\n",
       "      <td>0.137947</td>\n",
       "      <td>0.261260</td>\n",
       "      <td>0.453875</td>\n",
       "      <td>0.674653</td>\n",
       "      <td>0.865714</td>\n",
       "      <td>0.865383</td>\n",
       "      <td>0.713024</td>\n",
       "      <td>0.496894</td>\n",
       "      <td>...</td>\n",
       "      <td>-0.006677</td>\n",
       "      <td>-0.005947</td>\n",
       "      <td>-0.008715</td>\n",
       "      <td>-0.006717</td>\n",
       "      <td>0.547663</td>\n",
       "      <td>0.891869</td>\n",
       "      <td>0.234235</td>\n",
       "      <td>-0.018073</td>\n",
       "      <td>19.276681</td>\n",
       "      <td>2.75000</td>\n",
       "    </tr>\n",
       "    <tr>\n",
       "      <th>50%</th>\n",
       "      <td>-0.004223</td>\n",
       "      <td>0.102778</td>\n",
       "      <td>0.218922</td>\n",
       "      <td>0.381167</td>\n",
       "      <td>0.600047</td>\n",
       "      <td>0.811306</td>\n",
       "      <td>0.971295</td>\n",
       "      <td>0.957748</td>\n",
       "      <td>0.821544</td>\n",
       "      <td>0.612681</td>\n",
       "      <td>...</td>\n",
       "      <td>0.005056</td>\n",
       "      <td>0.003645</td>\n",
       "      <td>0.002191</td>\n",
       "      <td>0.000730</td>\n",
       "      <td>0.769307</td>\n",
       "      <td>1.000000</td>\n",
       "      <td>0.373987</td>\n",
       "      <td>0.002263</td>\n",
       "      <td>27.351871</td>\n",
       "      <td>5.50000</td>\n",
       "    </tr>\n",
       "    <tr>\n",
       "      <th>75%</th>\n",
       "      <td>0.024868</td>\n",
       "      <td>0.166018</td>\n",
       "      <td>0.307255</td>\n",
       "      <td>0.501112</td>\n",
       "      <td>0.725851</td>\n",
       "      <td>0.908214</td>\n",
       "      <td>1.000000</td>\n",
       "      <td>1.000000</td>\n",
       "      <td>0.923795</td>\n",
       "      <td>0.733390</td>\n",
       "      <td>...</td>\n",
       "      <td>0.019328</td>\n",
       "      <td>0.014721</td>\n",
       "      <td>0.013456</td>\n",
       "      <td>0.007887</td>\n",
       "      <td>1.000000</td>\n",
       "      <td>1.000000</td>\n",
       "      <td>0.570330</td>\n",
       "      <td>0.028768</td>\n",
       "      <td>33.823423</td>\n",
       "      <td>8.25000</td>\n",
       "    </tr>\n",
       "    <tr>\n",
       "      <th>max</th>\n",
       "      <td>1.000000</td>\n",
       "      <td>0.920714</td>\n",
       "      <td>0.827468</td>\n",
       "      <td>0.986451</td>\n",
       "      <td>1.000000</td>\n",
       "      <td>1.000000</td>\n",
       "      <td>1.000000</td>\n",
       "      <td>1.000000</td>\n",
       "      <td>1.000000</td>\n",
       "      <td>1.000000</td>\n",
       "      <td>...</td>\n",
       "      <td>0.389610</td>\n",
       "      <td>0.268398</td>\n",
       "      <td>0.378882</td>\n",
       "      <td>0.173759</td>\n",
       "      <td>1.000000</td>\n",
       "      <td>1.000000</td>\n",
       "      <td>1.000000</td>\n",
       "      <td>1.000000</td>\n",
       "      <td>81.568689</td>\n",
       "      <td>11.00000</td>\n",
       "    </tr>\n",
       "  </tbody>\n",
       "</table>\n",
       "<p>8 rows × 2630 columns</p>\n",
       "</div>"
      ],
      "text/plain": [
       "       350 nm, t=0  364 nm, t=0  379 nm, t=0  393 nm, t=0  408 nm, t=0  \\\n",
       "count  6000.000000  6000.000000  6000.000000  6000.000000  6000.000000   \n",
       "mean      0.017517     0.116549     0.228131     0.380130     0.584314   \n",
       "std       0.060886     0.094822     0.130609     0.177075     0.196820   \n",
       "min      -0.175501    -0.143263    -0.176747    -0.178489    -0.117258   \n",
       "25%      -0.010396     0.050551     0.137947     0.261260     0.453875   \n",
       "50%      -0.004223     0.102778     0.218922     0.381167     0.600047   \n",
       "75%       0.024868     0.166018     0.307255     0.501112     0.725851   \n",
       "max       1.000000     0.920714     0.827468     0.986451     1.000000   \n",
       "\n",
       "       422 nm, t=0  437 nm, t=0  451 nm, t=0  466 nm, t=0  480 nm, t=0  ...  \\\n",
       "count  6000.000000  6000.000000  6000.000000  6000.000000  6000.000000  ...   \n",
       "mean      0.775178     0.910941     0.910821     0.801408     0.611507  ...   \n",
       "std       0.178155     0.130429     0.122533     0.157971     0.179970  ...   \n",
       "min      -0.007024    -0.091754     0.028803     0.029040    -0.060012  ...   \n",
       "25%       0.674653     0.865714     0.865383     0.713024     0.496894  ...   \n",
       "50%       0.811306     0.971295     0.957748     0.821544     0.612681  ...   \n",
       "75%       0.908214     1.000000     1.000000     0.923795     0.733390  ...   \n",
       "max       1.000000     1.000000     1.000000     1.000000     1.000000  ...   \n",
       "\n",
       "       672-800 nm, t=20  672-800 nm, t=21  672-800 nm, t=22  672-800 nm, t=23  \\\n",
       "count       6000.000000       6000.000000       6000.000000       6000.000000   \n",
       "mean           0.011211          0.008374          0.005143          0.002536   \n",
       "std            0.042358          0.034213          0.037061          0.025813   \n",
       "min           -0.309491         -0.195296         -0.372986         -0.204319   \n",
       "25%           -0.006677         -0.005947         -0.008715         -0.006717   \n",
       "50%            0.005056          0.003645          0.002191          0.000730   \n",
       "75%            0.019328          0.014721          0.013456          0.007887   \n",
       "max            0.389610          0.268398          0.378882          0.173759   \n",
       "\n",
       "       lt feature 1  lt feature 2  lt feature 3  lt feature 4         size  \\\n",
       "count   6000.000000   6000.000000   6000.000000   6000.000000  6000.000000   \n",
       "mean       0.732468      0.909214      0.413923      0.003213    26.665765   \n",
       "std        0.262197      0.184189      0.290376      0.201566    10.263375   \n",
       "min       -4.160000     -2.641791     -6.440000     -6.840000     3.846422   \n",
       "25%        0.547663      0.891869      0.234235     -0.018073    19.276681   \n",
       "50%        0.769307      1.000000      0.373987      0.002263    27.351871   \n",
       "75%        1.000000      1.000000      0.570330      0.028768    33.823423   \n",
       "max        1.000000      1.000000      1.000000      1.000000    81.568689   \n",
       "\n",
       "           Pollen  \n",
       "count  6000.00000  \n",
       "mean      5.50000  \n",
       "std       3.45234  \n",
       "min       0.00000  \n",
       "25%       2.75000  \n",
       "50%       5.50000  \n",
       "75%       8.25000  \n",
       "max      11.00000  \n",
       "\n",
       "[8 rows x 2630 columns]"
      ]
     },
     "execution_count": 22,
     "metadata": {},
     "output_type": "execute_result"
    }
   ],
   "source": [
    "train_data.describe()"
   ]
  },
  {
   "cell_type": "code",
   "execution_count": 23,
   "id": "59292be1",
   "metadata": {},
   "outputs": [
    {
     "name": "stdout",
     "output_type": "stream",
     "text": [
      "<class 'pandas.core.frame.DataFrame'>\n",
      "Int64Index: 6000 entries, 0 to 5999\n",
      "Columns: 2630 entries, 350 nm, t=0 to Pollen\n",
      "dtypes: float64(2629), int64(1)\n",
      "memory usage: 120.6 MB\n"
     ]
    }
   ],
   "source": [
    "train_data.info()"
   ]
  },
  {
   "cell_type": "code",
   "execution_count": 24,
   "id": "46f92311",
   "metadata": {},
   "outputs": [
    {
     "data": {
      "text/plain": [
       "0"
      ]
     },
     "execution_count": 24,
     "metadata": {},
     "output_type": "execute_result"
    }
   ],
   "source": [
    "broj = 0 #ovde gledam koliko ukupno ima nedostajucih vrednosti\n",
    "for i in range(train_data.shape[1]):\n",
    "    broj = broj + train_data.isnull().sum()[i]\n",
    "broj"
   ]
  },
  {
   "cell_type": "code",
   "execution_count": 25,
   "id": "a5c02edc",
   "metadata": {},
   "outputs": [
    {
     "data": {
      "text/plain": [
       "(6000, 2629)"
      ]
     },
     "execution_count": 25,
     "metadata": {},
     "output_type": "execute_result"
    }
   ],
   "source": [
    "train_no_labels = train_data.drop(['Pollen'], axis=1)\n",
    "train_no_labels.shape"
   ]
  },
  {
   "cell_type": "code",
   "execution_count": 26,
   "id": "63d1482e",
   "metadata": {},
   "outputs": [],
   "source": [
    "X=train_no_labels\n",
    "y=train_data[\"Pollen\"]"
   ]
  },
  {
   "cell_type": "markdown",
   "id": "3dd503e6",
   "metadata": {},
   "source": [
    "# Random Forest:"
   ]
  },
  {
   "cell_type": "markdown",
   "id": "dc2ccd71",
   "metadata": {},
   "source": [
    "hyperparameter tuning:"
   ]
  },
  {
   "cell_type": "code",
   "execution_count": 27,
   "id": "9eaaaed5",
   "metadata": {},
   "outputs": [
    {
     "name": "stdout",
     "output_type": "stream",
     "text": [
      "Random Forest classifier - Grid search for parameters with cross validation\n",
      "Parameters of best score {'criterion': 'gini', 'n_estimators': 20}\n",
      "Best score 0.46133333333333343\n"
     ]
    }
   ],
   "source": [
    "print(\"Random Forest classifier - Grid search for parameters with cross validation\")\n",
    "\n",
    "parameters = {'n_estimators':[5, 10, 12, 13, 20],\n",
    "              'criterion':['gini', 'entropy', 'log_loss']}\n",
    "\n",
    "gs = model_selection.GridSearchCV(estimator=RandomForestClassifier(random_state=0,n_jobs=-1), param_grid=parameters, cv=10)\n",
    "gs.fit(X,y)\n",
    "print(\"Parameters of best score\", gs.best_params_)\n",
    "print(\"Best score\", gs.best_score_)"
   ]
  },
  {
   "cell_type": "code",
   "execution_count": 28,
   "id": "61daed70",
   "metadata": {},
   "outputs": [
    {
     "name": "stdout",
     "output_type": "stream",
     "text": [
      "RandomForest - Grid search for parameters with cross validation nested in outer cross validation \n",
      "Fold  0 Prameters of best {'criterion': 'entropy', 'n_estimators': 20} \tBest score 0.458125\n",
      "Fold  1 Prameters of best {'criterion': 'gini', 'n_estimators': 20} \tBest score 0.4429166666666666\n",
      "Fold  2 Prameters of best {'criterion': 'gini', 'n_estimators': 20} \tBest score 0.44229166666666664\n"
     ]
    }
   ],
   "source": [
    "#opet radimo vanjsku krosvalidaciju\n",
    "\n",
    "print(\"RandomForest - Grid search for parameters with cross validation nested in outer cross validation \")\n",
    "cv_outer = model_selection.ShuffleSplit(3, test_size=0.20, random_state=0)\n",
    "for i, (train_index, test_index) in enumerate(cv_outer.split(X,y)):\n",
    "    gs.fit(X.iloc[train_index], y.iloc[train_index])\n",
    "    print(\"Fold \", i, \"Prameters of best\", gs.best_params_, \"\\tBest score\", gs.best_score_)"
   ]
  },
  {
   "cell_type": "code",
   "execution_count": 29,
   "id": "db2005c6",
   "metadata": {},
   "outputs": [],
   "source": [
    "X_train, X_test, y_train, y_test = train_test_split(X, y, test_size=0.2, random_state=0)"
   ]
  },
  {
   "cell_type": "code",
   "execution_count": 30,
   "id": "6ab164b4",
   "metadata": {},
   "outputs": [
    {
     "name": "stdout",
     "output_type": "stream",
     "text": [
      "Random Forest classifier\n",
      "Misclassified samples: 672\n",
      "Accuracy 0.44\n",
      "F1 score 0.4312299209314591\n"
     ]
    }
   ],
   "source": [
    "print('Random Forest classifier')\n",
    "forest = RandomForestClassifier(criterion='gini', n_estimators=20, random_state=0,n_jobs=-1)\n",
    "\n",
    "forest.fit(X_train, y_train)\n",
    "y_pred = forest.predict(X_test)\n",
    "\n",
    "print('Misclassified samples: %d' % (y_test != y_pred).sum())\n",
    "\n",
    "accuracy = metrics.accuracy_score(y_test, y_pred)\n",
    "print('Accuracy', accuracy)\n",
    "\n",
    "f1 = metrics.f1_score(y_test, y_pred,average='macro') \n",
    "print('F1 score', f1)"
   ]
  },
  {
   "cell_type": "code",
   "execution_count": 31,
   "id": "22dbda8a",
   "metadata": {},
   "outputs": [],
   "source": [
    "y_pred2 = forest.predict(test_data)"
   ]
  },
  {
   "cell_type": "code",
   "execution_count": 32,
   "id": "aef18584",
   "metadata": {},
   "outputs": [],
   "source": [
    "os.chdir(\"D:\\\\Maja\\\\LSDM\\\\Projekat\")\n",
    "submission=pd.read_csv('submission.csv')\n",
    "submission['Pollen']=y_pred2\n",
    "submission = submission.set_index('ID')"
   ]
  },
  {
   "cell_type": "code",
   "execution_count": 33,
   "id": "d5febd1b",
   "metadata": {},
   "outputs": [
    {
     "data": {
      "text/html": [
       "<div>\n",
       "<style scoped>\n",
       "    .dataframe tbody tr th:only-of-type {\n",
       "        vertical-align: middle;\n",
       "    }\n",
       "\n",
       "    .dataframe tbody tr th {\n",
       "        vertical-align: top;\n",
       "    }\n",
       "\n",
       "    .dataframe thead th {\n",
       "        text-align: right;\n",
       "    }\n",
       "</style>\n",
       "<table border=\"1\" class=\"dataframe\">\n",
       "  <thead>\n",
       "    <tr style=\"text-align: right;\">\n",
       "      <th></th>\n",
       "      <th>Pollen</th>\n",
       "    </tr>\n",
       "    <tr>\n",
       "      <th>ID</th>\n",
       "      <th></th>\n",
       "    </tr>\n",
       "  </thead>\n",
       "  <tbody>\n",
       "    <tr>\n",
       "      <th>0</th>\n",
       "      <td>9</td>\n",
       "    </tr>\n",
       "    <tr>\n",
       "      <th>1</th>\n",
       "      <td>3</td>\n",
       "    </tr>\n",
       "    <tr>\n",
       "      <th>2</th>\n",
       "      <td>5</td>\n",
       "    </tr>\n",
       "    <tr>\n",
       "      <th>3</th>\n",
       "      <td>3</td>\n",
       "    </tr>\n",
       "    <tr>\n",
       "      <th>4</th>\n",
       "      <td>6</td>\n",
       "    </tr>\n",
       "  </tbody>\n",
       "</table>\n",
       "</div>"
      ],
      "text/plain": [
       "    Pollen\n",
       "ID        \n",
       "0        9\n",
       "1        3\n",
       "2        5\n",
       "3        3\n",
       "4        6"
      ]
     },
     "execution_count": 33,
     "metadata": {},
     "output_type": "execute_result"
    }
   ],
   "source": [
    "submission.head()"
   ]
  },
  {
   "cell_type": "markdown",
   "id": "059ab5b9",
   "metadata": {},
   "source": [
    "submission.to_csv('sf28.csv') - tacnost na kaggle-u: 37.6%"
   ]
  },
  {
   "cell_type": "markdown",
   "id": "c0dfed2f",
   "metadata": {},
   "source": [
    "# XGBClassifier"
   ]
  },
  {
   "cell_type": "code",
   "execution_count": 34,
   "id": "3a5868b2",
   "metadata": {},
   "outputs": [],
   "source": [
    "#NORMALIZACIJA PODATAKA:\n",
    "\n",
    "sc = preprocessing.MinMaxScaler() \n",
    "sc.fit(X_train)\n",
    "\n",
    "X_train_std = sc.transform(X_train)\n",
    "\n",
    "X_test_std = sc.transform(X_test)"
   ]
  },
  {
   "cell_type": "code",
   "execution_count": 35,
   "id": "6d56aa9f",
   "metadata": {},
   "outputs": [
    {
     "name": "stdout",
     "output_type": "stream",
     "text": [
      "XGBClassifier\n",
      "Misclassified samples: 536\n",
      "Accuracy 0.5533333333333333\n",
      "F1 score 0.5510738016848065\n"
     ]
    }
   ],
   "source": [
    "print('XGBClassifier')\n",
    "xgb_clf = XGBClassifier()\n",
    " \n",
    "xgb_clf.fit(X_train_std, y_train)\n",
    "y_pred = xgb_clf.predict(X_test_std)\n",
    "\n",
    "print('Misclassified samples: %d' % (y_test != y_pred).sum())\n",
    "accuracy = metrics.accuracy_score(y_test, y_pred)\n",
    "\n",
    "print('Accuracy', accuracy)\n",
    "f1 = metrics.f1_score(y_test, y_pred,average='macro') \n",
    "print('F1 score', f1)"
   ]
  },
  {
   "cell_type": "code",
   "execution_count": 36,
   "id": "a9d4c3e5",
   "metadata": {},
   "outputs": [],
   "source": [
    "test_std = sc.transform(test_data)"
   ]
  },
  {
   "cell_type": "code",
   "execution_count": 37,
   "id": "8de16187",
   "metadata": {},
   "outputs": [],
   "source": [
    "y_pred3 = xgb_clf.predict(test_std)"
   ]
  },
  {
   "cell_type": "code",
   "execution_count": 38,
   "id": "5a4d41ca",
   "metadata": {},
   "outputs": [],
   "source": [
    "os.chdir(\"D:\\\\Maja\\\\LSDM\\\\Projekat\")\n",
    "submission=pd.read_csv('submission.csv')\n",
    "submission['Pollen']=y_pred3\n",
    "submission = submission.set_index('ID')"
   ]
  },
  {
   "cell_type": "code",
   "execution_count": 39,
   "id": "6fb4358f",
   "metadata": {},
   "outputs": [
    {
     "data": {
      "text/html": [
       "<div>\n",
       "<style scoped>\n",
       "    .dataframe tbody tr th:only-of-type {\n",
       "        vertical-align: middle;\n",
       "    }\n",
       "\n",
       "    .dataframe tbody tr th {\n",
       "        vertical-align: top;\n",
       "    }\n",
       "\n",
       "    .dataframe thead th {\n",
       "        text-align: right;\n",
       "    }\n",
       "</style>\n",
       "<table border=\"1\" class=\"dataframe\">\n",
       "  <thead>\n",
       "    <tr style=\"text-align: right;\">\n",
       "      <th></th>\n",
       "      <th>Pollen</th>\n",
       "    </tr>\n",
       "    <tr>\n",
       "      <th>ID</th>\n",
       "      <th></th>\n",
       "    </tr>\n",
       "  </thead>\n",
       "  <tbody>\n",
       "    <tr>\n",
       "      <th>0</th>\n",
       "      <td>9</td>\n",
       "    </tr>\n",
       "    <tr>\n",
       "      <th>1</th>\n",
       "      <td>9</td>\n",
       "    </tr>\n",
       "    <tr>\n",
       "      <th>2</th>\n",
       "      <td>0</td>\n",
       "    </tr>\n",
       "    <tr>\n",
       "      <th>3</th>\n",
       "      <td>3</td>\n",
       "    </tr>\n",
       "    <tr>\n",
       "      <th>4</th>\n",
       "      <td>6</td>\n",
       "    </tr>\n",
       "  </tbody>\n",
       "</table>\n",
       "</div>"
      ],
      "text/plain": [
       "    Pollen\n",
       "ID        \n",
       "0        9\n",
       "1        9\n",
       "2        0\n",
       "3        3\n",
       "4        6"
      ]
     },
     "execution_count": 39,
     "metadata": {},
     "output_type": "execute_result"
    }
   ],
   "source": [
    "submission.head()"
   ]
  },
  {
   "cell_type": "markdown",
   "id": "83b9457c",
   "metadata": {},
   "source": [
    "submission.to_csv('sf30.csv') - tačnost na kaggle-u: 52.1%"
   ]
  },
  {
   "cell_type": "code",
   "execution_count": null,
   "id": "b7cf74a4",
   "metadata": {},
   "outputs": [],
   "source": []
  }
 ],
 "metadata": {
  "kernelspec": {
   "display_name": "Python 3",
   "language": "python",
   "name": "python3"
  },
  "language_info": {
   "codemirror_mode": {
    "name": "ipython",
    "version": 3
   },
   "file_extension": ".py",
   "mimetype": "text/x-python",
   "name": "python",
   "nbconvert_exporter": "python",
   "pygments_lexer": "ipython3",
   "version": "3.8.8"
  }
 },
 "nbformat": 4,
 "nbformat_minor": 5
}
