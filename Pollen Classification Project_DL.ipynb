{
 "cells": [
  {
   "cell_type": "code",
   "execution_count": 209,
   "id": "54941a4b",
   "metadata": {},
   "outputs": [],
   "source": [
    "import keras\n",
    "from keras import models\n",
    "from keras import layers\n",
    "from keras.utils import to_categorical\n",
    "from keras import optimizers\n",
    "from keras import losses\n",
    "from keras import metrics\n",
    "from keras.models import Sequential\n",
    "from keras.layers import Dense, Conv2D, Flatten, MaxPooling2D, Dropout\n",
    "from sklearn.preprocessing import StandardScaler\n",
    "import tensorflow as tf\n",
    "from keras import regularizers\n",
    "from keras.layers import BatchNormalization\n",
    "from sklearn.model_selection import GridSearchCV\n",
    "from keras.wrappers.scikit_learn import KerasClassifier\n",
    "from keras.optimizers import Nadam, Adam, SGD, RMSprop\n",
    "from tensorflow.keras.models import Model\n",
    "\n",
    "\n",
    "import os\n",
    "import numpy as np\n",
    "import matplotlib.pyplot as plt\n",
    "import seaborn as sns\n",
    "import pandas as pd\n",
    "from sklearn.model_selection import train_test_split\n",
    "\n",
    "from sklearn import preprocessing\n",
    "\n",
    "import sys\n",
    "import warnings\n",
    "if not sys.warnoptions:\n",
    "    warnings.simplefilter(\"ignore\")\n",
    "from sklearn import metrics\n",
    "from sklearn import model_selection\n",
    "\n",
    "import random\n",
    "from sklearn.utils import shuffle\n",
    "\n",
    "from sklearn.preprocessing import MinMaxScaler\n",
    "from sklearn.ensemble import GradientBoostingClassifier"
   ]
  },
  {
   "cell_type": "code",
   "execution_count": 2,
   "id": "b064f715",
   "metadata": {},
   "outputs": [],
   "source": [
    "os.chdir(\"D:\\\\Maja\\\\LSDM\\\\Projekat\\\\train\")\n",
    "training_data1 = pd.read_csv('spectrum.csv')\n",
    "training_data2 = pd.read_csv('scattering.csv')\n",
    "training_data3 = pd.read_csv('lifetime.csv')\n",
    "\n",
    "train_labels = pd.read_csv('train_labels.csv')"
   ]
  },
  {
   "cell_type": "code",
   "execution_count": 3,
   "id": "3999d2b2",
   "metadata": {},
   "outputs": [],
   "source": [
    "training_data1 = training_data1.set_index('ID')\n",
    "training_data2 = training_data2.set_index('ID')\n",
    "training_data3 = training_data3.set_index('ID')"
   ]
  },
  {
   "cell_type": "code",
   "execution_count": 39,
   "id": "90077806",
   "metadata": {},
   "outputs": [],
   "source": [
    "sc = preprocessing.StandardScaler() \n",
    "training_data1_norm = pd.DataFrame(sc.fit_transform(training_data1))\n",
    "training_data2_norm = pd.DataFrame(sc.fit_transform(training_data2))\n",
    "training_data3_norm = pd.DataFrame(sc.fit_transform(training_data3))"
   ]
  },
  {
   "cell_type": "code",
   "execution_count": 66,
   "id": "c1c12a89",
   "metadata": {},
   "outputs": [],
   "source": [
    "os.chdir(\"D:\\\\Maja\\\\LSDM\\\\Projekat\\\\test\")\n",
    "test_data1 = pd.read_csv('tspectrum.csv')\n",
    "test_data2 = pd.read_csv('tscattering.csv')\n",
    "test_data3 = pd.read_csv('tlifetime.csv')"
   ]
  },
  {
   "cell_type": "code",
   "execution_count": 67,
   "id": "e6c5d473",
   "metadata": {},
   "outputs": [],
   "source": [
    "test_data1=test_data1.set_index('ID')\n",
    "test_data2=test_data2.set_index('ID')\n",
    "test_data3=test_data3.set_index('ID')"
   ]
  },
  {
   "cell_type": "code",
   "execution_count": 68,
   "id": "2aec8388",
   "metadata": {},
   "outputs": [],
   "source": [
    "test_data1_norm = pd.DataFrame(sc.fit_transform(test_data1))\n",
    "test_data2_norm = pd.DataFrame(sc.fit_transform(test_data2))\n",
    "test_data3_norm = pd.DataFrame(sc.fit_transform(test_data3))"
   ]
  },
  {
   "cell_type": "markdown",
   "id": "877345b1",
   "metadata": {},
   "source": [
    "# Transform into images"
   ]
  },
  {
   "cell_type": "code",
   "execution_count": 5,
   "id": "5ebb6b93",
   "metadata": {},
   "outputs": [
    {
     "name": "stdout",
     "output_type": "stream",
     "text": [
      "(4, 32)\n"
     ]
    },
    {
     "data": {
      "image/png": "[encoded data removed]",
      "text/plain": [
       "<Figure size 1440x720 with 1 Axes>"
      ]
     },
     "metadata": {
      "needs_background": "light"
     },
     "output_type": "display_data"
    }
   ],
   "source": [
    "#spectrum\n",
    "sample_one = np.array(training_data1_norm.iloc[0, :]).reshape(4,32)\n",
    "print(sample_one.shape)\n",
    "\n",
    "plt.figure(figsize=((20, 10)))\n",
    "plt.imshow(sample_one)\n",
    "plt.show()"
   ]
  },
  {
   "cell_type": "code",
   "execution_count": 6,
   "id": "4990e459",
   "metadata": {},
   "outputs": [],
   "source": [
    "training_data1_transformed = [np.array(training_data1_norm.iloc[i, :]).reshape(4,32) for i in range(training_data1_norm.shape[0])]"
   ]
  },
  {
   "cell_type": "code",
   "execution_count": 40,
   "id": "e835806e",
   "metadata": {},
   "outputs": [
    {
     "name": "stdout",
     "output_type": "stream",
     "text": [
      "(20, 120)\n"
     ]
    },
    {
     "data": {
      "image/png": "[encoded data removed]",
      "text/plain": [
       "<Figure size 1440x720 with 1 Axes>"
      ]
     },
     "metadata": {
      "needs_background": "light"
     },
     "output_type": "display_data"
    }
   ],
   "source": [
    "#scattering\n",
    "sample_one = np.array(training_data2_norm.iloc[0, :]).reshape(20, 120)\n",
    "print(sample_one.shape)\n",
    "\n",
    "plt.figure(figsize=((20, 10)))\n",
    "plt.imshow(sample_one)\n",
    "plt.show()"
   ]
  },
  {
   "cell_type": "code",
   "execution_count": 41,
   "id": "7a6cd611",
   "metadata": {},
   "outputs": [],
   "source": [
    "training_data2_transformed = [np.array(training_data2_norm.iloc[i, :]).reshape(20, 120) for i in range(training_data2_norm.shape[0])]"
   ]
  },
  {
   "cell_type": "code",
   "execution_count": 46,
   "id": "7d4c08ac",
   "metadata": {},
   "outputs": [
    {
     "name": "stdout",
     "output_type": "stream",
     "text": [
      "(4, 24)\n"
     ]
    },
    {
     "data": {
      "image/png": "[encoded data removed]",
      "text/plain": [
       "<Figure size 1440x720 with 1 Axes>"
      ]
     },
     "metadata": {
      "needs_background": "light"
     },
     "output_type": "display_data"
    }
   ],
   "source": [
    "#lifetime\n",
    "sample_one = np.array(training_data3_norm.iloc[0, :]).reshape(4,24)\n",
    "print(sample_one.shape)\n",
    "\n",
    "plt.figure(figsize=((20, 10)))\n",
    "plt.imshow(sample_one)\n",
    "plt.show()"
   ]
  },
  {
   "cell_type": "code",
   "execution_count": 47,
   "id": "bae114ed",
   "metadata": {},
   "outputs": [],
   "source": [
    "training_data3_transformed = [np.array(training_data3_norm.iloc[i, :]).reshape(4, 24) for i in range(training_data3_norm.shape[0])]"
   ]
  },
  {
   "cell_type": "code",
   "execution_count": 69,
   "id": "28ace3d0",
   "metadata": {},
   "outputs": [],
   "source": [
    "test_data1_transformed = [np.array(test_data1_norm.iloc[i, :]).reshape(4,32) for i in range(test_data1_norm.shape[0])]"
   ]
  },
  {
   "cell_type": "code",
   "execution_count": 70,
   "id": "d155fc4a",
   "metadata": {},
   "outputs": [],
   "source": [
    "test_data1_trans = np.array(test_data1_transformed)"
   ]
  },
  {
   "cell_type": "code",
   "execution_count": 71,
   "id": "cfb72324",
   "metadata": {},
   "outputs": [],
   "source": [
    "test_data2_transformed = [np.array(test_data2_norm.iloc[i, :]).reshape(20, 120) for i in range(test_data2_norm.shape[0])]"
   ]
  },
  {
   "cell_type": "code",
   "execution_count": 72,
   "id": "372999ee",
   "metadata": {},
   "outputs": [],
   "source": [
    "test_data2_trans = np.array(test_data2_transformed)"
   ]
  },
  {
   "cell_type": "code",
   "execution_count": 73,
   "id": "1b3cd33b",
   "metadata": {},
   "outputs": [],
   "source": [
    "test_data3_transformed = [np.array(test_data3_norm.iloc[i, :]).reshape(4,24) for i in range(test_data3_norm.shape[0])]"
   ]
  },
  {
   "cell_type": "code",
   "execution_count": 74,
   "id": "001f7e1d",
   "metadata": {},
   "outputs": [],
   "source": [
    "test_data3_trans = np.array(test_data3_transformed)"
   ]
  },
  {
   "cell_type": "markdown",
   "id": "57f3ffa3",
   "metadata": {},
   "source": [
    "# Shuffle data"
   ]
  },
  {
   "cell_type": "code",
   "execution_count": 7,
   "id": "3ed7074f",
   "metadata": {},
   "outputs": [],
   "source": [
    "indices1 = np.array(range(training_data1_norm.shape[0]))\n",
    "\n",
    "random.seed(0)\n",
    "random.shuffle(indices1)\n",
    "\n",
    "new_data_1 = [training_data1_transformed[ind] for ind in indices1]\n",
    "new_labels_1 = [train_labels['Pollen'][ind] for ind in indices1]"
   ]
  },
  {
   "cell_type": "code",
   "execution_count": 42,
   "id": "0ac0f4e8",
   "metadata": {},
   "outputs": [],
   "source": [
    "indices_2 = np.array(range(training_data2_norm.shape[0]))\n",
    "\n",
    "random.seed(0)\n",
    "random.shuffle(indices_2)\n",
    "\n",
    "new_data_2 = [training_data2_transformed[ind] for ind in indices_2]\n",
    "new_labels_2 = [train_labels['Pollen'][ind] for ind in indices_2]"
   ]
  },
  {
   "cell_type": "code",
   "execution_count": 48,
   "id": "542d057d",
   "metadata": {},
   "outputs": [],
   "source": [
    "indices_3 = np.array(range(training_data3_norm.shape[0]))\n",
    "\n",
    "random.seed(0)\n",
    "random.shuffle(indices_3)\n",
    "\n",
    "new_data_3 = [training_data3_transformed[ind] for ind in indices_3]\n",
    "new_labels_3 = [train_labels['Pollen'][ind] for ind in indices_3]"
   ]
  },
  {
   "cell_type": "markdown",
   "id": "43c86298",
   "metadata": {},
   "source": [
    "# Split data"
   ]
  },
  {
   "cell_type": "code",
   "execution_count": 8,
   "id": "869b0c27",
   "metadata": {},
   "outputs": [],
   "source": [
    "ind1 = np.int(np.round(0.8 * len(training_data1_norm))) \n",
    "\n",
    "train_1 = new_data_1[:ind1] \n",
    "train_labels_1 = new_labels_1[:ind1]\n",
    "\n",
    "val_1 = new_data_1[ind1:] \n",
    "val_labels_1 = new_labels_1[ind1:]"
   ]
  },
  {
   "cell_type": "code",
   "execution_count": 9,
   "id": "6bb26715",
   "metadata": {},
   "outputs": [],
   "source": [
    "train_labels_1 = to_categorical(train_labels_1)\n",
    "val_labels_1 = to_categorical(val_labels_1)"
   ]
  },
  {
   "cell_type": "code",
   "execution_count": 10,
   "id": "869dcb4b",
   "metadata": {},
   "outputs": [],
   "source": [
    "train_1 = np.array(train_1).astype('float32') \n",
    "train_labels_1=np.array(train_labels_1)\n",
    "val_1 = np.array(val_1).astype('float32')\n",
    "val_labels_1=np.array(val_labels_1)"
   ]
  },
  {
   "cell_type": "code",
   "execution_count": 43,
   "id": "720b1a0f",
   "metadata": {},
   "outputs": [],
   "source": [
    "ind2 = np.int(np.round(0.8 * len(training_data2_norm)))\n",
    "\n",
    "train_2 = new_data_2[:ind2] \n",
    "train_labels_2 = new_labels_2[:ind2]\n",
    "\n",
    "val_2 = new_data_2[ind2:] \n",
    "val_labels_2 = new_labels_2[ind2:]"
   ]
  },
  {
   "cell_type": "code",
   "execution_count": 44,
   "id": "998b930c",
   "metadata": {},
   "outputs": [],
   "source": [
    "train_labels_2 = to_categorical(train_labels_2)\n",
    "val_labels_2 = to_categorical(val_labels_2)"
   ]
  },
  {
   "cell_type": "code",
   "execution_count": 45,
   "id": "21b2073b",
   "metadata": {},
   "outputs": [],
   "source": [
    "train_2 = np.array(train_2).astype('float32') \n",
    "train_labels_2 = np.array(train_labels_2)\n",
    "val_2 = np.array(val_2).astype('float32')\n",
    "val_labels_2 = np.array(val_labels_2)"
   ]
  },
  {
   "cell_type": "code",
   "execution_count": 49,
   "id": "20a34a35",
   "metadata": {},
   "outputs": [],
   "source": [
    "ind3 = np.int(np.round(0.8 * len(training_data3_norm)))\n",
    "\n",
    "train_3 = new_data_3[:ind3] \n",
    "train_labels_3 = new_labels_3[:ind3]\n",
    "\n",
    "val_3 = new_data_3[ind3:] \n",
    "val_labels_3 = new_labels_3[ind3:]"
   ]
  },
  {
   "cell_type": "code",
   "execution_count": 50,
   "id": "dca68382",
   "metadata": {},
   "outputs": [],
   "source": [
    "train_labels_3 = to_categorical(train_labels_3)\n",
    "val_labels_3 = to_categorical(val_labels_3)"
   ]
  },
  {
   "cell_type": "code",
   "execution_count": 51,
   "id": "09c17434",
   "metadata": {},
   "outputs": [],
   "source": [
    "train_3 = np.array(train_3).astype('float32') \n",
    "train_labels_3 = np.array(train_labels_3)\n",
    "val_3 = np.array(val_3).astype('float32')\n",
    "val_labels_3 = np.array(val_labels_3)"
   ]
  },
  {
   "cell_type": "markdown",
   "id": "ee437b6c",
   "metadata": {},
   "source": [
    "# The first model for spectrum"
   ]
  },
  {
   "cell_type": "code",
   "execution_count": 82,
   "id": "7f4ff3e9",
   "metadata": {},
   "outputs": [],
   "source": [
    "model1 = models.Sequential()\n",
    "model1.add(layers.Conv2D(32, (3,3), activation='relu', kernel_regularizer=regularizers.l2(0.001), input_shape=(4,32,1)))\n",
    "model1.add(layers.MaxPooling2D((2, 2)))\n",
    "\n",
    "model1.add(layers.Conv2D(16, (1,1), activation='relu', kernel_regularizer=regularizers.l2(0.001)))\n",
    "model1.add(layers.MaxPooling2D((1, 1)))\n",
    "\n",
    "model1.add(layers.Conv2D(16, (1,1), activation='relu',kernel_regularizer=regularizers.l2(0.001)))\n",
    "\n",
    "model1.add(layers.Flatten())\n",
    "\n",
    "model1.add(layers.Dense(32, activation='relu'))\n",
    "\n",
    "model1.add(layers.Dense(12, activation='softmax'))"
   ]
  },
  {
   "cell_type": "code",
   "execution_count": 83,
   "id": "874c22d8",
   "metadata": {},
   "outputs": [
    {
     "name": "stdout",
     "output_type": "stream",
     "text": [
      "Model: \"sequential_15\"\n",
      "_________________________________________________________________\n",
      " Layer (type)                Output Shape              Param #   \n",
      "=================================================================\n",
      " conv2d_45 (Conv2D)          (None, 2, 30, 32)         320       \n",
      "                                                                 \n",
      " max_pooling2d_30 (MaxPoolin  (None, 1, 15, 32)        0         \n",
      " g2D)                                                            \n",
      "                                                                 \n",
      " conv2d_46 (Conv2D)          (None, 1, 15, 16)         528       \n",
      "                                                                 \n",
      " max_pooling2d_31 (MaxPoolin  (None, 1, 15, 16)        0         \n",
      " g2D)                                                            \n",
      "                                                                 \n",
      " conv2d_47 (Conv2D)          (None, 1, 15, 16)         272       \n",
      "                                                                 \n",
      " flatten_15 (Flatten)        (None, 240)               0         \n",
      "                                                                 \n",
      " dense_30 (Dense)            (None, 32)                7712      \n",
      "                                                                 \n",
      " dense_31 (Dense)            (None, 12)                396       \n",
      "                                                                 \n",
      "=================================================================\n",
      "Total params: 9,228\n",
      "Trainable params: 9,228\n",
      "Non-trainable params: 0\n",
      "_________________________________________________________________\n"
     ]
    }
   ],
   "source": [
    "model1.summary()"
   ]
  },
  {
   "cell_type": "code",
   "execution_count": 84,
   "id": "012492a9",
   "metadata": {},
   "outputs": [],
   "source": [
    "model1.compile(optimizer='adam',         \n",
    "              loss='categorical_crossentropy',\n",
    "              metrics=['accuracy'])"
   ]
  },
  {
   "cell_type": "code",
   "execution_count": 85,
   "id": "dad6d081",
   "metadata": {},
   "outputs": [
    {
     "name": "stdout",
     "output_type": "stream",
     "text": [
      "Epoch 1/20\n",
      "12/12 [==============================] - 2s 54ms/step - loss: 2.5214 - accuracy: 0.0838 - val_loss: 2.5074 - val_accuracy: 0.1167\n",
      "Epoch 2/20\n",
      "12/12 [==============================] - 0s 33ms/step - loss: 2.4858 - accuracy: 0.1481 - val_loss: 2.4741 - val_accuracy: 0.1592\n",
      "Epoch 3/20\n",
      "12/12 [==============================] - 0s 29ms/step - loss: 2.4328 - accuracy: 0.1844 - val_loss: 2.4020 - val_accuracy: 0.2000\n",
      "Epoch 4/20\n",
      "12/12 [==============================] - 0s 33ms/step - loss: 2.3389 - accuracy: 0.2229 - val_loss: 2.2960 - val_accuracy: 0.2233\n",
      "Epoch 5/20\n",
      "12/12 [==============================] - 1s 43ms/step - loss: 2.2210 - accuracy: 0.2417 - val_loss: 2.2000 - val_accuracy: 0.2533\n",
      "Epoch 6/20\n",
      "12/12 [==============================] - 1s 44ms/step - loss: 2.1323 - accuracy: 0.2654 - val_loss: 2.1496 - val_accuracy: 0.2758\n",
      "Epoch 7/20\n",
      "12/12 [==============================] - 0s 31ms/step - loss: 2.0727 - accuracy: 0.2967 - val_loss: 2.1018 - val_accuracy: 0.2850\n",
      "Epoch 8/20\n",
      "12/12 [==============================] - 0s 31ms/step - loss: 2.0337 - accuracy: 0.3146 - val_loss: 2.0692 - val_accuracy: 0.2900\n",
      "Epoch 9/20\n",
      "12/12 [==============================] - 0s 32ms/step - loss: 2.0047 - accuracy: 0.3288 - val_loss: 2.0486 - val_accuracy: 0.3042\n",
      "Epoch 10/20\n",
      "12/12 [==============================] - 0s 29ms/step - loss: 1.9806 - accuracy: 0.3358 - val_loss: 2.0328 - val_accuracy: 0.3100\n",
      "Epoch 11/20\n",
      "12/12 [==============================] - 0s 29ms/step - loss: 1.9620 - accuracy: 0.3442 - val_loss: 2.0190 - val_accuracy: 0.3242\n",
      "Epoch 12/20\n",
      "12/12 [==============================] - 0s 35ms/step - loss: 1.9423 - accuracy: 0.3490 - val_loss: 2.0037 - val_accuracy: 0.3308\n",
      "Epoch 13/20\n",
      "12/12 [==============================] - 0s 31ms/step - loss: 1.9253 - accuracy: 0.3573 - val_loss: 2.0083 - val_accuracy: 0.3292\n",
      "Epoch 14/20\n",
      "12/12 [==============================] - 1s 44ms/step - loss: 1.9097 - accuracy: 0.3663 - val_loss: 1.9837 - val_accuracy: 0.3425\n",
      "Epoch 15/20\n",
      "12/12 [==============================] - 0s 30ms/step - loss: 1.8962 - accuracy: 0.3727 - val_loss: 1.9902 - val_accuracy: 0.3367\n",
      "Epoch 16/20\n",
      "12/12 [==============================] - 1s 43ms/step - loss: 1.8839 - accuracy: 0.3767 - val_loss: 1.9782 - val_accuracy: 0.3383\n",
      "Epoch 17/20\n",
      "12/12 [==============================] - 0s 34ms/step - loss: 1.8710 - accuracy: 0.3804 - val_loss: 1.9702 - val_accuracy: 0.3408\n",
      "Epoch 18/20\n",
      "12/12 [==============================] - 0s 31ms/step - loss: 1.8616 - accuracy: 0.3815 - val_loss: 1.9687 - val_accuracy: 0.3458\n",
      "Epoch 19/20\n",
      "12/12 [==============================] - 1s 42ms/step - loss: 1.8525 - accuracy: 0.3852 - val_loss: 1.9624 - val_accuracy: 0.3450\n",
      "Epoch 20/20\n",
      "12/12 [==============================] - 0s 35ms/step - loss: 1.8411 - accuracy: 0.3840 - val_loss: 1.9652 - val_accuracy: 0.3475\n"
     ]
    }
   ],
   "source": [
    "hist1 = model1.fit(train_1, train_labels_1,batch_size=400, epochs=20,validation_data = (val_1,val_labels_1))"
   ]
  },
  {
   "cell_type": "code",
   "execution_count": 86,
   "id": "b769a653",
   "metadata": {},
   "outputs": [
    {
     "data": {
      "image/png": "[encoded data removed]",
      "text/plain": [
       "<Figure size 432x288 with 1 Axes>"
      ]
     },
     "metadata": {
      "needs_background": "light"
     },
     "output_type": "display_data"
    },
    {
     "data": {
      "image/png": "[encoded data removed]",
      "text/plain": [
       "<Figure size 432x288 with 1 Axes>"
      ]
     },
     "metadata": {
      "needs_background": "light"
     },
     "output_type": "display_data"
    }
   ],
   "source": [
    "acc = hist1.history['accuracy']\n",
    "val_acc = hist1.history['val_accuracy']\n",
    "loss = hist1.history['loss']\n",
    "val_loss = hist1.history['val_loss']\n",
    "\n",
    "epochs = range(len(acc))\n",
    "\n",
    "plt.plot(epochs, acc, 'bo', label='Training acc')\n",
    "plt.plot(epochs, val_acc, 'b', label='Validation acc')\n",
    "plt.xlabel('Epochs')\n",
    "\n",
    "plt.title('Training and validation accuracy')\n",
    "plt.legend()\n",
    "\n",
    "plt.figure()\n",
    "\n",
    "plt.plot(epochs, loss, 'bo', label='Training loss')\n",
    "plt.plot(epochs, val_loss, 'b', label='Validation loss')\n",
    "plt.title('Training and validation loss')\n",
    "plt.legend()\n",
    "\n",
    "plt.show()"
   ]
  },
  {
   "cell_type": "code",
   "execution_count": 88,
   "id": "a284cfa2",
   "metadata": {},
   "outputs": [
    {
     "name": "stdout",
     "output_type": "stream",
     "text": [
      "121/121 [==============================] - 0s 3ms/step\n"
     ]
    }
   ],
   "source": [
    "y_pred1 = model1.predict(test_data1_trans)"
   ]
  },
  {
   "cell_type": "code",
   "execution_count": 76,
   "id": "16add4cf",
   "metadata": {},
   "outputs": [
    {
     "data": {
      "text/plain": [
       "array([0, 0, 0, ..., 0, 0, 0])"
      ]
     },
     "execution_count": 76,
     "metadata": {},
     "output_type": "execute_result"
    }
   ],
   "source": [
    "ylist1 = np.empty(shape=len(y_pred1))\n",
    "ylist1 = ylist1.astype(int)\n",
    "ylist1"
   ]
  },
  {
   "cell_type": "code",
   "execution_count": 89,
   "id": "20867f31",
   "metadata": {},
   "outputs": [
    {
     "data": {
      "text/plain": [
       "array([ 3, 10,  6, ...,  5,  8,  6])"
      ]
     },
     "execution_count": 89,
     "metadata": {},
     "output_type": "execute_result"
    }
   ],
   "source": [
    "for i in range(len(y_pred1)):\n",
    "    ylist1[i]=y_pred1[i].argmax()\n",
    "ylist1"
   ]
  },
  {
   "cell_type": "code",
   "execution_count": 90,
   "id": "1de4d20d",
   "metadata": {},
   "outputs": [],
   "source": [
    "os.chdir(\"D:\\\\Maja\\\\LSDM\\\\Projekat\")\n",
    "submission=pd.read_csv('submission.csv')\n",
    "submission['Pollen']=ylist1\n",
    "submission = submission.set_index('ID')"
   ]
  },
  {
   "cell_type": "code",
   "execution_count": 91,
   "id": "b7a6eb8f",
   "metadata": {},
   "outputs": [
    {
     "data": {
      "text/html": [
       "<div>\n",
       "<style scoped>\n",
       "    .dataframe tbody tr th:only-of-type {\n",
       "        vertical-align: middle;\n",
       "    }\n",
       "\n",
       "    .dataframe tbody tr th {\n",
       "        vertical-align: top;\n",
       "    }\n",
       "\n",
       "    .dataframe thead th {\n",
       "        text-align: right;\n",
       "    }\n",
       "</style>\n",
       "<table border=\"1\" class=\"dataframe\">\n",
       "  <thead>\n",
       "    <tr style=\"text-align: right;\">\n",
       "      <th></th>\n",
       "      <th>Pollen</th>\n",
       "    </tr>\n",
       "    <tr>\n",
       "      <th>ID</th>\n",
       "      <th></th>\n",
       "    </tr>\n",
       "  </thead>\n",
       "  <tbody>\n",
       "    <tr>\n",
       "      <th>0</th>\n",
       "      <td>3</td>\n",
       "    </tr>\n",
       "    <tr>\n",
       "      <th>1</th>\n",
       "      <td>10</td>\n",
       "    </tr>\n",
       "    <tr>\n",
       "      <th>2</th>\n",
       "      <td>6</td>\n",
       "    </tr>\n",
       "    <tr>\n",
       "      <th>3</th>\n",
       "      <td>10</td>\n",
       "    </tr>\n",
       "    <tr>\n",
       "      <th>4</th>\n",
       "      <td>6</td>\n",
       "    </tr>\n",
       "  </tbody>\n",
       "</table>\n",
       "</div>"
      ],
      "text/plain": [
       "    Pollen\n",
       "ID        \n",
       "0        3\n",
       "1       10\n",
       "2        6\n",
       "3       10\n",
       "4        6"
      ]
     },
     "execution_count": 91,
     "metadata": {},
     "output_type": "execute_result"
    }
   ],
   "source": [
    "submission.head()"
   ]
  },
  {
   "cell_type": "code",
   "execution_count": 92,
   "id": "57b7dc53",
   "metadata": {},
   "outputs": [],
   "source": [
    "submission.to_csv('nn54.csv')"
   ]
  },
  {
   "cell_type": "markdown",
   "id": "8bce5c87",
   "metadata": {},
   "source": [
    "# Hyperparameter tuning - spectrum"
   ]
  },
  {
   "cell_type": "code",
   "execution_count": 93,
   "id": "971ce979",
   "metadata": {},
   "outputs": [],
   "source": [
    "def create_model1(neurons = 1):\n",
    "    # define model\n",
    "    model1 = models.Sequential()\n",
    "    model1.add(layers.Conv2D(32, (3,3), activation='relu',kernel_regularizer=regularizers.l2(0.001), input_shape=(4,32,1)))\n",
    "    model1.add(layers.MaxPooling2D((2, 2)))\n",
    "    \n",
    "    model1.add(layers.Conv2D(neurons,(1,1), activation='relu',kernel_regularizer=regularizers.l2(0.001)))\n",
    "    model1.add(layers.MaxPooling2D((1, 1)))\n",
    "    \n",
    "    model1.add(layers.Conv2D(neurons,(1,1), activation='relu',kernel_regularizer=regularizers.l2(0.001)))\n",
    "    \n",
    "    model1.add(layers.Flatten())\n",
    "    \n",
    "    model1.add(layers.Dense(32, activation='relu')) \n",
    "    model1.add(layers.Dense(12, activation='softmax'))\n",
    "    \n",
    "    model1.compile(loss='categorical_crossentropy',\n",
    "              optimizer='adam',\n",
    "              metrics=['accuracy'])\n",
    "    return model1\n",
    "model_1 = KerasClassifier(build_fn=create_model1, verbose=1)"
   ]
  },
  {
   "cell_type": "code",
   "execution_count": 94,
   "id": "6e179a63",
   "metadata": {},
   "outputs": [
    {
     "name": "stdout",
     "output_type": "stream",
     "text": [
      "150/150 [==============================] - 2s 8ms/step - loss: 2.2988 - accuracy: 0.2519\n",
      "Best: 0.307917 using {'neurons': 128}\n"
     ]
    }
   ],
   "source": [
    "parameters = {'neurons':[12, 14, 16, 32, 64, 128]} \n",
    "grid = GridSearchCV(estimator=model_1, param_grid=parameters, n_jobs=-1, cv=5)\n",
    "grid_result = grid.fit(train_1, train_labels_1)\n",
    "print(\"Best: %f using %s\" % (grid_result.best_score_, grid_result.best_params_))"
   ]
  },
  {
   "cell_type": "code",
   "execution_count": 95,
   "id": "efdc58ce",
   "metadata": {},
   "outputs": [],
   "source": [
    "def create_model2(neurons = 1):\n",
    "    # define model\n",
    "    model1 = models.Sequential()\n",
    "    model1.add(layers.Conv2D(32, (3,3), activation='relu',kernel_regularizer=regularizers.l2(0.001), input_shape=(4,32,1)))\n",
    "    model1.add(layers.MaxPooling2D((2, 2)))\n",
    "    \n",
    "    model1.add(layers.Conv2D(128,(1,1), activation='relu',kernel_regularizer=regularizers.l2(0.001)))\n",
    "    model1.add(layers.MaxPooling2D((1, 1)))\n",
    "    \n",
    "    model1.add(layers.Conv2D(128,(1,1), activation='relu',kernel_regularizer=regularizers.l2(0.001)))\n",
    "    \n",
    "    model1.add(layers.Flatten())\n",
    "    \n",
    "    model1.add(layers.Dense(neurons, activation='relu')) \n",
    "    model1.add(layers.Dense(12, activation='softmax'))\n",
    "    \n",
    "    model1.compile(loss='categorical_crossentropy',\n",
    "              optimizer='adam',\n",
    "              metrics=['accuracy'])\n",
    "    return model1\n",
    "model_2 = KerasClassifier(build_fn=create_model2, verbose=1)"
   ]
  },
  {
   "cell_type": "code",
   "execution_count": 96,
   "id": "aed7c1a2",
   "metadata": {},
   "outputs": [
    {
     "name": "stdout",
     "output_type": "stream",
     "text": [
      "150/150 [==============================] - 3s 10ms/step - loss: 2.2235 - accuracy: 0.2919\n",
      "Best: 0.325833 using {'neurons': 128}\n"
     ]
    }
   ],
   "source": [
    "parameters = {'neurons':[12, 14, 16, 32, 64, 128]} \n",
    "grid = GridSearchCV(estimator=model_2, param_grid=parameters, n_jobs=-1, cv=5)\n",
    "grid_result = grid.fit(train_1, train_labels_1)\n",
    "print(\"Best: %f using %s\" % (grid_result.best_score_, grid_result.best_params_))"
   ]
  },
  {
   "cell_type": "code",
   "execution_count": 97,
   "id": "1ab04fee",
   "metadata": {},
   "outputs": [],
   "source": [
    "def create_model3(init_mode='uniform', bias_mode = 'zeros'):\n",
    "    # define model\n",
    "    model1 = models.Sequential()\n",
    "    model1.add(layers.Conv2D(32, (3,3),kernel_initializer=init_mode,bias_initializer= bias_mode,activation='relu',kernel_regularizer=regularizers.l2(0.001), input_shape=(4,32,1)))\n",
    "    model1.add(layers.MaxPooling2D((2, 2)))\n",
    "    \n",
    "    model1.add(layers.Conv2D(128,(1,1),kernel_initializer=init_mode,bias_initializer= bias_mode, activation='relu',kernel_regularizer=regularizers.l2(0.001)))\n",
    "    model1.add(layers.MaxPooling2D((1, 1)))\n",
    "    \n",
    "    model1.add(layers.Conv2D(128,(1,1),kernel_initializer=init_mode, bias_initializer= bias_mode,activation='relu',kernel_regularizer=regularizers.l2(0.001)))\n",
    "    \n",
    "    model1.add(layers.Flatten())\n",
    "    \n",
    "    model1.add(layers.Dense(128,kernel_initializer=init_mode,bias_initializer= bias_mode, activation='relu')) \n",
    "    model1.add(layers.Dense(12,kernel_initializer=init_mode,bias_initializer= bias_mode, activation='softmax'))\n",
    "    \n",
    "    model1.compile(loss='categorical_crossentropy',\n",
    "              optimizer='adam',\n",
    "              metrics=['accuracy'])\n",
    "    return model1\n",
    "model_3 = KerasClassifier(build_fn=create_model3, verbose=1)"
   ]
  },
  {
   "cell_type": "code",
   "execution_count": 98,
   "id": "1a940925",
   "metadata": {},
   "outputs": [
    {
     "name": "stdout",
     "output_type": "stream",
     "text": [
      "150/150 [==============================] - 3s 11ms/step - loss: 2.8100 - accuracy: 0.2642\n",
      "Best: 0.338333 using {'bias_mode': 'glorot_normal', 'init_mode': 'he_normal'}\n"
     ]
    }
   ],
   "source": [
    "parameters = {'init_mode':['uniform', 'normal', 'glorot_normal', 'glorot_uniform', 'he_normal', 'he_uniform'],\n",
    "             'bias_mode': ['uniform', 'normal', 'glorot_normal', 'glorot_uniform', 'he_normal', 'he_uniform']} \n",
    "grid = GridSearchCV(estimator=model_3, param_grid=parameters, n_jobs=-1, cv=5)\n",
    "grid_result = grid.fit(train_1, train_labels_1)\n",
    "print(\"Best: %f using %s\" % (grid_result.best_score_, grid_result.best_params_))"
   ]
  },
  {
   "cell_type": "code",
   "execution_count": 99,
   "id": "cf5ef404",
   "metadata": {},
   "outputs": [],
   "source": [
    "def create_model4(padding = 'valid'):\n",
    "    # define model\n",
    "    model1 = models.Sequential()\n",
    "    model1.add(layers.Conv2D(32, (3,3),padding = padding, kernel_initializer='he_normal',bias_initializer= 'glorot_normal',activation='relu',kernel_regularizer=regularizers.l2(0.001), input_shape=(4,32,1)))\n",
    "    model1.add(layers.MaxPooling2D((2, 2)))\n",
    "    \n",
    "    model1.add(layers.Conv2D(128,(1,1),padding = padding, kernel_initializer='he_normal',bias_initializer= 'glorot_normal', activation='relu',kernel_regularizer=regularizers.l2(0.001)))\n",
    "    model1.add(layers.MaxPooling2D((1, 1)))\n",
    "    \n",
    "    model1.add(layers.Conv2D(128,(1,1),padding = padding, kernel_initializer='he_normal', bias_initializer= 'glorot_normal',activation='relu',kernel_regularizer=regularizers.l2(0.001)))\n",
    "    \n",
    "    model1.add(layers.Flatten())\n",
    "    \n",
    "    model1.add(layers.Dense(128,kernel_initializer='he_normal',bias_initializer= 'glorot_normal', activation='relu')) \n",
    "    model1.add(layers.Dense(12,kernel_initializer='he_normal',bias_initializer= 'glorot_normal', activation='softmax'))\n",
    "    \n",
    "    model1.compile(loss='categorical_crossentropy',\n",
    "              optimizer='adam',\n",
    "              metrics=['accuracy'])\n",
    "    return model1\n",
    "model_4 = KerasClassifier(build_fn=create_model4, verbose=1)"
   ]
  },
  {
   "cell_type": "code",
   "execution_count": 100,
   "id": "ee50702b",
   "metadata": {},
   "outputs": [
    {
     "name": "stdout",
     "output_type": "stream",
     "text": [
      "150/150 [==============================] - 5s 21ms/step - loss: 2.7368 - accuracy: 0.2788\n",
      "Best: 0.322083 using {'padding': 'same'}\n"
     ]
    }
   ],
   "source": [
    "parameters = {'padding':['valid', 'same', 'full', 'zero']} \n",
    "grid = GridSearchCV(estimator=model_4, param_grid=parameters, n_jobs=-1, cv=5)\n",
    "grid_result = grid.fit(train_1, train_labels_1)\n",
    "print(\"Best: %f using %s\" % (grid_result.best_score_, grid_result.best_params_))"
   ]
  },
  {
   "cell_type": "code",
   "execution_count": 101,
   "id": "d702b825",
   "metadata": {},
   "outputs": [],
   "source": [
    "def create_model5(l2=0.001):\n",
    "    # define model\n",
    "    model1 = models.Sequential()\n",
    "    model1.add(layers.Conv2D(32, (3,3),padding = 'same', kernel_initializer='he_normal',bias_initializer= 'glorot_normal',activation='relu',kernel_regularizer=regularizers.l2(l2), input_shape=(4,32,1)))\n",
    "    model1.add(layers.MaxPooling2D((2, 2)))\n",
    "    \n",
    "    model1.add(layers.Conv2D(128,(1,1),padding = 'same', kernel_initializer='he_normal',bias_initializer= 'glorot_normal', activation='relu',kernel_regularizer=regularizers.l2(l2)))\n",
    "    model1.add(layers.MaxPooling2D((1, 1)))\n",
    "    \n",
    "    model1.add(layers.Conv2D(128,(1,1),padding = 'same', kernel_initializer='he_normal', bias_initializer= 'glorot_normal',activation='relu',kernel_regularizer=regularizers.l2(l2)))\n",
    "    \n",
    "    model1.add(layers.Flatten())\n",
    "    \n",
    "    model1.add(layers.Dense(128,kernel_initializer='he_normal',bias_initializer= 'glorot_normal', activation='relu')) \n",
    "    model1.add(layers.Dense(12,kernel_initializer='he_normal',bias_initializer= 'glorot_normal', activation='softmax'))\n",
    "    \n",
    "    model1.compile(loss='categorical_crossentropy',\n",
    "              optimizer='adam',\n",
    "              metrics=['accuracy'])\n",
    "    return model1\n",
    "model_5 = KerasClassifier(build_fn=create_model5, verbose=1)"
   ]
  },
  {
   "cell_type": "code",
   "execution_count": 102,
   "id": "7c06a35b",
   "metadata": {},
   "outputs": [
    {
     "name": "stdout",
     "output_type": "stream",
     "text": [
      "150/150 [==============================] - 4s 20ms/step - loss: 2.8254 - accuracy: 0.2644\n",
      "Best: 0.327083 using {'l2': 0.001}\n"
     ]
    }
   ],
   "source": [
    "parameters = {'l2':[0.001,0.01, 0.1, 0.2, 0.3]} \n",
    "grid = GridSearchCV(estimator=model_5, param_grid=parameters, n_jobs=-1, cv=5)\n",
    "grid_result = grid.fit(train_1, train_labels_1)\n",
    "print(\"Best: %f using %s\" % (grid_result.best_score_, grid_result.best_params_))"
   ]
  },
  {
   "cell_type": "code",
   "execution_count": 103,
   "id": "5ee2fcdf",
   "metadata": {},
   "outputs": [],
   "source": [
    "def create_model6(learning_rate=0.01):\n",
    "    # define model\n",
    "    model1 = models.Sequential()\n",
    "    model1.add(layers.Conv2D(32, (3,3),padding = 'same', kernel_initializer='he_normal',bias_initializer= 'glorot_normal',activation='relu',kernel_regularizer=regularizers.l2(0.001), input_shape=(4,32,1)))\n",
    "    model1.add(layers.MaxPooling2D((2, 2)))\n",
    "    \n",
    "    model1.add(layers.Conv2D(128,(1,1),padding = 'same', kernel_initializer='he_normal',bias_initializer= 'glorot_normal', activation='relu',kernel_regularizer=regularizers.l2(0.001)))\n",
    "    model1.add(layers.MaxPooling2D((1, 1)))\n",
    "    \n",
    "    model1.add(layers.Conv2D(128,(1,1),padding = 'same', kernel_initializer='he_normal', bias_initializer= 'glorot_normal',activation='relu',kernel_regularizer=regularizers.l2(0.001)))\n",
    "    \n",
    "    model1.add(layers.Flatten())\n",
    "    \n",
    "    model1.add(layers.Dense(128,kernel_initializer='he_normal',bias_initializer= 'glorot_normal', activation='relu')) \n",
    "    model1.add(layers.Dense(12,kernel_initializer='he_normal',bias_initializer= 'glorot_normal', activation='softmax'))\n",
    "    \n",
    "    optimizer = Adam(lr=learning_rate)\n",
    "    \n",
    "    model1.compile(loss='categorical_crossentropy',\n",
    "              optimizer=optimizer,\n",
    "              metrics=['accuracy'])\n",
    "    return model1\n",
    "model_6 = KerasClassifier(build_fn=create_model6, verbose=1)"
   ]
  },
  {
   "cell_type": "code",
   "execution_count": 104,
   "id": "50862629",
   "metadata": {},
   "outputs": [
    {
     "name": "stdout",
     "output_type": "stream",
     "text": [
      "150/150 [==============================] - 4s 20ms/step - loss: 2.7228 - accuracy: 0.2790\n",
      "Best: 0.336667 using {'learning_rate': 0.001}\n"
     ]
    }
   ],
   "source": [
    "parameters = {'learning_rate':[0.001, 0.01, 0.1, 0.2, 0.3]} \n",
    "grid = GridSearchCV(estimator=model_6, param_grid=parameters, n_jobs=-1, cv=5)\n",
    "grid_result = grid.fit(train_1, train_labels_1)\n",
    "print(\"Best: %f using %s\" % (grid_result.best_score_, grid_result.best_params_))"
   ]
  },
  {
   "cell_type": "code",
   "execution_count": 105,
   "id": "50078de7",
   "metadata": {},
   "outputs": [],
   "source": [
    "def create_model7():\n",
    "    # define model\n",
    "    model1 = models.Sequential()\n",
    "    model1.add(layers.Conv2D(32, (3,3),padding = 'same', kernel_initializer='he_normal',bias_initializer= 'glorot_normal',activation='relu',kernel_regularizer=regularizers.l2(0.001), input_shape=(4,32,1)))\n",
    "    model1.add(layers.MaxPooling2D((2, 2)))\n",
    "    \n",
    "    model1.add(layers.Conv2D(128,(1,1),padding = 'same', kernel_initializer='he_normal',bias_initializer= 'glorot_normal', activation='relu',kernel_regularizer=regularizers.l2(0.001)))\n",
    "    model1.add(layers.MaxPooling2D((1, 1)))\n",
    "    \n",
    "    model1.add(layers.Conv2D(128,(1,1),padding = 'same', kernel_initializer='he_normal', bias_initializer= 'glorot_normal',activation='relu',kernel_regularizer=regularizers.l2(0.001)))\n",
    "    \n",
    "    model1.add(layers.Flatten())\n",
    "    \n",
    "    model1.add(layers.Dense(128,kernel_initializer='he_normal',bias_initializer= 'glorot_normal', activation='relu')) \n",
    "    model1.add(layers.Dense(12,kernel_initializer='he_normal',bias_initializer= 'glorot_normal', activation='softmax'))\n",
    "    \n",
    "    model1.compile(loss='categorical_crossentropy',\n",
    "              optimizer='adam',\n",
    "              metrics=['accuracy'])\n",
    "    return model1\n",
    "model_7 = KerasClassifier(build_fn=create_model7, verbose=1)"
   ]
  },
  {
   "cell_type": "code",
   "execution_count": 106,
   "id": "ca58f1b0",
   "metadata": {},
   "outputs": [
    {
     "name": "stdout",
     "output_type": "stream",
     "text": [
      "Epoch 1/10\n",
      "12/12 [==============================] - 3s 124ms/step - loss: 4.1618 - accuracy: 0.1562\n",
      "Epoch 2/10\n",
      "12/12 [==============================] - 2s 125ms/step - loss: 2.8110 - accuracy: 0.2281\n",
      "Epoch 3/10\n",
      "12/12 [==============================] - 1s 120ms/step - loss: 2.5722 - accuracy: 0.3221\n",
      "Epoch 4/10\n",
      "12/12 [==============================] - 2s 124ms/step - loss: 2.4205 - accuracy: 0.3694\n",
      "Epoch 5/10\n",
      "12/12 [==============================] - 1s 121ms/step - loss: 2.3191 - accuracy: 0.3963\n",
      "Epoch 6/10\n",
      "12/12 [==============================] - 1s 120ms/step - loss: 2.2377 - accuracy: 0.4206\n",
      "Epoch 7/10\n",
      "12/12 [==============================] - 1s 123ms/step - loss: 2.1626 - accuracy: 0.4471\n",
      "Epoch 8/10\n",
      "12/12 [==============================] - 1s 122ms/step - loss: 2.1108 - accuracy: 0.4596\n",
      "Epoch 9/10\n",
      "12/12 [==============================] - 1s 121ms/step - loss: 2.0425 - accuracy: 0.4844\n",
      "Epoch 10/10\n",
      "12/12 [==============================] - 1s 119ms/step - loss: 1.9935 - accuracy: 0.4960\n",
      "Best: 0.367708 using {'batch_size': 400, 'epochs': 10}\n"
     ]
    }
   ],
   "source": [
    "parameters = {'batch_size':[150, 200, 300, 400], \n",
    "              'epochs':[10, 20, 30, 40]}\n",
    "grid = GridSearchCV(estimator=model_7, param_grid=parameters, n_jobs=-1, cv=5)\n",
    "grid_result = grid.fit(train_1, train_labels_1)\n",
    "print(\"Best: %f using %s\" % (grid_result.best_score_, grid_result.best_params_))"
   ]
  },
  {
   "cell_type": "markdown",
   "id": "87d9b393",
   "metadata": {},
   "source": [
    "# Spectrum model after hyperparameter tuning"
   ]
  },
  {
   "cell_type": "code",
   "execution_count": 107,
   "id": "040a6ef4",
   "metadata": {},
   "outputs": [],
   "source": [
    "model1 = models.Sequential()\n",
    "model1.add(layers.Conv2D(32, (3,3),padding = 'same', kernel_initializer='he_normal',bias_initializer= 'glorot_normal',activation='relu',kernel_regularizer=regularizers.l2(0.001), input_shape=(4,32,1)))\n",
    "model1.add(layers.MaxPooling2D((2, 2)))\n",
    "    \n",
    "model1.add(layers.Conv2D(128,(1,1),padding = 'same', kernel_initializer='he_normal',bias_initializer= 'glorot_normal', activation='relu',kernel_regularizer=regularizers.l2(0.001)))\n",
    "model1.add(layers.MaxPooling2D((1, 1)))\n",
    "    \n",
    "model1.add(layers.Conv2D(128,(1,1),padding = 'same', kernel_initializer='he_normal', bias_initializer= 'glorot_normal',activation='relu',kernel_regularizer=regularizers.l2(0.001)))\n",
    "    \n",
    "model1.add(layers.Flatten())\n",
    "    \n",
    "model1.add(layers.Dense(128,kernel_initializer='he_normal',bias_initializer= 'glorot_normal', activation='relu')) \n",
    "model1.add(layers.Dense(12,kernel_initializer='he_normal',bias_initializer= 'glorot_normal', activation='softmax'))\n",
    "    \n",
    "model1.compile(loss='categorical_crossentropy',\n",
    "              optimizer='adam',\n",
    "              metrics=['accuracy'])"
   ]
  },
  {
   "cell_type": "code",
   "execution_count": 116,
   "id": "7af76cc6",
   "metadata": {},
   "outputs": [
    {
     "name": "stdout",
     "output_type": "stream",
     "text": [
      "Epoch 1/10\n",
      "12/12 [==============================] - 2s 133ms/step - loss: 1.9625 - accuracy: 0.5048\n",
      "Epoch 2/10\n",
      "12/12 [==============================] - 2s 154ms/step - loss: 1.9221 - accuracy: 0.5133\n",
      "Epoch 3/10\n",
      "12/12 [==============================] - 2s 137ms/step - loss: 1.8903 - accuracy: 0.5271\n",
      "Epoch 4/10\n",
      "12/12 [==============================] - 2s 138ms/step - loss: 1.8547 - accuracy: 0.5396\n",
      "Epoch 5/10\n",
      "12/12 [==============================] - 2s 150ms/step - loss: 1.8195 - accuracy: 0.5527\n",
      "Epoch 6/10\n",
      "12/12 [==============================] - 2s 146ms/step - loss: 1.7845 - accuracy: 0.5600\n",
      "Epoch 7/10\n",
      "12/12 [==============================] - 2s 135ms/step - loss: 1.7603 - accuracy: 0.5702\n",
      "Epoch 8/10\n",
      "12/12 [==============================] - 2s 139ms/step - loss: 1.7318 - accuracy: 0.5783\n",
      "Epoch 9/10\n",
      "12/12 [==============================] - 2s 135ms/step - loss: 1.6961 - accuracy: 0.5869\n",
      "Epoch 10/10\n",
      "12/12 [==============================] - 2s 136ms/step - loss: 1.6501 - accuracy: 0.6121\n"
     ]
    },
    {
     "data": {
      "text/plain": [
       "<keras.callbacks.History at 0x1bf0e526f40>"
      ]
     },
     "execution_count": 116,
     "metadata": {},
     "output_type": "execute_result"
    }
   ],
   "source": [
    "model1.fit(train_1, train_labels_1,batch_size=400, epochs=10)"
   ]
  },
  {
   "cell_type": "code",
   "execution_count": 122,
   "id": "56fa2813",
   "metadata": {},
   "outputs": [
    {
     "name": "stdout",
     "output_type": "stream",
     "text": [
      "38/38 [==============================] - 1s 7ms/step - loss: 2.6039 - accuracy: 0.3725\n"
     ]
    }
   ],
   "source": [
    "results_1 = model1.evaluate(val_1,val_labels_1)"
   ]
  },
  {
   "cell_type": "code",
   "execution_count": 117,
   "id": "20a20854",
   "metadata": {},
   "outputs": [
    {
     "name": "stdout",
     "output_type": "stream",
     "text": [
      "121/121 [==============================] - 1s 6ms/step\n"
     ]
    }
   ],
   "source": [
    "y_pred1 = model1.predict(test_data1_trans)"
   ]
  },
  {
   "cell_type": "markdown",
   "id": "294615ac",
   "metadata": {},
   "source": [
    "# The first model for scattering"
   ]
  },
  {
   "cell_type": "code",
   "execution_count": 118,
   "id": "7b54d60f",
   "metadata": {},
   "outputs": [],
   "source": [
    "model2 = models.Sequential()\n",
    "\n",
    "model2.add(layers.Conv2D(64, (3,3), activation='relu',kernel_regularizer=regularizers.l2(0.001), input_shape=(20,120,1)))\n",
    "model2.add(layers.MaxPooling2D((2, 2)))\n",
    "\n",
    "model2.add(layers.Conv2D(64,(3,3), activation='relu',kernel_regularizer=regularizers.l2(0.001)))\n",
    "model2.add(Dropout(0.2))\n",
    "model2.add(layers.MaxPooling2D((2, 2)))\n",
    "\n",
    "model2.add(layers.Conv2D(64,(3,3), activation='relu',kernel_regularizer=regularizers.l2(0.001)))\n",
    "model2.add(Dropout(0.2))\n",
    "\n",
    "model2.add(layers.Flatten())\n",
    "model2.add(layers.Dense(128, activation='relu')) \n",
    "model2.add(Dropout(0.2))\n",
    "model2.add(layers.Dense(12, activation='softmax'))"
   ]
  },
  {
   "cell_type": "code",
   "execution_count": 119,
   "id": "6b1dc3b0",
   "metadata": {},
   "outputs": [
    {
     "name": "stdout",
     "output_type": "stream",
     "text": [
      "Model: \"sequential_24\"\n",
      "_________________________________________________________________\n",
      " Layer (type)                Output Shape              Param #   \n",
      "=================================================================\n",
      " conv2d_72 (Conv2D)          (None, 18, 118, 64)       640       \n",
      "                                                                 \n",
      " max_pooling2d_48 (MaxPoolin  (None, 9, 59, 64)        0         \n",
      " g2D)                                                            \n",
      "                                                                 \n",
      " conv2d_73 (Conv2D)          (None, 7, 57, 64)         36928     \n",
      "                                                                 \n",
      " dropout_13 (Dropout)        (None, 7, 57, 64)         0         \n",
      "                                                                 \n",
      " max_pooling2d_49 (MaxPoolin  (None, 3, 28, 64)        0         \n",
      " g2D)                                                            \n",
      "                                                                 \n",
      " conv2d_74 (Conv2D)          (None, 1, 26, 64)         36928     \n",
      "                                                                 \n",
      " dropout_14 (Dropout)        (None, 1, 26, 64)         0         \n",
      "                                                                 \n",
      " flatten_24 (Flatten)        (None, 1664)              0         \n",
      "                                                                 \n",
      " dense_48 (Dense)            (None, 128)               213120    \n",
      "                                                                 \n",
      " dropout_15 (Dropout)        (None, 128)               0         \n",
      "                                                                 \n",
      " dense_49 (Dense)            (None, 12)                1548      \n",
      "                                                                 \n",
      "=================================================================\n",
      "Total params: 289,164\n",
      "Trainable params: 289,164\n",
      "Non-trainable params: 0\n",
      "_________________________________________________________________\n"
     ]
    }
   ],
   "source": [
    "model2.summary()"
   ]
  },
  {
   "cell_type": "code",
   "execution_count": 120,
   "id": "6e67c755",
   "metadata": {},
   "outputs": [],
   "source": [
    "model2.compile(optimizer='adam',       \n",
    "              loss='categorical_crossentropy',   \n",
    "              metrics=['accuracy'])"
   ]
  },
  {
   "cell_type": "code",
   "execution_count": 121,
   "id": "ba57f785",
   "metadata": {},
   "outputs": [
    {
     "name": "stdout",
     "output_type": "stream",
     "text": [
      "Epoch 1/20\n",
      "12/12 [==============================] - 31s 2s/step - loss: 2.5116 - accuracy: 0.1525 - val_loss: 2.4220 - val_accuracy: 0.1983\n",
      "Epoch 2/20\n",
      "12/12 [==============================] - 27s 2s/step - loss: 2.3846 - accuracy: 0.2140 - val_loss: 2.3104 - val_accuracy: 0.2367\n",
      "Epoch 3/20\n",
      "12/12 [==============================] - 28s 2s/step - loss: 2.2987 - accuracy: 0.2419 - val_loss: 2.2326 - val_accuracy: 0.2742\n",
      "Epoch 4/20\n",
      "12/12 [==============================] - 24s 2s/step - loss: 2.2217 - accuracy: 0.2627 - val_loss: 2.1864 - val_accuracy: 0.3017\n",
      "Epoch 5/20\n",
      "12/12 [==============================] - 24s 2s/step - loss: 2.1377 - accuracy: 0.3096 - val_loss: 2.0887 - val_accuracy: 0.3308\n",
      "Epoch 6/20\n",
      "12/12 [==============================] - 24s 2s/step - loss: 2.0520 - accuracy: 0.3233 - val_loss: 2.0381 - val_accuracy: 0.3492\n",
      "Epoch 7/20\n",
      "12/12 [==============================] - 24s 2s/step - loss: 1.9891 - accuracy: 0.3469 - val_loss: 1.9789 - val_accuracy: 0.3775\n",
      "Epoch 8/20\n",
      "12/12 [==============================] - 25s 2s/step - loss: 1.9291 - accuracy: 0.3654 - val_loss: 1.9483 - val_accuracy: 0.3900\n",
      "Epoch 9/20\n",
      "12/12 [==============================] - 28s 2s/step - loss: 1.8802 - accuracy: 0.3775 - val_loss: 1.9190 - val_accuracy: 0.3900\n",
      "Epoch 10/20\n",
      "12/12 [==============================] - 27s 2s/step - loss: 1.8317 - accuracy: 0.3923 - val_loss: 1.9076 - val_accuracy: 0.3917\n",
      "Epoch 11/20\n",
      "12/12 [==============================] - 25s 2s/step - loss: 1.8084 - accuracy: 0.4083 - val_loss: 1.8750 - val_accuracy: 0.4133\n",
      "Epoch 12/20\n",
      "12/12 [==============================] - 24s 2s/step - loss: 1.7657 - accuracy: 0.4258 - val_loss: 1.8774 - val_accuracy: 0.4142\n",
      "Epoch 13/20\n",
      "12/12 [==============================] - 25s 2s/step - loss: 1.7206 - accuracy: 0.4360 - val_loss: 1.8222 - val_accuracy: 0.4217\n",
      "Epoch 14/20\n",
      "12/12 [==============================] - 26s 2s/step - loss: 1.6833 - accuracy: 0.4494 - val_loss: 1.8231 - val_accuracy: 0.4300\n",
      "Epoch 15/20\n",
      "12/12 [==============================] - 27s 2s/step - loss: 1.6415 - accuracy: 0.4596 - val_loss: 1.8102 - val_accuracy: 0.4225\n",
      "Epoch 16/20\n",
      "12/12 [==============================] - 31s 3s/step - loss: 1.6299 - accuracy: 0.4817 - val_loss: 1.8287 - val_accuracy: 0.4142\n",
      "Epoch 17/20\n",
      "12/12 [==============================] - 25s 2s/step - loss: 1.6023 - accuracy: 0.4815 - val_loss: 1.8154 - val_accuracy: 0.4183\n",
      "Epoch 18/20\n",
      "12/12 [==============================] - 24s 2s/step - loss: 1.5416 - accuracy: 0.5004 - val_loss: 1.8014 - val_accuracy: 0.4125\n",
      "Epoch 19/20\n",
      "12/12 [==============================] - 28s 2s/step - loss: 1.5381 - accuracy: 0.5060 - val_loss: 1.7892 - val_accuracy: 0.4333\n",
      "Epoch 20/20\n",
      "12/12 [==============================] - 24s 2s/step - loss: 1.4974 - accuracy: 0.5121 - val_loss: 1.8013 - val_accuracy: 0.4358\n"
     ]
    }
   ],
   "source": [
    "hist2 = model2.fit(train_2, train_labels_2, batch_size=400, epochs=20, validation_data = (val_2,val_labels_2))"
   ]
  },
  {
   "cell_type": "code",
   "execution_count": 123,
   "id": "6c08569b",
   "metadata": {},
   "outputs": [
    {
     "data": {
      "image/png": "[encoded data removed]",
      "text/plain": [
       "<Figure size 432x288 with 1 Axes>"
      ]
     },
     "metadata": {
      "needs_background": "light"
     },
     "output_type": "display_data"
    },
    {
     "data": {
      "image/png": "[encoded data removed]",
      "text/plain": [
       "<Figure size 432x288 with 1 Axes>"
      ]
     },
     "metadata": {
      "needs_background": "light"
     },
     "output_type": "display_data"
    }
   ],
   "source": [
    "acc = hist2.history['accuracy']\n",
    "val_acc = hist2.history['val_accuracy']\n",
    "loss = hist2.history['loss']\n",
    "val_loss = hist2.history['val_loss']\n",
    "\n",
    "epochs = range(len(acc))\n",
    "\n",
    "plt.plot(epochs, acc, 'bo', label='Training acc')\n",
    "plt.plot(epochs, val_acc, 'b', label='Validation acc')\n",
    "plt.xlabel('Epochs')\n",
    "\n",
    "plt.title('Training and validation accuracy')\n",
    "plt.legend()\n",
    "\n",
    "plt.figure()\n",
    "\n",
    "plt.plot(epochs, loss, 'bo', label='Training loss')\n",
    "plt.plot(epochs, val_loss, 'b', label='Validation loss')\n",
    "plt.title('Training and validation loss')\n",
    "plt.legend()\n",
    "\n",
    "plt.show()"
   ]
  },
  {
   "cell_type": "code",
   "execution_count": 124,
   "id": "12d8a252",
   "metadata": {},
   "outputs": [
    {
     "name": "stdout",
     "output_type": "stream",
     "text": [
      "121/121 [==============================] - 6s 47ms/step\n"
     ]
    }
   ],
   "source": [
    "y_pred2 = model2.predict(test_data2_trans)"
   ]
  },
  {
   "cell_type": "code",
   "execution_count": 125,
   "id": "66d65cb0",
   "metadata": {},
   "outputs": [
    {
     "data": {
      "text/plain": [
       "array([0, 0, 0, ..., 0, 0, 0])"
      ]
     },
     "execution_count": 125,
     "metadata": {},
     "output_type": "execute_result"
    }
   ],
   "source": [
    "ylist=np.empty(shape=len(y_pred2))\n",
    "ylist=ylist.astype(int)\n",
    "ylist"
   ]
  },
  {
   "cell_type": "code",
   "execution_count": 126,
   "id": "8b486f28",
   "metadata": {},
   "outputs": [
    {
     "data": {
      "text/plain": [
       "array([5, 9, 6, ..., 7, 9, 3])"
      ]
     },
     "execution_count": 126,
     "metadata": {},
     "output_type": "execute_result"
    }
   ],
   "source": [
    "for i in range(len(y_pred2)):\n",
    "    ylist[i]=y_pred2[i].argmax()\n",
    "ylist"
   ]
  },
  {
   "cell_type": "code",
   "execution_count": 127,
   "id": "ef537891",
   "metadata": {},
   "outputs": [],
   "source": [
    "os.chdir(\"D:\\\\Maja\\\\LSDM\\\\Projekat\")\n",
    "submission=pd.read_csv('submission.csv')\n",
    "submission['Pollen']=ylist\n",
    "submission = submission.set_index('ID')"
   ]
  },
  {
   "cell_type": "code",
   "execution_count": 128,
   "id": "0e5d883d",
   "metadata": {},
   "outputs": [
    {
     "data": {
      "text/html": [
       "<div>\n",
       "<style scoped>\n",
       "    .dataframe tbody tr th:only-of-type {\n",
       "        vertical-align: middle;\n",
       "    }\n",
       "\n",
       "    .dataframe tbody tr th {\n",
       "        vertical-align: top;\n",
       "    }\n",
       "\n",
       "    .dataframe thead th {\n",
       "        text-align: right;\n",
       "    }\n",
       "</style>\n",
       "<table border=\"1\" class=\"dataframe\">\n",
       "  <thead>\n",
       "    <tr style=\"text-align: right;\">\n",
       "      <th></th>\n",
       "      <th>Pollen</th>\n",
       "    </tr>\n",
       "    <tr>\n",
       "      <th>ID</th>\n",
       "      <th></th>\n",
       "    </tr>\n",
       "  </thead>\n",
       "  <tbody>\n",
       "    <tr>\n",
       "      <th>0</th>\n",
       "      <td>5</td>\n",
       "    </tr>\n",
       "    <tr>\n",
       "      <th>1</th>\n",
       "      <td>9</td>\n",
       "    </tr>\n",
       "    <tr>\n",
       "      <th>2</th>\n",
       "      <td>6</td>\n",
       "    </tr>\n",
       "    <tr>\n",
       "      <th>3</th>\n",
       "      <td>10</td>\n",
       "    </tr>\n",
       "    <tr>\n",
       "      <th>4</th>\n",
       "      <td>6</td>\n",
       "    </tr>\n",
       "  </tbody>\n",
       "</table>\n",
       "</div>"
      ],
      "text/plain": [
       "    Pollen\n",
       "ID        \n",
       "0        5\n",
       "1        9\n",
       "2        6\n",
       "3       10\n",
       "4        6"
      ]
     },
     "execution_count": 128,
     "metadata": {},
     "output_type": "execute_result"
    }
   ],
   "source": [
    "submission.head()"
   ]
  },
  {
   "cell_type": "code",
   "execution_count": 129,
   "id": "852db40d",
   "metadata": {},
   "outputs": [],
   "source": [
    "submission.to_csv('nn56.csv')"
   ]
  },
  {
   "cell_type": "markdown",
   "id": "530311ae",
   "metadata": {},
   "source": [
    "# Hyperparameter tuning - scattering"
   ]
  },
  {
   "cell_type": "code",
   "execution_count": 130,
   "id": "9bed62fd",
   "metadata": {},
   "outputs": [],
   "source": [
    "def create_models1(neurons = 1):\n",
    "    # define model\n",
    "    model2 = models.Sequential()\n",
    "    model2.add(layers.Conv2D(64, (3,3),activation='relu',kernel_regularizer=regularizers.l2(0.001), input_shape=(20,120,1)))\n",
    "    model2.add(layers.MaxPooling2D((2, 2)))\n",
    "    \n",
    "    model2.add(layers.Conv2D(neurons,(3,3), activation='relu',kernel_regularizer=regularizers.l2(0.001)))\n",
    "    model2.add(Dropout(0.2))\n",
    "    model2.add(layers.MaxPooling2D((2, 2)))\n",
    "    \n",
    "    model2.add(layers.Conv2D(neurons,(3,3), activation='relu',kernel_regularizer=regularizers.l2(0.001)))\n",
    "    model2.add(Dropout(0.2))\n",
    "    \n",
    "    model2.add(layers.Flatten())\n",
    "    \n",
    "    model2.add(layers.Dense(128, activation='relu')) \n",
    "    model2.add(Dropout(0.2))\n",
    "    \n",
    "    model2.add(layers.Dense(12, activation='softmax'))\n",
    "    \n",
    "    model2.compile(loss='categorical_crossentropy',\n",
    "              optimizer='adam',\n",
    "              metrics=['accuracy'])\n",
    "    return model2\n",
    "model_s1 = KerasClassifier(build_fn=create_models1, verbose=1)"
   ]
  },
  {
   "cell_type": "code",
   "execution_count": 131,
   "id": "3a7babd6",
   "metadata": {},
   "outputs": [
    {
     "name": "stdout",
     "output_type": "stream",
     "text": [
      "150/150 [==============================] - 28s 176ms/step - loss: 2.4166 - accuracy: 0.1838\n",
      "Best: 0.234167 using {'neurons': 64}\n"
     ]
    }
   ],
   "source": [
    "parameters = {'neurons':[12, 16, 32, 64, 128]}\n",
    "grid = GridSearchCV(estimator=model_s1, param_grid=parameters, n_jobs=-1, cv=5)\n",
    "grid_result = grid.fit(train_2, train_labels_2)\n",
    "print(\"Best: %f using %s\" % (grid_result.best_score_, grid_result.best_params_))"
   ]
  },
  {
   "cell_type": "code",
   "execution_count": 132,
   "id": "38f18182",
   "metadata": {},
   "outputs": [],
   "source": [
    "def create_models1(neurons = 1):\n",
    "    # define model\n",
    "    model2 = models.Sequential()\n",
    "    model2.add(layers.Conv2D(neurons, (3,3),activation='relu',kernel_regularizer=regularizers.l2(0.001), input_shape=(20,120,1)))\n",
    "    model2.add(layers.MaxPooling2D((2, 2)))\n",
    "    \n",
    "    model2.add(layers.Conv2D(64,(3,3), activation='relu',kernel_regularizer=regularizers.l2(0.001)))\n",
    "    model2.add(Dropout(0.2))\n",
    "    model2.add(layers.MaxPooling2D((2, 2)))\n",
    "    \n",
    "    model2.add(layers.Conv2D(64,(3,3), activation='relu',kernel_regularizer=regularizers.l2(0.001)))\n",
    "    model2.add(Dropout(0.2))\n",
    "    \n",
    "    model2.add(layers.Flatten())\n",
    "    \n",
    "    model2.add(layers.Dense(128, activation='relu')) \n",
    "    model2.add(Dropout(0.2))\n",
    "    \n",
    "    model2.add(layers.Dense(12, activation='softmax'))\n",
    "    \n",
    "    model2.compile(loss='categorical_crossentropy',\n",
    "              optimizer='adam',\n",
    "              metrics=['accuracy'])\n",
    "    return model2\n",
    "model_s1 = KerasClassifier(build_fn=create_models1, verbose=1)"
   ]
  },
  {
   "cell_type": "code",
   "execution_count": 133,
   "id": "24da18b8",
   "metadata": {},
   "outputs": [
    {
     "name": "stdout",
     "output_type": "stream",
     "text": [
      "150/150 [==============================] - 14s 83ms/step - loss: 2.3987 - accuracy: 0.1863\n",
      "Best: 0.238958 using {'neurons': 12}\n"
     ]
    }
   ],
   "source": [
    "parameters = {'neurons':[12, 16, 32, 64, 128]}\n",
    "grid = GridSearchCV(estimator=model_s1, param_grid=parameters, n_jobs=-1, cv=5)\n",
    "grid_result = grid.fit(train_2, train_labels_2)\n",
    "print(\"Best: %f using %s\" % (grid_result.best_score_, grid_result.best_params_))"
   ]
  },
  {
   "cell_type": "code",
   "execution_count": 134,
   "id": "f8586c94",
   "metadata": {},
   "outputs": [],
   "source": [
    "def create_models1(neurons = 1):\n",
    "    # define model\n",
    "    model2 = models.Sequential()\n",
    "    model2.add(layers.Conv2D(12, (3,3),activation='relu',kernel_regularizer=regularizers.l2(0.001), input_shape=(20,120,1)))\n",
    "    model2.add(layers.MaxPooling2D((2, 2)))\n",
    "    \n",
    "    model2.add(layers.Conv2D(64,(3,3), activation='relu',kernel_regularizer=regularizers.l2(0.001)))\n",
    "    model2.add(Dropout(0.2))\n",
    "    model2.add(layers.MaxPooling2D((2, 2)))\n",
    "    \n",
    "    model2.add(layers.Conv2D(64,(3,3), activation='relu',kernel_regularizer=regularizers.l2(0.001)))\n",
    "    model2.add(Dropout(0.2))\n",
    "    \n",
    "    model2.add(layers.Flatten())\n",
    "    \n",
    "    model2.add(layers.Dense(neurons, activation='relu')) \n",
    "    model2.add(Dropout(0.2))\n",
    "    \n",
    "    model2.add(layers.Dense(12, activation='softmax'))\n",
    "    \n",
    "    model2.compile(loss='categorical_crossentropy',\n",
    "              optimizer='adam',\n",
    "              metrics=['accuracy'])\n",
    "    return model2\n",
    "model_s1 = KerasClassifier(build_fn=create_models1, verbose=1)"
   ]
  },
  {
   "cell_type": "code",
   "execution_count": 135,
   "id": "d45d3af1",
   "metadata": {},
   "outputs": [
    {
     "name": "stdout",
     "output_type": "stream",
     "text": [
      "150/150 [==============================] - 19s 92ms/step - loss: 2.4211 - accuracy: 0.1604\n",
      "Best: 0.230625 using {'neurons': 64}\n"
     ]
    }
   ],
   "source": [
    "parameters = {'neurons':[12, 16, 32, 64, 128]}\n",
    "grid = GridSearchCV(estimator=model_s1, param_grid=parameters, n_jobs=-1, cv=5)\n",
    "grid_result = grid.fit(train_2, train_labels_2)\n",
    "print(\"Best: %f using %s\" % (grid_result.best_score_, grid_result.best_params_))"
   ]
  },
  {
   "cell_type": "code",
   "execution_count": 136,
   "id": "e3832210",
   "metadata": {},
   "outputs": [],
   "source": [
    "def create_models2(init_mode='uniform', bias_mode = 'zeros'):\n",
    "    # define model\n",
    "    model2 = models.Sequential()\n",
    "    model2.add(layers.Conv2D(12, (3,3),kernel_initializer=init_mode,bias_initializer= bias_mode, activation='relu',kernel_regularizer=regularizers.l2(0.001), input_shape=(20,120,1)))\n",
    "    model2.add(layers.MaxPooling2D((2, 2)))\n",
    "    \n",
    "    model2.add(layers.Conv2D(64,(3,3),kernel_initializer=init_mode,bias_initializer= bias_mode, activation='relu',kernel_regularizer=regularizers.l2(0.001)))\n",
    "    model2.add(Dropout(0.2))\n",
    "    model2.add(layers.MaxPooling2D((2, 2)))\n",
    "    \n",
    "    model2.add(layers.Conv2D(64,(3,3), kernel_initializer=init_mode,bias_initializer= bias_mode, activation='relu',kernel_regularizer=regularizers.l2(0.001)))\n",
    "    model2.add(Dropout(0.2))\n",
    "    \n",
    "    model2.add(layers.Flatten())\n",
    "    \n",
    "    model2.add(layers.Dense(64,kernel_initializer=init_mode,bias_initializer= bias_mode, activation='relu')) \n",
    "    model2.add(Dropout(0.2))\n",
    "    \n",
    "    model2.add(layers.Dense(12, kernel_initializer=init_mode,bias_initializer= bias_mode, activation='softmax'))\n",
    "    \n",
    "    model2.compile(loss='categorical_crossentropy',\n",
    "              optimizer='adam',\n",
    "              metrics=['accuracy'])\n",
    "    return model2\n",
    "model_s2 = KerasClassifier(build_fn=create_models2, verbose=1)"
   ]
  },
  {
   "cell_type": "code",
   "execution_count": 137,
   "id": "68dc13e1",
   "metadata": {},
   "outputs": [
    {
     "name": "stdout",
     "output_type": "stream",
     "text": [
      "150/150 [==============================] - 11s 68ms/step - loss: 2.4277 - accuracy: 0.1585\n",
      "Best: 0.233125 using {'bias_mode': 'uniform', 'init_mode': 'glorot_normal'}\n"
     ]
    }
   ],
   "source": [
    "parameters = {'init_mode':['uniform', 'normal', 'glorot_normal', 'glorot_uniform', 'he_normal', 'he_uniform'],\n",
    "             'bias_mode': ['uniform', 'normal', 'glorot_normal', 'glorot_uniform', 'he_normal', 'he_uniform']} \n",
    "grid = GridSearchCV(estimator=model_s2, param_grid=parameters, n_jobs=-1, cv=5)\n",
    "grid_result = grid.fit(train_2, train_labels_2)\n",
    "print(\"Best: %f using %s\" % (grid_result.best_score_, grid_result.best_params_))"
   ]
  },
  {
   "cell_type": "code",
   "execution_count": 138,
   "id": "739e582d",
   "metadata": {},
   "outputs": [],
   "source": [
    "def create_models3(padding = 'valid'):\n",
    "    # define model\n",
    "    model2 = models.Sequential()\n",
    "    model2.add(layers.Conv2D(12, (3,3), padding = padding, kernel_initializer='glorot_normal', bias_initializer= 'uniform', activation='relu',kernel_regularizer=regularizers.l2(0.001), input_shape=(20,120,1)))\n",
    "    model2.add(layers.MaxPooling2D((2, 2)))\n",
    "    \n",
    "    model2.add(layers.Conv2D(64,(3,3), padding = padding, kernel_initializer='glorot_normal', bias_initializer= 'uniform', activation='relu',kernel_regularizer=regularizers.l2(0.001)))\n",
    "    model2.add(Dropout(0.2))\n",
    "    model2.add(layers.MaxPooling2D((2, 2)))\n",
    "    \n",
    "    model2.add(layers.Conv2D(64,(3,3), padding = padding, kernel_initializer='glorot_normal', bias_initializer= 'uniform', activation='relu',kernel_regularizer=regularizers.l2(0.001)))\n",
    "    model2.add(Dropout(0.2))\n",
    "    \n",
    "    model2.add(layers.Flatten())\n",
    "    \n",
    "    model2.add(layers.Dense(64,kernel_initializer='glorot_normal', bias_initializer= 'uniform', activation='relu')) \n",
    "    model2.add(Dropout(0.2))\n",
    "    \n",
    "    model2.add(layers.Dense(12, kernel_initializer='glorot_normal', bias_initializer= 'uniform', activation='softmax'))\n",
    "    \n",
    "    model2.compile(loss='categorical_crossentropy',\n",
    "              optimizer='adam',\n",
    "              metrics=['accuracy'])\n",
    "    return model2\n",
    "model_s3 = KerasClassifier(build_fn=create_models3, verbose=1)"
   ]
  },
  {
   "cell_type": "code",
   "execution_count": 139,
   "id": "822094ff",
   "metadata": {},
   "outputs": [
    {
     "name": "stdout",
     "output_type": "stream",
     "text": [
      "150/150 [==============================] - 20s 125ms/step - loss: 2.3937 - accuracy: 0.1879\n",
      "Best: 0.224375 using {'padding': 'same'}\n"
     ]
    }
   ],
   "source": [
    "parameters = {'padding':['valid', 'same', 'full', 'zero']} \n",
    "grid = GridSearchCV(estimator=model_s3, param_grid=parameters, n_jobs=-1, cv=5)\n",
    "grid_result = grid.fit(train_2, train_labels_2)\n",
    "print(\"Best: %f using %s\" % (grid_result.best_score_, grid_result.best_params_))"
   ]
  },
  {
   "cell_type": "code",
   "execution_count": 140,
   "id": "5cb11d2d",
   "metadata": {},
   "outputs": [],
   "source": [
    "def create_models4(l2 = 0.001):\n",
    "    # define model\n",
    "    model2 = models.Sequential()\n",
    "    model2.add(layers.Conv2D(12, (3,3), padding ='same', kernel_initializer='glorot_normal', bias_initializer= 'uniform', activation='relu',kernel_regularizer=regularizers.l2(l2), input_shape=(20,120,1)))\n",
    "    model2.add(layers.MaxPooling2D((2, 2)))\n",
    "    \n",
    "    model2.add(layers.Conv2D(64,(3,3), padding ='same', kernel_initializer='glorot_normal', bias_initializer= 'uniform', activation='relu',kernel_regularizer=regularizers.l2(l2)))\n",
    "    model2.add(Dropout(0.2))\n",
    "    model2.add(layers.MaxPooling2D((2, 2)))\n",
    "    \n",
    "    model2.add(layers.Conv2D(64,(3,3), padding ='same', kernel_initializer='glorot_normal', bias_initializer= 'uniform', activation='relu',kernel_regularizer=regularizers.l2(l2)))\n",
    "    model2.add(Dropout(0.2))\n",
    "    \n",
    "    model2.add(layers.Flatten())\n",
    "    \n",
    "    model2.add(layers.Dense(64,kernel_initializer='glorot_normal', bias_initializer= 'uniform', activation='relu')) \n",
    "    model2.add(Dropout(0.2))\n",
    "    \n",
    "    model2.add(layers.Dense(12, kernel_initializer='glorot_normal', bias_initializer= 'uniform', activation='softmax'))\n",
    "    \n",
    "    model2.compile(loss='categorical_crossentropy',\n",
    "              optimizer='adam',\n",
    "              metrics=['accuracy'])\n",
    "    return model2\n",
    "model_s4 = KerasClassifier(build_fn=create_models4, verbose=1)"
   ]
  },
  {
   "cell_type": "code",
   "execution_count": 142,
   "id": "1bc41b28",
   "metadata": {},
   "outputs": [
    {
     "name": "stdout",
     "output_type": "stream",
     "text": [
      "150/150 [==============================] - 19s 120ms/step - loss: 2.3880 - accuracy: 0.1835\n",
      "Best: 0.235000 using {'l2': 0.001}\n"
     ]
    }
   ],
   "source": [
    "parameters = {'l2':[0.001,0.01, 0.1, 0.2, 0.3]} \n",
    "grid = GridSearchCV(estimator=model_s4, param_grid=parameters, n_jobs=-1, cv=5)\n",
    "grid_result = grid.fit(train_2, train_labels_2)\n",
    "print(\"Best: %f using %s\" % (grid_result.best_score_, grid_result.best_params_))"
   ]
  },
  {
   "cell_type": "code",
   "execution_count": 143,
   "id": "22594299",
   "metadata": {},
   "outputs": [],
   "source": [
    "def create_models5(learning_rate = 0.01):\n",
    "    # define model\n",
    "    model2 = models.Sequential()\n",
    "    model2.add(layers.Conv2D(12, (3,3), padding ='same', kernel_initializer='glorot_normal', bias_initializer= 'uniform', activation='relu',kernel_regularizer=regularizers.l2(0.001), input_shape=(20,120,1)))\n",
    "    model2.add(layers.MaxPooling2D((2, 2)))\n",
    "    \n",
    "    model2.add(layers.Conv2D(64,(3,3), padding ='same', kernel_initializer='glorot_normal', bias_initializer= 'uniform', activation='relu',kernel_regularizer=regularizers.l2(0.001)))\n",
    "    model2.add(Dropout(0.2))\n",
    "    model2.add(layers.MaxPooling2D((2, 2)))\n",
    "    \n",
    "    model2.add(layers.Conv2D(64,(3,3), padding ='same', kernel_initializer='glorot_normal', bias_initializer= 'uniform', activation='relu',kernel_regularizer=regularizers.l2(0.001)))\n",
    "    model2.add(Dropout(0.2))\n",
    "    \n",
    "    model2.add(layers.Flatten())\n",
    "    \n",
    "    model2.add(layers.Dense(64,kernel_initializer='glorot_normal', bias_initializer= 'uniform', activation='relu')) \n",
    "    model2.add(Dropout(0.2))\n",
    "    \n",
    "    model2.add(layers.Dense(12, kernel_initializer='glorot_normal', bias_initializer= 'uniform', activation='softmax'))\n",
    "    \n",
    "    optimizer = Adam(lr=learning_rate)\n",
    "    \n",
    "    model2.compile(loss='categorical_crossentropy',\n",
    "              optimizer=optimizer,\n",
    "              metrics=['accuracy'])\n",
    "    return model2\n",
    "model_s5 = KerasClassifier(build_fn=create_models5, verbose=1)"
   ]
  },
  {
   "cell_type": "code",
   "execution_count": 144,
   "id": "436bd0c2",
   "metadata": {},
   "outputs": [
    {
     "name": "stdout",
     "output_type": "stream",
     "text": [
      "150/150 [==============================] - 18s 113ms/step - loss: 2.3735 - accuracy: 0.1787\n",
      "Best: 0.233333 using {'learning_rate': 0.001}\n"
     ]
    }
   ],
   "source": [
    "parameters = {'learning_rate':[0.001,0.01, 0.1, 0.2, 0.3]} \n",
    "grid = GridSearchCV(estimator=model_s5, param_grid=parameters, n_jobs=-1, cv=5)\n",
    "grid_result = grid.fit(train_2, train_labels_2)\n",
    "print(\"Best: %f using %s\" % (grid_result.best_score_, grid_result.best_params_))"
   ]
  },
  {
   "cell_type": "code",
   "execution_count": 145,
   "id": "bd516a5d",
   "metadata": {},
   "outputs": [],
   "source": [
    "def create_models6(dropout_rate = 0.0):\n",
    "    # define model\n",
    "    model2 = models.Sequential()\n",
    "    model2.add(layers.Conv2D(12, (3,3), padding ='same', kernel_initializer='glorot_normal', bias_initializer= 'uniform', activation='relu',kernel_regularizer=regularizers.l2(0.001), input_shape=(20,120,1)))\n",
    "    model2.add(layers.MaxPooling2D((2, 2)))\n",
    "    \n",
    "    model2.add(layers.Conv2D(64,(3,3), padding ='same', kernel_initializer='glorot_normal', bias_initializer= 'uniform', activation='relu',kernel_regularizer=regularizers.l2(0.001)))\n",
    "    model2.add(Dropout(dropout_rate))\n",
    "    model2.add(layers.MaxPooling2D((2, 2)))\n",
    "    \n",
    "    model2.add(layers.Conv2D(64,(3,3), padding ='same', kernel_initializer='glorot_normal', bias_initializer= 'uniform', activation='relu',kernel_regularizer=regularizers.l2(0.001)))\n",
    "    model2.add(Dropout(dropout_rate))\n",
    "    \n",
    "    model2.add(layers.Flatten())\n",
    "    \n",
    "    model2.add(layers.Dense(64,kernel_initializer='glorot_normal', bias_initializer= 'uniform', activation='relu')) \n",
    "    model2.add(Dropout(dropout_rate))\n",
    "    \n",
    "    model2.add(layers.Dense(12, kernel_initializer='glorot_normal', bias_initializer= 'uniform', activation='softmax'))\n",
    "    \n",
    "    model2.compile(loss='categorical_crossentropy',\n",
    "              optimizer='adam',\n",
    "              metrics=['accuracy'])\n",
    "    return model2\n",
    "model_s6 = KerasClassifier(build_fn=create_models6, verbose=1)"
   ]
  },
  {
   "cell_type": "code",
   "execution_count": 146,
   "id": "2c66502e",
   "metadata": {},
   "outputs": [
    {
     "name": "stdout",
     "output_type": "stream",
     "text": [
      "150/150 [==============================] - 28s 160ms/step - loss: 2.3803 - accuracy: 0.1835\n",
      "Best: 0.229375 using {'dropout_rate': 0.1}\n"
     ]
    }
   ],
   "source": [
    "parameters = {'dropout_rate':[0.0, 0.1, 0.2, 0.3, 0.4, 0.5, 0.6]}\n",
    "grid = GridSearchCV(estimator=model_s6, param_grid=parameters, n_jobs=-1, cv=5)\n",
    "grid_result = grid.fit(train_2, train_labels_2)\n",
    "print(\"Best: %f using %s\" % (grid_result.best_score_, grid_result.best_params_))"
   ]
  },
  {
   "cell_type": "code",
   "execution_count": 147,
   "id": "020c8c34",
   "metadata": {},
   "outputs": [],
   "source": [
    "def create_models7():\n",
    "    # define model\n",
    "    model2 = models.Sequential()\n",
    "    model2.add(layers.Conv2D(12, (3,3), padding ='same', kernel_initializer='glorot_normal', bias_initializer= 'uniform', activation='relu',kernel_regularizer=regularizers.l2(0.001), input_shape=(20,120,1)))\n",
    "    model2.add(layers.MaxPooling2D((2, 2)))\n",
    "    \n",
    "    model2.add(layers.Conv2D(64,(3,3), padding ='same', kernel_initializer='glorot_normal', bias_initializer= 'uniform', activation='relu',kernel_regularizer=regularizers.l2(0.001)))\n",
    "    model2.add(Dropout(0.1))\n",
    "    model2.add(layers.MaxPooling2D((2, 2)))\n",
    "    \n",
    "    model2.add(layers.Conv2D(64,(3,3), padding ='same', kernel_initializer='glorot_normal', bias_initializer= 'uniform', activation='relu',kernel_regularizer=regularizers.l2(0.001)))\n",
    "    model2.add(Dropout(0.1))\n",
    "    \n",
    "    model2.add(layers.Flatten())\n",
    "    \n",
    "    model2.add(layers.Dense(64,kernel_initializer='glorot_normal', bias_initializer= 'uniform', activation='relu')) \n",
    "    model2.add(Dropout(0.1))\n",
    "    \n",
    "    model2.add(layers.Dense(12, kernel_initializer='glorot_normal', bias_initializer= 'uniform', activation='softmax'))\n",
    "    \n",
    "    model2.compile(loss='categorical_crossentropy',\n",
    "              optimizer='adam',\n",
    "              metrics=['accuracy'])\n",
    "    return model2\n",
    "model_s7 = KerasClassifier(build_fn=create_models7, verbose=1)"
   ]
  },
  {
   "cell_type": "code",
   "execution_count": 148,
   "id": "dc09565f",
   "metadata": {},
   "outputs": [
    {
     "ename": "KeyboardInterrupt",
     "evalue": "",
     "output_type": "error",
     "traceback": [
      "\u001b[1;31m---------------------------------------------------------------------------\u001b[0m",
      "\u001b[1;31mKeyboardInterrupt\u001b[0m                         Traceback (most recent call last)",
      "\u001b[1;32m<ipython-input-148-a2713aae6a50>\u001b[0m in \u001b[0;36m<module>\u001b[1;34m\u001b[0m\n\u001b[0;32m      2\u001b[0m               'epochs':[10, 20, 30, 40]}\n\u001b[0;32m      3\u001b[0m \u001b[0mgrid\u001b[0m \u001b[1;33m=\u001b[0m \u001b[0mGridSearchCV\u001b[0m\u001b[1;33m(\u001b[0m\u001b[0mestimator\u001b[0m\u001b[1;33m=\u001b[0m\u001b[0mmodel_s7\u001b[0m\u001b[1;33m,\u001b[0m \u001b[0mparam_grid\u001b[0m\u001b[1;33m=\u001b[0m\u001b[0mparameters\u001b[0m\u001b[1;33m,\u001b[0m \u001b[0mn_jobs\u001b[0m\u001b[1;33m=\u001b[0m\u001b[1;33m-\u001b[0m\u001b[1;36m1\u001b[0m\u001b[1;33m,\u001b[0m \u001b[0mcv\u001b[0m\u001b[1;33m=\u001b[0m\u001b[1;36m3\u001b[0m\u001b[1;33m)\u001b[0m\u001b[1;33m\u001b[0m\u001b[1;33m\u001b[0m\u001b[0m\n\u001b[1;32m----> 4\u001b[1;33m \u001b[0mgrid_result\u001b[0m \u001b[1;33m=\u001b[0m \u001b[0mgrid\u001b[0m\u001b[1;33m.\u001b[0m\u001b[0mfit\u001b[0m\u001b[1;33m(\u001b[0m\u001b[0mtrain_2\u001b[0m\u001b[1;33m,\u001b[0m \u001b[0mtrain_labels_2\u001b[0m\u001b[1;33m)\u001b[0m\u001b[1;33m\u001b[0m\u001b[1;33m\u001b[0m\u001b[0m\n\u001b[0m\u001b[0;32m      5\u001b[0m \u001b[0mprint\u001b[0m\u001b[1;33m(\u001b[0m\u001b[1;34m\"Best: %f using %s\"\u001b[0m \u001b[1;33m%\u001b[0m \u001b[1;33m(\u001b[0m\u001b[0mgrid_result\u001b[0m\u001b[1;33m.\u001b[0m\u001b[0mbest_score_\u001b[0m\u001b[1;33m,\u001b[0m \u001b[0mgrid_result\u001b[0m\u001b[1;33m.\u001b[0m\u001b[0mbest_params_\u001b[0m\u001b[1;33m)\u001b[0m\u001b[1;33m)\u001b[0m\u001b[1;33m\u001b[0m\u001b[1;33m\u001b[0m\u001b[0m\n",
      "\u001b[1;32mD:\\Program Files\\anaconda\\lib\\site-packages\\sklearn\\utils\\validation.py\u001b[0m in \u001b[0;36minner_f\u001b[1;34m(*args, **kwargs)\u001b[0m\n\u001b[0;32m     61\u001b[0m             \u001b[0mextra_args\u001b[0m \u001b[1;33m=\u001b[0m \u001b[0mlen\u001b[0m\u001b[1;33m(\u001b[0m\u001b[0margs\u001b[0m\u001b[1;33m)\u001b[0m \u001b[1;33m-\u001b[0m \u001b[0mlen\u001b[0m\u001b[1;33m(\u001b[0m\u001b[0mall_args\u001b[0m\u001b[1;33m)\u001b[0m\u001b[1;33m\u001b[0m\u001b[1;33m\u001b[0m\u001b[0m\n\u001b[0;32m     62\u001b[0m             \u001b[1;32mif\u001b[0m \u001b[0mextra_args\u001b[0m \u001b[1;33m<=\u001b[0m \u001b[1;36m0\u001b[0m\u001b[1;33m:\u001b[0m\u001b[1;33m\u001b[0m\u001b[1;33m\u001b[0m\u001b[0m\n\u001b[1;32m---> 63\u001b[1;33m                 \u001b[1;32mreturn\u001b[0m \u001b[0mf\u001b[0m\u001b[1;33m(\u001b[0m\u001b[1;33m*\u001b[0m\u001b[0margs\u001b[0m\u001b[1;33m,\u001b[0m \u001b[1;33m**\u001b[0m\u001b[0mkwargs\u001b[0m\u001b[1;33m)\u001b[0m\u001b[1;33m\u001b[0m\u001b[1;33m\u001b[0m\u001b[0m\n\u001b[0m\u001b[0;32m     64\u001b[0m \u001b[1;33m\u001b[0m\u001b[0m\n\u001b[0;32m     65\u001b[0m             \u001b[1;31m# extra_args > 0\u001b[0m\u001b[1;33m\u001b[0m\u001b[1;33m\u001b[0m\u001b[1;33m\u001b[0m\u001b[0m\n",
      "\u001b[1;32mD:\\Program Files\\anaconda\\lib\\site-packages\\sklearn\\model_selection\\_search.py\u001b[0m in \u001b[0;36mfit\u001b[1;34m(self, X, y, groups, **fit_params)\u001b[0m\n\u001b[0;32m    839\u001b[0m                 \u001b[1;32mreturn\u001b[0m \u001b[0mresults\u001b[0m\u001b[1;33m\u001b[0m\u001b[1;33m\u001b[0m\u001b[0m\n\u001b[0;32m    840\u001b[0m \u001b[1;33m\u001b[0m\u001b[0m\n\u001b[1;32m--> 841\u001b[1;33m             \u001b[0mself\u001b[0m\u001b[1;33m.\u001b[0m\u001b[0m_run_search\u001b[0m\u001b[1;33m(\u001b[0m\u001b[0mevaluate_candidates\u001b[0m\u001b[1;33m)\u001b[0m\u001b[1;33m\u001b[0m\u001b[1;33m\u001b[0m\u001b[0m\n\u001b[0m\u001b[0;32m    842\u001b[0m \u001b[1;33m\u001b[0m\u001b[0m\n\u001b[0;32m    843\u001b[0m             \u001b[1;31m# multimetric is determined here because in the case of a callable\u001b[0m\u001b[1;33m\u001b[0m\u001b[1;33m\u001b[0m\u001b[1;33m\u001b[0m\u001b[0m\n",
      "\u001b[1;32mD:\\Program Files\\anaconda\\lib\\site-packages\\sklearn\\model_selection\\_search.py\u001b[0m in \u001b[0;36m_run_search\u001b[1;34m(self, evaluate_candidates)\u001b[0m\n\u001b[0;32m   1286\u001b[0m     \u001b[1;32mdef\u001b[0m \u001b[0m_run_search\u001b[0m\u001b[1;33m(\u001b[0m\u001b[0mself\u001b[0m\u001b[1;33m,\u001b[0m \u001b[0mevaluate_candidates\u001b[0m\u001b[1;33m)\u001b[0m\u001b[1;33m:\u001b[0m\u001b[1;33m\u001b[0m\u001b[1;33m\u001b[0m\u001b[0m\n\u001b[0;32m   1287\u001b[0m         \u001b[1;34m\"\"\"Search all candidates in param_grid\"\"\"\u001b[0m\u001b[1;33m\u001b[0m\u001b[1;33m\u001b[0m\u001b[0m\n\u001b[1;32m-> 1288\u001b[1;33m         \u001b[0mevaluate_candidates\u001b[0m\u001b[1;33m(\u001b[0m\u001b[0mParameterGrid\u001b[0m\u001b[1;33m(\u001b[0m\u001b[0mself\u001b[0m\u001b[1;33m.\u001b[0m\u001b[0mparam_grid\u001b[0m\u001b[1;33m)\u001b[0m\u001b[1;33m)\u001b[0m\u001b[1;33m\u001b[0m\u001b[1;33m\u001b[0m\u001b[0m\n\u001b[0m\u001b[0;32m   1289\u001b[0m \u001b[1;33m\u001b[0m\u001b[0m\n\u001b[0;32m   1290\u001b[0m \u001b[1;33m\u001b[0m\u001b[0m\n",
      "\u001b[1;32mD:\\Program Files\\anaconda\\lib\\site-packages\\sklearn\\model_selection\\_search.py\u001b[0m in \u001b[0;36mevaluate_candidates\u001b[1;34m(candidate_params, cv, more_results)\u001b[0m\n\u001b[0;32m    793\u001b[0m                               n_splits, n_candidates, n_candidates * n_splits))\n\u001b[0;32m    794\u001b[0m \u001b[1;33m\u001b[0m\u001b[0m\n\u001b[1;32m--> 795\u001b[1;33m                 out = parallel(delayed(_fit_and_score)(clone(base_estimator),\n\u001b[0m\u001b[0;32m    796\u001b[0m                                                        \u001b[0mX\u001b[0m\u001b[1;33m,\u001b[0m \u001b[0my\u001b[0m\u001b[1;33m,\u001b[0m\u001b[1;33m\u001b[0m\u001b[1;33m\u001b[0m\u001b[0m\n\u001b[0;32m    797\u001b[0m                                                        \u001b[0mtrain\u001b[0m\u001b[1;33m=\u001b[0m\u001b[0mtrain\u001b[0m\u001b[1;33m,\u001b[0m \u001b[0mtest\u001b[0m\u001b[1;33m=\u001b[0m\u001b[0mtest\u001b[0m\u001b[1;33m,\u001b[0m\u001b[1;33m\u001b[0m\u001b[1;33m\u001b[0m\u001b[0m\n",
      "\u001b[1;32mD:\\Program Files\\anaconda\\lib\\site-packages\\joblib\\parallel.py\u001b[0m in \u001b[0;36m__call__\u001b[1;34m(self, iterable)\u001b[0m\n\u001b[0;32m   1052\u001b[0m \u001b[1;33m\u001b[0m\u001b[0m\n\u001b[0;32m   1053\u001b[0m             \u001b[1;32mwith\u001b[0m \u001b[0mself\u001b[0m\u001b[1;33m.\u001b[0m\u001b[0m_backend\u001b[0m\u001b[1;33m.\u001b[0m\u001b[0mretrieval_context\u001b[0m\u001b[1;33m(\u001b[0m\u001b[1;33m)\u001b[0m\u001b[1;33m:\u001b[0m\u001b[1;33m\u001b[0m\u001b[1;33m\u001b[0m\u001b[0m\n\u001b[1;32m-> 1054\u001b[1;33m                 \u001b[0mself\u001b[0m\u001b[1;33m.\u001b[0m\u001b[0mretrieve\u001b[0m\u001b[1;33m(\u001b[0m\u001b[1;33m)\u001b[0m\u001b[1;33m\u001b[0m\u001b[1;33m\u001b[0m\u001b[0m\n\u001b[0m\u001b[0;32m   1055\u001b[0m             \u001b[1;31m# Make sure that we get a last message telling us we are done\u001b[0m\u001b[1;33m\u001b[0m\u001b[1;33m\u001b[0m\u001b[1;33m\u001b[0m\u001b[0m\n\u001b[0;32m   1056\u001b[0m             \u001b[0melapsed_time\u001b[0m \u001b[1;33m=\u001b[0m \u001b[0mtime\u001b[0m\u001b[1;33m.\u001b[0m\u001b[0mtime\u001b[0m\u001b[1;33m(\u001b[0m\u001b[1;33m)\u001b[0m \u001b[1;33m-\u001b[0m \u001b[0mself\u001b[0m\u001b[1;33m.\u001b[0m\u001b[0m_start_time\u001b[0m\u001b[1;33m\u001b[0m\u001b[1;33m\u001b[0m\u001b[0m\n",
      "\u001b[1;32mD:\\Program Files\\anaconda\\lib\\site-packages\\joblib\\parallel.py\u001b[0m in \u001b[0;36mretrieve\u001b[1;34m(self)\u001b[0m\n\u001b[0;32m    931\u001b[0m             \u001b[1;32mtry\u001b[0m\u001b[1;33m:\u001b[0m\u001b[1;33m\u001b[0m\u001b[1;33m\u001b[0m\u001b[0m\n\u001b[0;32m    932\u001b[0m                 \u001b[1;32mif\u001b[0m \u001b[0mgetattr\u001b[0m\u001b[1;33m(\u001b[0m\u001b[0mself\u001b[0m\u001b[1;33m.\u001b[0m\u001b[0m_backend\u001b[0m\u001b[1;33m,\u001b[0m \u001b[1;34m'supports_timeout'\u001b[0m\u001b[1;33m,\u001b[0m \u001b[1;32mFalse\u001b[0m\u001b[1;33m)\u001b[0m\u001b[1;33m:\u001b[0m\u001b[1;33m\u001b[0m\u001b[1;33m\u001b[0m\u001b[0m\n\u001b[1;32m--> 933\u001b[1;33m                     \u001b[0mself\u001b[0m\u001b[1;33m.\u001b[0m\u001b[0m_output\u001b[0m\u001b[1;33m.\u001b[0m\u001b[0mextend\u001b[0m\u001b[1;33m(\u001b[0m\u001b[0mjob\u001b[0m\u001b[1;33m.\u001b[0m\u001b[0mget\u001b[0m\u001b[1;33m(\u001b[0m\u001b[0mtimeout\u001b[0m\u001b[1;33m=\u001b[0m\u001b[0mself\u001b[0m\u001b[1;33m.\u001b[0m\u001b[0mtimeout\u001b[0m\u001b[1;33m)\u001b[0m\u001b[1;33m)\u001b[0m\u001b[1;33m\u001b[0m\u001b[1;33m\u001b[0m\u001b[0m\n\u001b[0m\u001b[0;32m    934\u001b[0m                 \u001b[1;32melse\u001b[0m\u001b[1;33m:\u001b[0m\u001b[1;33m\u001b[0m\u001b[1;33m\u001b[0m\u001b[0m\n\u001b[0;32m    935\u001b[0m                     \u001b[0mself\u001b[0m\u001b[1;33m.\u001b[0m\u001b[0m_output\u001b[0m\u001b[1;33m.\u001b[0m\u001b[0mextend\u001b[0m\u001b[1;33m(\u001b[0m\u001b[0mjob\u001b[0m\u001b[1;33m.\u001b[0m\u001b[0mget\u001b[0m\u001b[1;33m(\u001b[0m\u001b[1;33m)\u001b[0m\u001b[1;33m)\u001b[0m\u001b[1;33m\u001b[0m\u001b[1;33m\u001b[0m\u001b[0m\n",
      "\u001b[1;32mD:\\Program Files\\anaconda\\lib\\site-packages\\joblib\\_parallel_backends.py\u001b[0m in \u001b[0;36mwrap_future_result\u001b[1;34m(future, timeout)\u001b[0m\n\u001b[0;32m    540\u001b[0m         AsyncResults.get from multiprocessing.\"\"\"\n\u001b[0;32m    541\u001b[0m         \u001b[1;32mtry\u001b[0m\u001b[1;33m:\u001b[0m\u001b[1;33m\u001b[0m\u001b[1;33m\u001b[0m\u001b[0m\n\u001b[1;32m--> 542\u001b[1;33m             \u001b[1;32mreturn\u001b[0m \u001b[0mfuture\u001b[0m\u001b[1;33m.\u001b[0m\u001b[0mresult\u001b[0m\u001b[1;33m(\u001b[0m\u001b[0mtimeout\u001b[0m\u001b[1;33m=\u001b[0m\u001b[0mtimeout\u001b[0m\u001b[1;33m)\u001b[0m\u001b[1;33m\u001b[0m\u001b[1;33m\u001b[0m\u001b[0m\n\u001b[0m\u001b[0;32m    543\u001b[0m         \u001b[1;32mexcept\u001b[0m \u001b[0mCfTimeoutError\u001b[0m \u001b[1;32mas\u001b[0m \u001b[0me\u001b[0m\u001b[1;33m:\u001b[0m\u001b[1;33m\u001b[0m\u001b[1;33m\u001b[0m\u001b[0m\n\u001b[0;32m    544\u001b[0m             \u001b[1;32mraise\u001b[0m \u001b[0mTimeoutError\u001b[0m \u001b[1;32mfrom\u001b[0m \u001b[0me\u001b[0m\u001b[1;33m\u001b[0m\u001b[1;33m\u001b[0m\u001b[0m\n",
      "\u001b[1;32mD:\\Program Files\\anaconda\\lib\\concurrent\\futures\\_base.py\u001b[0m in \u001b[0;36mresult\u001b[1;34m(self, timeout)\u001b[0m\n\u001b[0;32m    432\u001b[0m                 \u001b[1;32mreturn\u001b[0m \u001b[0mself\u001b[0m\u001b[1;33m.\u001b[0m\u001b[0m__get_result\u001b[0m\u001b[1;33m(\u001b[0m\u001b[1;33m)\u001b[0m\u001b[1;33m\u001b[0m\u001b[1;33m\u001b[0m\u001b[0m\n\u001b[0;32m    433\u001b[0m \u001b[1;33m\u001b[0m\u001b[0m\n\u001b[1;32m--> 434\u001b[1;33m             \u001b[0mself\u001b[0m\u001b[1;33m.\u001b[0m\u001b[0m_condition\u001b[0m\u001b[1;33m.\u001b[0m\u001b[0mwait\u001b[0m\u001b[1;33m(\u001b[0m\u001b[0mtimeout\u001b[0m\u001b[1;33m)\u001b[0m\u001b[1;33m\u001b[0m\u001b[1;33m\u001b[0m\u001b[0m\n\u001b[0m\u001b[0;32m    435\u001b[0m \u001b[1;33m\u001b[0m\u001b[0m\n\u001b[0;32m    436\u001b[0m             \u001b[1;32mif\u001b[0m \u001b[0mself\u001b[0m\u001b[1;33m.\u001b[0m\u001b[0m_state\u001b[0m \u001b[1;32min\u001b[0m \u001b[1;33m[\u001b[0m\u001b[0mCANCELLED\u001b[0m\u001b[1;33m,\u001b[0m \u001b[0mCANCELLED_AND_NOTIFIED\u001b[0m\u001b[1;33m]\u001b[0m\u001b[1;33m:\u001b[0m\u001b[1;33m\u001b[0m\u001b[1;33m\u001b[0m\u001b[0m\n",
      "\u001b[1;32mD:\\Program Files\\anaconda\\lib\\threading.py\u001b[0m in \u001b[0;36mwait\u001b[1;34m(self, timeout)\u001b[0m\n\u001b[0;32m    300\u001b[0m         \u001b[1;32mtry\u001b[0m\u001b[1;33m:\u001b[0m    \u001b[1;31m# restore state no matter what (e.g., KeyboardInterrupt)\u001b[0m\u001b[1;33m\u001b[0m\u001b[1;33m\u001b[0m\u001b[0m\n\u001b[0;32m    301\u001b[0m             \u001b[1;32mif\u001b[0m \u001b[0mtimeout\u001b[0m \u001b[1;32mis\u001b[0m \u001b[1;32mNone\u001b[0m\u001b[1;33m:\u001b[0m\u001b[1;33m\u001b[0m\u001b[1;33m\u001b[0m\u001b[0m\n\u001b[1;32m--> 302\u001b[1;33m                 \u001b[0mwaiter\u001b[0m\u001b[1;33m.\u001b[0m\u001b[0macquire\u001b[0m\u001b[1;33m(\u001b[0m\u001b[1;33m)\u001b[0m\u001b[1;33m\u001b[0m\u001b[1;33m\u001b[0m\u001b[0m\n\u001b[0m\u001b[0;32m    303\u001b[0m                 \u001b[0mgotit\u001b[0m \u001b[1;33m=\u001b[0m \u001b[1;32mTrue\u001b[0m\u001b[1;33m\u001b[0m\u001b[1;33m\u001b[0m\u001b[0m\n\u001b[0;32m    304\u001b[0m             \u001b[1;32melse\u001b[0m\u001b[1;33m:\u001b[0m\u001b[1;33m\u001b[0m\u001b[1;33m\u001b[0m\u001b[0m\n",
      "\u001b[1;31mKeyboardInterrupt\u001b[0m: "
     ]
    }
   ],
   "source": [
    "#nije stigao da mi očita pa sam Interruptovala \n",
    "\n",
    "parameters = {'batch_size':[150, 200, 300, 400], \n",
    "              'epochs':[10, 20, 30, 40]}\n",
    "grid = GridSearchCV(estimator=model_s7, param_grid=parameters, n_jobs=-1, cv=3)\n",
    "grid_result = grid.fit(train_2, train_labels_2)\n",
    "print(\"Best: %f using %s\" % (grid_result.best_score_, grid_result.best_params_))"
   ]
  },
  {
   "cell_type": "markdown",
   "id": "aac94587",
   "metadata": {},
   "source": [
    "# Scattering model after hyperparameter tuning"
   ]
  },
  {
   "cell_type": "code",
   "execution_count": 149,
   "id": "517bee95",
   "metadata": {},
   "outputs": [],
   "source": [
    "model2 = models.Sequential()\n",
    "model2.add(layers.Conv2D(12, (3,3), padding ='same', kernel_initializer='glorot_normal', bias_initializer= 'uniform', activation='relu',kernel_regularizer=regularizers.l2(0.001), input_shape=(20,120,1)))\n",
    "model2.add(layers.MaxPooling2D((2, 2)))\n",
    "    \n",
    "model2.add(layers.Conv2D(64,(3,3), padding ='same', kernel_initializer='glorot_normal', bias_initializer= 'uniform', activation='relu',kernel_regularizer=regularizers.l2(0.001)))\n",
    "model2.add(Dropout(0.1))\n",
    "model2.add(layers.MaxPooling2D((2, 2)))\n",
    "    \n",
    "model2.add(layers.Conv2D(64,(3,3), padding ='same', kernel_initializer='glorot_normal', bias_initializer= 'uniform', activation='relu',kernel_regularizer=regularizers.l2(0.001)))\n",
    "model2.add(Dropout(0.1))\n",
    "    \n",
    "model2.add(layers.Flatten())\n",
    "    \n",
    "model2.add(layers.Dense(64,kernel_initializer='glorot_normal', bias_initializer= 'uniform', activation='relu')) \n",
    "model2.add(Dropout(0.1))\n",
    "    \n",
    "model2.add(layers.Dense(12, kernel_initializer='glorot_normal', bias_initializer= 'uniform', activation='softmax'))\n",
    "    \n",
    "model2.compile(loss='categorical_crossentropy',\n",
    "              optimizer='adam',\n",
    "              metrics=['accuracy'])"
   ]
  },
  {
   "cell_type": "code",
   "execution_count": 150,
   "id": "466f6dfc",
   "metadata": {},
   "outputs": [
    {
     "name": "stdout",
     "output_type": "stream",
     "text": [
      "Epoch 1/15\n",
      "12/12 [==============================] - 16s 1s/step - loss: 2.4712 - accuracy: 0.1431\n",
      "Epoch 2/15\n",
      "12/12 [==============================] - 14s 1s/step - loss: 2.3230 - accuracy: 0.2123\n",
      "Epoch 3/15\n",
      "12/12 [==============================] - 14s 1s/step - loss: 2.2203 - accuracy: 0.2581\n",
      "Epoch 4/15\n",
      "12/12 [==============================] - 16s 1s/step - loss: 2.1223 - accuracy: 0.3002\n",
      "Epoch 5/15\n",
      "12/12 [==============================] - 15s 1s/step - loss: 2.0382 - accuracy: 0.3250\n",
      "Epoch 6/15\n",
      "12/12 [==============================] - 14s 1s/step - loss: 1.9615 - accuracy: 0.3542\n",
      "Epoch 7/15\n",
      "12/12 [==============================] - 14s 1s/step - loss: 1.8863 - accuracy: 0.3879\n",
      "Epoch 8/15\n",
      "12/12 [==============================] - 14s 1s/step - loss: 1.8262 - accuracy: 0.4017\n",
      "Epoch 9/15\n",
      "12/12 [==============================] - 16s 1s/step - loss: 1.7818 - accuracy: 0.4171\n",
      "Epoch 10/15\n",
      "12/12 [==============================] - 14s 1s/step - loss: 1.6954 - accuracy: 0.4471\n",
      "Epoch 11/15\n",
      "12/12 [==============================] - 14s 1s/step - loss: 1.6470 - accuracy: 0.4646\n",
      "Epoch 12/15\n",
      "12/12 [==============================] - 14s 1s/step - loss: 1.6106 - accuracy: 0.4729\n",
      "Epoch 13/15\n",
      "12/12 [==============================] - 14s 1s/step - loss: 1.5506 - accuracy: 0.4975\n",
      "Epoch 14/15\n",
      "12/12 [==============================] - 14s 1s/step - loss: 1.5136 - accuracy: 0.5133\n",
      "Epoch 15/15\n",
      "12/12 [==============================] - 15s 1s/step - loss: 1.5229 - accuracy: 0.5073\n"
     ]
    },
    {
     "data": {
      "text/plain": [
       "<keras.callbacks.History at 0x1bf0ef5c340>"
      ]
     },
     "execution_count": 150,
     "metadata": {},
     "output_type": "execute_result"
    }
   ],
   "source": [
    "model2.fit(train_2, train_labels_2,batch_size=400, epochs=15)"
   ]
  },
  {
   "cell_type": "code",
   "execution_count": 151,
   "id": "464b7c2a",
   "metadata": {},
   "outputs": [
    {
     "name": "stdout",
     "output_type": "stream",
     "text": [
      "38/38 [==============================] - 1s 28ms/step - loss: 1.8314 - accuracy: 0.4375\n"
     ]
    }
   ],
   "source": [
    "results_2 = model2.evaluate(val_2,val_labels_2)"
   ]
  },
  {
   "cell_type": "code",
   "execution_count": 152,
   "id": "664861e2",
   "metadata": {},
   "outputs": [
    {
     "name": "stdout",
     "output_type": "stream",
     "text": [
      "121/121 [==============================] - 4s 30ms/step\n"
     ]
    }
   ],
   "source": [
    "y_pred2 = model2.predict(test_data2_trans)"
   ]
  },
  {
   "cell_type": "markdown",
   "id": "04bf1664",
   "metadata": {},
   "source": [
    "# The first model for lifetime"
   ]
  },
  {
   "cell_type": "code",
   "execution_count": 156,
   "id": "6b08a8a3",
   "metadata": {},
   "outputs": [],
   "source": [
    "model3 = models.Sequential()\n",
    "\n",
    "model3.add(layers.Conv2D(32,(3,3), activation = 'relu', padding = \"same\", input_shape = (4,24,1)))\n",
    "model3.add(layers.MaxPooling2D((1, 1)))\n",
    "\n",
    "model3.add(layers.Conv2D(64,(3,3), activation = 'relu', kernel_regularizer=regularizers.l2(0.01)))\n",
    "\n",
    "model3.add(layers.Flatten())\n",
    "model3.add(layers.Dense(12, activation='relu'))\n",
    "\n",
    "model3.add(layers.Dense(12, activation='softmax'))"
   ]
  },
  {
   "cell_type": "code",
   "execution_count": 157,
   "id": "f56be0bb",
   "metadata": {},
   "outputs": [
    {
     "name": "stdout",
     "output_type": "stream",
     "text": [
      "Model: \"sequential_34\"\n",
      "_________________________________________________________________\n",
      " Layer (type)                Output Shape              Param #   \n",
      "=================================================================\n",
      " conv2d_102 (Conv2D)         (None, 4, 24, 32)         320       \n",
      "                                                                 \n",
      " max_pooling2d_68 (MaxPoolin  (None, 4, 24, 32)        0         \n",
      " g2D)                                                            \n",
      "                                                                 \n",
      " conv2d_103 (Conv2D)         (None, 2, 22, 64)         18496     \n",
      "                                                                 \n",
      " flatten_34 (Flatten)        (None, 2816)              0         \n",
      "                                                                 \n",
      " dense_68 (Dense)            (None, 12)                33804     \n",
      "                                                                 \n",
      " dense_69 (Dense)            (None, 12)                156       \n",
      "                                                                 \n",
      "=================================================================\n",
      "Total params: 52,776\n",
      "Trainable params: 52,776\n",
      "Non-trainable params: 0\n",
      "_________________________________________________________________\n"
     ]
    }
   ],
   "source": [
    "model3.summary()"
   ]
  },
  {
   "cell_type": "code",
   "execution_count": 158,
   "id": "0da714ea",
   "metadata": {},
   "outputs": [],
   "source": [
    "model3.compile(optimizer='adam',          \n",
    "              loss='categorical_crossentropy',   \n",
    "              metrics=['accuracy'])"
   ]
  },
  {
   "cell_type": "code",
   "execution_count": 159,
   "id": "8ac35a75",
   "metadata": {},
   "outputs": [
    {
     "name": "stdout",
     "output_type": "stream",
     "text": [
      "Epoch 1/20\n",
      "12/12 [==============================] - 2s 116ms/step - loss: 2.8021 - accuracy: 0.1635 - val_loss: 2.6551 - val_accuracy: 0.2158\n",
      "Epoch 2/20\n",
      "12/12 [==============================] - 1s 90ms/step - loss: 2.5785 - accuracy: 0.2248 - val_loss: 2.4465 - val_accuracy: 0.2400\n",
      "Epoch 3/20\n",
      "12/12 [==============================] - 1s 91ms/step - loss: 2.4153 - accuracy: 0.2617 - val_loss: 2.3169 - val_accuracy: 0.2842\n",
      "Epoch 4/20\n",
      "12/12 [==============================] - 1s 91ms/step - loss: 2.2988 - accuracy: 0.2927 - val_loss: 2.2350 - val_accuracy: 0.3067\n",
      "Epoch 5/20\n",
      "12/12 [==============================] - 1s 90ms/step - loss: 2.2260 - accuracy: 0.2962 - val_loss: 2.1739 - val_accuracy: 0.3058\n",
      "Epoch 6/20\n",
      "12/12 [==============================] - 1s 93ms/step - loss: 2.1696 - accuracy: 0.3073 - val_loss: 2.1446 - val_accuracy: 0.3167\n",
      "Epoch 7/20\n",
      "12/12 [==============================] - 1s 96ms/step - loss: 2.1254 - accuracy: 0.3198 - val_loss: 2.1026 - val_accuracy: 0.3175\n",
      "Epoch 8/20\n",
      "12/12 [==============================] - 1s 92ms/step - loss: 2.0912 - accuracy: 0.3246 - val_loss: 2.0877 - val_accuracy: 0.3225\n",
      "Epoch 9/20\n",
      "12/12 [==============================] - 1s 92ms/step - loss: 2.0622 - accuracy: 0.3231 - val_loss: 2.0523 - val_accuracy: 0.3175\n",
      "Epoch 10/20\n",
      "12/12 [==============================] - 1s 112ms/step - loss: 2.0291 - accuracy: 0.3375 - val_loss: 2.0399 - val_accuracy: 0.3300\n",
      "Epoch 11/20\n",
      "12/12 [==============================] - 1s 91ms/step - loss: 2.0005 - accuracy: 0.3446 - val_loss: 2.0317 - val_accuracy: 0.3267\n",
      "Epoch 12/20\n",
      "12/12 [==============================] - 1s 94ms/step - loss: 1.9858 - accuracy: 0.3517 - val_loss: 2.0138 - val_accuracy: 0.3258\n",
      "Epoch 13/20\n",
      "12/12 [==============================] - 1s 88ms/step - loss: 1.9703 - accuracy: 0.3523 - val_loss: 2.0052 - val_accuracy: 0.3342\n",
      "Epoch 14/20\n",
      "12/12 [==============================] - 1s 88ms/step - loss: 1.9521 - accuracy: 0.3608 - val_loss: 2.0060 - val_accuracy: 0.3292\n",
      "Epoch 15/20\n",
      "12/12 [==============================] - 1s 92ms/step - loss: 1.9349 - accuracy: 0.3542 - val_loss: 2.0087 - val_accuracy: 0.3433\n",
      "Epoch 16/20\n",
      "12/12 [==============================] - 1s 89ms/step - loss: 1.9298 - accuracy: 0.3592 - val_loss: 2.0015 - val_accuracy: 0.3250\n",
      "Epoch 17/20\n",
      "12/12 [==============================] - 1s 88ms/step - loss: 1.9047 - accuracy: 0.3694 - val_loss: 1.9908 - val_accuracy: 0.3492\n",
      "Epoch 18/20\n",
      "12/12 [==============================] - 1s 90ms/step - loss: 1.8881 - accuracy: 0.3713 - val_loss: 1.9756 - val_accuracy: 0.3358\n",
      "Epoch 19/20\n",
      "12/12 [==============================] - 1s 90ms/step - loss: 1.8787 - accuracy: 0.3796 - val_loss: 1.9864 - val_accuracy: 0.3317\n",
      "Epoch 20/20\n",
      "12/12 [==============================] - 2s 141ms/step - loss: 1.8682 - accuracy: 0.3796 - val_loss: 1.9689 - val_accuracy: 0.3375\n"
     ]
    }
   ],
   "source": [
    "hist3 = model3.fit(train_3, train_labels_3, batch_size=400, epochs=20, validation_data = (val_3,val_labels_3))"
   ]
  },
  {
   "cell_type": "code",
   "execution_count": 160,
   "id": "42e1170c",
   "metadata": {},
   "outputs": [
    {
     "data": {
      "image/png": "[encoded data removed]",
      "text/plain": [
       "<Figure size 432x288 with 1 Axes>"
      ]
     },
     "metadata": {
      "needs_background": "light"
     },
     "output_type": "display_data"
    },
    {
     "data": {
      "image/png": "[encoded data removed]",
      "text/plain": [
       "<Figure size 432x288 with 1 Axes>"
      ]
     },
     "metadata": {
      "needs_background": "light"
     },
     "output_type": "display_data"
    }
   ],
   "source": [
    "acc = hist3.history['accuracy']\n",
    "val_acc = hist3.history['val_accuracy']\n",
    "loss = hist3.history['loss']\n",
    "val_loss = hist3.history['val_loss']\n",
    "\n",
    "epochs = range(len(acc))\n",
    "\n",
    "plt.plot(epochs, acc, 'bo', label='Training acc')\n",
    "plt.plot(epochs, val_acc, 'b', label='Validation acc')\n",
    "plt.xlabel('Epochs')\n",
    "\n",
    "plt.title('Training and validation accuracy')\n",
    "plt.legend()\n",
    "\n",
    "plt.figure()\n",
    "\n",
    "plt.plot(epochs, loss, 'bo', label='Training loss')\n",
    "plt.plot(epochs, val_loss, 'b', label='Validation loss')\n",
    "plt.title('Training and validation loss')\n",
    "plt.legend()\n",
    "\n",
    "plt.show()"
   ]
  },
  {
   "cell_type": "code",
   "execution_count": 161,
   "id": "777a4aa9",
   "metadata": {},
   "outputs": [
    {
     "name": "stdout",
     "output_type": "stream",
     "text": [
      "121/121 [==============================] - 1s 5ms/step\n"
     ]
    }
   ],
   "source": [
    "y_pred3 = model3.predict(test_data3_trans)"
   ]
  },
  {
   "cell_type": "code",
   "execution_count": 162,
   "id": "2a8e3682",
   "metadata": {},
   "outputs": [
    {
     "data": {
      "text/plain": [
       "array([0, 0, 0, ..., 0, 0, 0])"
      ]
     },
     "execution_count": 162,
     "metadata": {},
     "output_type": "execute_result"
    }
   ],
   "source": [
    "ylist3=np.empty(shape=len(y_pred3))\n",
    "ylist3=ylist3.astype(int)\n",
    "ylist3"
   ]
  },
  {
   "cell_type": "code",
   "execution_count": 163,
   "id": "4a2e6ed7",
   "metadata": {},
   "outputs": [],
   "source": [
    "for i in range(len(y_pred3)):\n",
    "    ylist3[i]=y_pred3[i].argmax()"
   ]
  },
  {
   "cell_type": "code",
   "execution_count": 164,
   "id": "c85cc3c5",
   "metadata": {},
   "outputs": [
    {
     "data": {
      "text/plain": [
       "array([8, 9, 0, ..., 8, 3, 8])"
      ]
     },
     "execution_count": 164,
     "metadata": {},
     "output_type": "execute_result"
    }
   ],
   "source": [
    "ylist3"
   ]
  },
  {
   "cell_type": "code",
   "execution_count": 165,
   "id": "e4103d7a",
   "metadata": {},
   "outputs": [],
   "source": [
    "os.chdir(\"D:\\\\Maja\\\\LSDM\\\\Projekat\")\n",
    "submission=pd.read_csv('submission.csv')\n",
    "submission['Pollen']=ylist3\n",
    "submission = submission.set_index('ID')"
   ]
  },
  {
   "cell_type": "code",
   "execution_count": 166,
   "id": "64508987",
   "metadata": {},
   "outputs": [],
   "source": [
    "submission.to_csv('nn58.csv')"
   ]
  },
  {
   "cell_type": "markdown",
   "id": "8d35bed9",
   "metadata": {},
   "source": [
    "# Hyperparameter tuning - lifetime"
   ]
  },
  {
   "cell_type": "code",
   "execution_count": 172,
   "id": "43b34803",
   "metadata": {},
   "outputs": [],
   "source": [
    "def create_modellt1(neurons = 1):\n",
    "    \n",
    "    model3 = models.Sequential()\n",
    "    model3.add(layers.Conv2D(32,(3,3), activation = 'relu', padding = \"same\", input_shape = (4,24,1)))\n",
    "    model3.add(layers.MaxPooling2D((1, 1)))\n",
    "    \n",
    "    model3.add(layers.Conv2D(neurons,(3,3), activation = 'relu', kernel_regularizer=regularizers.l2(0.01)))\n",
    "    \n",
    "    model3.add(layers.Flatten())\n",
    "    \n",
    "    model3.add(layers.Dense(12, activation='relu'))\n",
    "    model3.add(layers.Dense(12, activation='softmax'))\n",
    "    \n",
    "    model3.compile(loss='categorical_crossentropy',\n",
    "              optimizer='adam',\n",
    "              metrics=['accuracy'])\n",
    "    return model3\n",
    "model_lt1 = KerasClassifier(build_fn=create_modellt1, verbose=1)"
   ]
  },
  {
   "cell_type": "code",
   "execution_count": 174,
   "id": "76a8346a",
   "metadata": {},
   "outputs": [
    {
     "name": "stdout",
     "output_type": "stream",
     "text": [
      "150/150 [==============================] - 5s 12ms/step - loss: 2.5056 - accuracy: 0.1846\n",
      "Best: 0.252708 using {'neurons': 32}\n"
     ]
    }
   ],
   "source": [
    "parameters = {'neurons':[12, 14, 16, 32, 64, 128]} \n",
    "grid = GridSearchCV(estimator=model_lt1, param_grid=parameters,n_jobs=-1, cv=5)\n",
    "grid_result = grid.fit(train_3, train_labels_3)\n",
    "print(\"Best: %f using %s\" % (grid_result.best_score_, grid_result.best_params_))"
   ]
  },
  {
   "cell_type": "code",
   "execution_count": 176,
   "id": "0cf23379",
   "metadata": {},
   "outputs": [],
   "source": [
    "def create_modellt1(neurons = 1):\n",
    "    \n",
    "    model3 = models.Sequential()\n",
    "    model3.add(layers.Conv2D(32,(3,3), activation = 'relu', padding = \"same\", input_shape = (4,24,1)))\n",
    "    model3.add(layers.MaxPooling2D((1, 1)))\n",
    "    \n",
    "    model3.add(layers.Conv2D(32,(3,3), activation = 'relu', kernel_regularizer=regularizers.l2(0.01)))\n",
    "    \n",
    "    model3.add(layers.Flatten())\n",
    "    \n",
    "    model3.add(layers.Dense(neurons, activation='relu'))\n",
    "    model3.add(layers.Dense(12, activation='softmax'))\n",
    "    \n",
    "    model3.compile(loss='categorical_crossentropy',\n",
    "              optimizer='adam',\n",
    "              metrics=['accuracy'])\n",
    "    return model3\n",
    "model_lt1 = KerasClassifier(build_fn=create_modellt1, verbose=1)"
   ]
  },
  {
   "cell_type": "code",
   "execution_count": 177,
   "id": "f749d65a",
   "metadata": {},
   "outputs": [
    {
     "name": "stdout",
     "output_type": "stream",
     "text": [
      "150/150 [==============================] - 3s 13ms/step - loss: 2.3646 - accuracy: 0.2650\n",
      "Best: 0.303542 using {'neurons': 128}\n"
     ]
    }
   ],
   "source": [
    "parameters = {'neurons':[12, 14, 16, 32, 64, 128]} \n",
    "grid = GridSearchCV(estimator=model_lt1, param_grid=parameters,n_jobs=-1, cv=5)\n",
    "grid_result = grid.fit(train_3, train_labels_3)\n",
    "print(\"Best: %f using %s\" % (grid_result.best_score_, grid_result.best_params_))"
   ]
  },
  {
   "cell_type": "code",
   "execution_count": 178,
   "id": "4e7cd28d",
   "metadata": {},
   "outputs": [],
   "source": [
    "def create_modellt1(neurons = 1):\n",
    "    \n",
    "    model3 = models.Sequential()\n",
    "    model3.add(layers.Conv2D(neurons,(3,3), activation = 'relu', padding = \"same\", input_shape = (4,24,1)))\n",
    "    model3.add(layers.MaxPooling2D((1, 1)))\n",
    "    \n",
    "    model3.add(layers.Conv2D(32,(3,3), activation = 'relu', kernel_regularizer=regularizers.l2(0.01)))\n",
    "    \n",
    "    model3.add(layers.Flatten())\n",
    "    \n",
    "    model3.add(layers.Dense(128, activation='relu'))\n",
    "    model3.add(layers.Dense(12, activation='softmax'))\n",
    "    \n",
    "    model3.compile(loss='categorical_crossentropy',\n",
    "              optimizer='adam',\n",
    "              metrics=['accuracy'])\n",
    "    return model3\n",
    "model_lt1 = KerasClassifier(build_fn=create_modellt1, verbose=1)"
   ]
  },
  {
   "cell_type": "code",
   "execution_count": 179,
   "id": "1202ac4c",
   "metadata": {},
   "outputs": [
    {
     "name": "stdout",
     "output_type": "stream",
     "text": [
      "150/150 [==============================] - 6s 35ms/step - loss: 2.3503 - accuracy: 0.2721\n",
      "Best: 0.314583 using {'neurons': 128}\n"
     ]
    }
   ],
   "source": [
    "parameters = {'neurons':[12, 14, 16, 32, 64, 128]} \n",
    "grid = GridSearchCV(estimator=model_lt1, param_grid=parameters,n_jobs=-1, cv=5)\n",
    "grid_result = grid.fit(train_3, train_labels_3)\n",
    "print(\"Best: %f using %s\" % (grid_result.best_score_, grid_result.best_params_))"
   ]
  },
  {
   "cell_type": "code",
   "execution_count": 180,
   "id": "9d9421b3",
   "metadata": {},
   "outputs": [],
   "source": [
    "def create_modellt2(init_mode='uniform', bias_mode = 'zeros'):\n",
    "    \n",
    "    model3 = models.Sequential()\n",
    "    model3.add(layers.Conv2D(128,(3,3),kernel_initializer=init_mode,bias_initializer= bias_mode, activation = 'relu', padding = \"same\", input_shape = (4,24,1)))\n",
    "    model3.add(layers.MaxPooling2D((1, 1)))\n",
    "    \n",
    "    model3.add(layers.Conv2D(32,(3,3),kernel_initializer=init_mode,bias_initializer= bias_mode, activation = 'relu', kernel_regularizer=regularizers.l2(0.01)))\n",
    "    \n",
    "    model3.add(layers.Flatten())\n",
    "    \n",
    "    model3.add(layers.Dense(128,kernel_initializer=init_mode,bias_initializer= bias_mode, activation='relu'))\n",
    "    model3.add(layers.Dense(12,kernel_initializer=init_mode,bias_initializer= bias_mode, activation='softmax'))\n",
    "    \n",
    "    model3.compile(loss='categorical_crossentropy',\n",
    "              optimizer='adam',\n",
    "              metrics=['accuracy'])\n",
    "    return model3\n",
    "model_lt2 = KerasClassifier(build_fn=create_modellt2, verbose=1)"
   ]
  },
  {
   "cell_type": "code",
   "execution_count": 181,
   "id": "2a9b488e",
   "metadata": {},
   "outputs": [
    {
     "name": "stdout",
     "output_type": "stream",
     "text": [
      "150/150 [==============================] - 6s 31ms/step - loss: 2.6628 - accuracy: 0.2612\n",
      "Best: 0.319583 using {'bias_mode': 'he_uniform', 'init_mode': 'he_uniform'}\n"
     ]
    }
   ],
   "source": [
    "parameters = {'init_mode':['uniform', 'normal', 'glorot_normal', 'glorot_uniform', 'he_normal', 'he_uniform'],\n",
    "             'bias_mode': ['uniform', 'normal', 'glorot_normal', 'glorot_uniform', 'he_normal', 'he_uniform']} \n",
    "grid = GridSearchCV(estimator=model_lt2, param_grid=parameters,n_jobs=-1, cv=5)\n",
    "grid_result = grid.fit(train_3, train_labels_3)\n",
    "print(\"Best: %f using %s\" % (grid_result.best_score_, grid_result.best_params_))"
   ]
  },
  {
   "cell_type": "code",
   "execution_count": 182,
   "id": "10fb6f01",
   "metadata": {},
   "outputs": [],
   "source": [
    "def create_modellt3(padding = 'valid'):\n",
    "    \n",
    "    model3 = models.Sequential()\n",
    "    model3.add(layers.Conv2D(128,(3,3),padding = padding, kernel_initializer='he_uniform',bias_initializer= 'he_uniform', activation = 'relu', input_shape = (4,24,1)))\n",
    "    model3.add(layers.MaxPooling2D((1, 1)))\n",
    "    \n",
    "    model3.add(layers.Conv2D(32,(3,3),padding = padding, kernel_initializer='he_uniform',bias_initializer= 'he_uniform', activation = 'relu', kernel_regularizer=regularizers.l2(0.01)))\n",
    "    \n",
    "    model3.add(layers.Flatten())\n",
    "    \n",
    "    model3.add(layers.Dense(128,kernel_initializer='he_uniform',bias_initializer= 'he_uniform', activation='relu'))\n",
    "    model3.add(layers.Dense(12,kernel_initializer='he_uniform',bias_initializer= 'he_uniform', activation='softmax'))\n",
    "    \n",
    "    model3.compile(loss='categorical_crossentropy',\n",
    "              optimizer='adam',\n",
    "              metrics=['accuracy'])\n",
    "    return model3\n",
    "model_lt3 = KerasClassifier(build_fn=create_modellt3, verbose=1)"
   ]
  },
  {
   "cell_type": "code",
   "execution_count": 183,
   "id": "1feb3fdd",
   "metadata": {},
   "outputs": [
    {
     "name": "stdout",
     "output_type": "stream",
     "text": [
      "150/150 [==============================] - 9s 53ms/step - loss: 2.6314 - accuracy: 0.2717\n",
      "Best: 0.317083 using {'padding': 'same'}\n"
     ]
    }
   ],
   "source": [
    "parameters = {'padding':['valid', 'same', 'full', 'zero']} \n",
    "grid = GridSearchCV(estimator=model_lt3, param_grid=parameters,n_jobs=-1, cv=5)\n",
    "grid_result = grid.fit(train_3, train_labels_3)\n",
    "print(\"Best: %f using %s\" % (grid_result.best_score_, grid_result.best_params_))"
   ]
  },
  {
   "cell_type": "code",
   "execution_count": 184,
   "id": "f394df24",
   "metadata": {},
   "outputs": [],
   "source": [
    "def create_modellt4(l2 = 0.001):\n",
    "    \n",
    "    model3 = models.Sequential()\n",
    "    model3.add(layers.Conv2D(128,(3,3),padding = 'same', kernel_initializer='he_uniform',bias_initializer= 'he_uniform', activation = 'relu', input_shape = (4,24,1)))\n",
    "    model3.add(layers.MaxPooling2D((1, 1)))\n",
    "    \n",
    "    model3.add(layers.Conv2D(32,(3,3),padding = 'same', kernel_initializer='he_uniform',bias_initializer= 'he_uniform', activation = 'relu', kernel_regularizer=regularizers.l2(l2)))\n",
    "    \n",
    "    model3.add(layers.Flatten())\n",
    "    \n",
    "    model3.add(layers.Dense(128,kernel_initializer='he_uniform',bias_initializer= 'he_uniform', activation='relu'))\n",
    "    model3.add(layers.Dense(12,kernel_initializer='he_uniform',bias_initializer= 'he_uniform', activation='softmax'))\n",
    "    \n",
    "    model3.compile(loss='categorical_crossentropy',\n",
    "              optimizer='adam',\n",
    "              metrics=['accuracy'])\n",
    "    return model3\n",
    "model_lt4 = KerasClassifier(build_fn=create_modellt4, verbose=1)"
   ]
  },
  {
   "cell_type": "code",
   "execution_count": 185,
   "id": "76f1a161",
   "metadata": {},
   "outputs": [
    {
     "name": "stdout",
     "output_type": "stream",
     "text": [
      "150/150 [==============================] - 8s 50ms/step - loss: 2.7008 - accuracy: 0.2573\n",
      "Best: 0.315208 using {'l2': 0.01}\n"
     ]
    }
   ],
   "source": [
    "parameters = {'l2':[0.001,0.01, 0.1, 0.2, 0.3]} \n",
    "grid = GridSearchCV(estimator=model_lt4, param_grid=parameters,n_jobs=-1, cv=5)\n",
    "grid_result = grid.fit(train_3, train_labels_3)\n",
    "print(\"Best: %f using %s\" % (grid_result.best_score_, grid_result.best_params_))"
   ]
  },
  {
   "cell_type": "code",
   "execution_count": 187,
   "id": "737523e5",
   "metadata": {},
   "outputs": [],
   "source": [
    "def create_modellt5(learning_rate = 0.01):\n",
    "    \n",
    "    model3 = models.Sequential()\n",
    "    model3.add(layers.Conv2D(128,(3,3),padding = 'same', kernel_initializer='he_uniform',bias_initializer= 'he_uniform', activation = 'relu', input_shape = (4,24,1)))\n",
    "    model3.add(layers.MaxPooling2D((1, 1)))\n",
    "    \n",
    "    model3.add(layers.Conv2D(32,(3,3),padding = 'same', kernel_initializer='he_uniform',bias_initializer= 'he_uniform', activation = 'relu', kernel_regularizer=regularizers.l2(0.01)))\n",
    "    \n",
    "    model3.add(layers.Flatten())\n",
    "    \n",
    "    model3.add(layers.Dense(128,kernel_initializer='he_uniform',bias_initializer= 'he_uniform', activation='relu'))\n",
    "    model3.add(layers.Dense(12,kernel_initializer='he_uniform',bias_initializer= 'he_uniform', activation='softmax'))\n",
    "    \n",
    "    optimizer = Adam(lr=learning_rate)\n",
    "    \n",
    "    model3.compile(loss='categorical_crossentropy',\n",
    "              optimizer=optimizer,\n",
    "              metrics=['accuracy'])\n",
    "    return model3\n",
    "model_lt5 = KerasClassifier(build_fn=create_modellt5, verbose=1)"
   ]
  },
  {
   "cell_type": "code",
   "execution_count": 188,
   "id": "1d917be0",
   "metadata": {},
   "outputs": [
    {
     "name": "stdout",
     "output_type": "stream",
     "text": [
      "150/150 [==============================] - 8s 46ms/step - loss: 2.6523 - accuracy: 0.2771\n",
      "Best: 0.310625 using {'learning_rate': 0.001}\n"
     ]
    }
   ],
   "source": [
    "parameters = {'learning_rate':[0.001,0.01, 0.1, 0.2, 0.3]} \n",
    "grid = GridSearchCV(estimator=model_lt5, param_grid=parameters,n_jobs=-1, cv=5)\n",
    "grid_result = grid.fit(train_3, train_labels_3)\n",
    "print(\"Best: %f using %s\" % (grid_result.best_score_, grid_result.best_params_))"
   ]
  },
  {
   "cell_type": "code",
   "execution_count": 189,
   "id": "1ef086f9",
   "metadata": {},
   "outputs": [],
   "source": [
    "def create_modellt6():\n",
    "    \n",
    "    model3 = models.Sequential()\n",
    "    model3.add(layers.Conv2D(128,(3,3),padding = 'same', kernel_initializer='he_uniform',bias_initializer= 'he_uniform', activation = 'relu', input_shape = (4,24,1)))\n",
    "    model3.add(layers.MaxPooling2D((1, 1)))\n",
    "    \n",
    "    model3.add(layers.Conv2D(32,(3,3),padding = 'same', kernel_initializer='he_uniform',bias_initializer= 'he_uniform', activation = 'relu', kernel_regularizer=regularizers.l2(0.01)))\n",
    "    \n",
    "    model3.add(layers.Flatten())\n",
    "    \n",
    "    model3.add(layers.Dense(128,kernel_initializer='he_uniform',bias_initializer= 'he_uniform', activation='relu'))\n",
    "    model3.add(layers.Dense(12,kernel_initializer='he_uniform',bias_initializer= 'he_uniform', activation='softmax'))\n",
    "    \n",
    "    model3.compile(loss='categorical_crossentropy',\n",
    "              optimizer='adam',\n",
    "              metrics=['accuracy'])\n",
    "    return model3\n",
    "model_lt6 = KerasClassifier(build_fn=create_modellt6, verbose=1)"
   ]
  },
  {
   "cell_type": "code",
   "execution_count": 190,
   "id": "52cde931",
   "metadata": {},
   "outputs": [
    {
     "name": "stdout",
     "output_type": "stream",
     "text": [
      "Epoch 1/10\n",
      "12/12 [==============================] - 6s 421ms/step - loss: 3.1508 - accuracy: 0.1790\n",
      "Epoch 2/10\n",
      "12/12 [==============================] - 5s 406ms/step - loss: 2.6924 - accuracy: 0.2965\n",
      "Epoch 3/10\n",
      "12/12 [==============================] - 5s 404ms/step - loss: 2.4355 - accuracy: 0.3629\n",
      "Epoch 4/10\n",
      "12/12 [==============================] - 5s 413ms/step - loss: 2.2532 - accuracy: 0.3950\n",
      "Epoch 5/10\n",
      "12/12 [==============================] - 5s 409ms/step - loss: 2.1067 - accuracy: 0.4271\n",
      "Epoch 6/10\n",
      "12/12 [==============================] - 5s 416ms/step - loss: 1.9682 - accuracy: 0.4610\n",
      "Epoch 7/10\n",
      "12/12 [==============================] - 5s 425ms/step - loss: 1.8549 - accuracy: 0.4885\n",
      "Epoch 8/10\n",
      "12/12 [==============================] - 5s 414ms/step - loss: 1.7536 - accuracy: 0.5177\n",
      "Epoch 9/10\n",
      "12/12 [==============================] - 5s 423ms/step - loss: 1.6601 - accuracy: 0.5477\n",
      "Epoch 10/10\n",
      "12/12 [==============================] - 5s 415ms/step - loss: 1.5732 - accuracy: 0.5727\n",
      "Best: 0.360208 using {'batch_size': 400, 'epochs': 10}\n"
     ]
    }
   ],
   "source": [
    "parameters = {'batch_size':[150, 200, 300, 400], \n",
    "              'epochs':[10, 20, 30, 40]}\n",
    "grid = GridSearchCV(estimator=model_lt6, param_grid=parameters,n_jobs=-1, cv=5)\n",
    "grid_result = grid.fit(train_3, train_labels_3)\n",
    "print(\"Best: %f using %s\" % (grid_result.best_score_, grid_result.best_params_))"
   ]
  },
  {
   "cell_type": "markdown",
   "id": "2cd25467",
   "metadata": {},
   "source": [
    "# Lifetime model after hyperparameter tuning"
   ]
  },
  {
   "cell_type": "code",
   "execution_count": 191,
   "id": "0d1b18d8",
   "metadata": {},
   "outputs": [],
   "source": [
    "model3 = models.Sequential()\n",
    "model3.add(layers.Conv2D(128,(3,3),padding = 'same', kernel_initializer='he_uniform',bias_initializer= 'he_uniform', activation = 'relu', input_shape = (4,24,1)))\n",
    "model3.add(layers.MaxPooling2D((1, 1)))\n",
    "    \n",
    "model3.add(layers.Conv2D(32,(3,3),padding = 'same', kernel_initializer='he_uniform',bias_initializer= 'he_uniform', activation = 'relu', kernel_regularizer=regularizers.l2(0.01)))\n",
    "    \n",
    "model3.add(layers.Flatten())\n",
    "    \n",
    "model3.add(layers.Dense(128,kernel_initializer='he_uniform',bias_initializer= 'he_uniform', activation='relu'))\n",
    "model3.add(layers.Dense(12,kernel_initializer='he_uniform',bias_initializer= 'he_uniform', activation='softmax'))\n",
    "    \n",
    "model3.compile(loss='categorical_crossentropy',\n",
    "              optimizer='adam',\n",
    "              metrics=['accuracy'])"
   ]
  },
  {
   "cell_type": "code",
   "execution_count": 194,
   "id": "5a946311",
   "metadata": {},
   "outputs": [
    {
     "name": "stdout",
     "output_type": "stream",
     "text": [
      "Epoch 1/10\n",
      "12/12 [==============================] - 5s 386ms/step - loss: 1.6758 - accuracy: 0.5387\n",
      "Epoch 2/10\n",
      "12/12 [==============================] - 5s 399ms/step - loss: 1.5865 - accuracy: 0.5606\n",
      "Epoch 3/10\n",
      "12/12 [==============================] - 5s 389ms/step - loss: 1.4958 - accuracy: 0.5869\n",
      "Epoch 4/10\n",
      "12/12 [==============================] - 5s 383ms/step - loss: 1.4188 - accuracy: 0.6117\n",
      "Epoch 5/10\n",
      "12/12 [==============================] - 5s 384ms/step - loss: 1.3399 - accuracy: 0.6438\n",
      "Epoch 6/10\n",
      "12/12 [==============================] - 5s 390ms/step - loss: 1.2732 - accuracy: 0.6681\n",
      "Epoch 7/10\n",
      "12/12 [==============================] - 5s 385ms/step - loss: 1.2090 - accuracy: 0.6842\n",
      "Epoch 8/10\n",
      "12/12 [==============================] - 5s 384ms/step - loss: 1.1485 - accuracy: 0.7027\n",
      "Epoch 9/10\n",
      "12/12 [==============================] - 5s 386ms/step - loss: 1.0768 - accuracy: 0.7279\n",
      "Epoch 10/10\n",
      "12/12 [==============================] - 5s 382ms/step - loss: 0.9998 - accuracy: 0.7538\n"
     ]
    },
    {
     "data": {
      "text/plain": [
       "<keras.callbacks.History at 0x1bf466a6b20>"
      ]
     },
     "execution_count": 194,
     "metadata": {},
     "output_type": "execute_result"
    }
   ],
   "source": [
    "model3.fit(train_3, train_labels_3,batch_size=400, epochs=10) "
   ]
  },
  {
   "cell_type": "code",
   "execution_count": 195,
   "id": "73b88990",
   "metadata": {},
   "outputs": [
    {
     "name": "stdout",
     "output_type": "stream",
     "text": [
      "38/38 [==============================] - 1s 12ms/step - loss: 2.7137 - accuracy: 0.3525\n"
     ]
    }
   ],
   "source": [
    "results_3 = model3.evaluate(val_3,val_labels_3)"
   ]
  },
  {
   "cell_type": "code",
   "execution_count": 196,
   "id": "532d166f",
   "metadata": {},
   "outputs": [
    {
     "name": "stdout",
     "output_type": "stream",
     "text": [
      "121/121 [==============================] - 2s 11ms/step\n"
     ]
    }
   ],
   "source": [
    "y_pred3 = model3.predict(test_data3_trans)"
   ]
  },
  {
   "cell_type": "markdown",
   "id": "8b724e69",
   "metadata": {},
   "source": [
    "# First way to concatenate the results"
   ]
  },
  {
   "cell_type": "code",
   "execution_count": 200,
   "id": "aa4a9aa8",
   "metadata": {},
   "outputs": [
    {
     "data": {
      "text/plain": [
       "array([0, 0, 0, ..., 0, 0, 0])"
      ]
     },
     "execution_count": 200,
     "metadata": {},
     "output_type": "execute_result"
    }
   ],
   "source": [
    "y_konacno3 = np.empty(shape=len(y_pred1))\n",
    "y_konacno3 = y_konacno3.astype(int)\n",
    "y_konacno3"
   ]
  },
  {
   "cell_type": "code",
   "execution_count": 201,
   "id": "1397f955",
   "metadata": {},
   "outputs": [],
   "source": [
    "#y_pred1 = predictions obtained from spectrum\n",
    "#y_pred2 = predictions obtained from scattering\n",
    "#y_pred3 = predictions obtained from lifetime\n",
    "\n",
    "#we look at probabilities and take the highest one"
   ]
  },
  {
   "cell_type": "code",
   "execution_count": 202,
   "id": "ef5ceae2",
   "metadata": {},
   "outputs": [],
   "source": [
    "for i in range(len(y_pred1)): #ovde spajam miks scattering(y_pred2) i spectrum(y_pred1)  sa  lifetime\n",
    "    if ((y_pred1[i].max() > y_pred2[i].max()) and  (y_pred1[i].max()> y_pred3[i].max())):\n",
    "        y_konacno3[i] = y_pred1[i].argmax()\n",
    "    elif ((y_pred2[i].max() > y_pred1[i].max()) and  (y_pred2[i].max()>  y_pred3[i].max())):\n",
    "        y_konacno3[i] = y_pred2[i].argmax()\n",
    "    else:\n",
    "        y_konacno3[i] = y_pred3[i].argmax()"
   ]
  },
  {
   "cell_type": "code",
   "execution_count": 203,
   "id": "66830e8c",
   "metadata": {},
   "outputs": [],
   "source": [
    "os.chdir(\"D:\\\\Maja\\\\LSDM\\\\Projekat\")\n",
    "submission=pd.read_csv('submission.csv')\n",
    "submission['Pollen']=y_konacno3\n",
    "submission = submission.set_index('ID')"
   ]
  },
  {
   "cell_type": "code",
   "execution_count": 204,
   "id": "6544d7f2",
   "metadata": {},
   "outputs": [
    {
     "data": {
      "text/html": [
       "<div>\n",
       "<style scoped>\n",
       "    .dataframe tbody tr th:only-of-type {\n",
       "        vertical-align: middle;\n",
       "    }\n",
       "\n",
       "    .dataframe tbody tr th {\n",
       "        vertical-align: top;\n",
       "    }\n",
       "\n",
       "    .dataframe thead th {\n",
       "        text-align: right;\n",
       "    }\n",
       "</style>\n",
       "<table border=\"1\" class=\"dataframe\">\n",
       "  <thead>\n",
       "    <tr style=\"text-align: right;\">\n",
       "      <th></th>\n",
       "      <th>Pollen</th>\n",
       "    </tr>\n",
       "    <tr>\n",
       "      <th>ID</th>\n",
       "      <th></th>\n",
       "    </tr>\n",
       "  </thead>\n",
       "  <tbody>\n",
       "    <tr>\n",
       "      <th>0</th>\n",
       "      <td>9</td>\n",
       "    </tr>\n",
       "    <tr>\n",
       "      <th>1</th>\n",
       "      <td>9</td>\n",
       "    </tr>\n",
       "    <tr>\n",
       "      <th>2</th>\n",
       "      <td>0</td>\n",
       "    </tr>\n",
       "    <tr>\n",
       "      <th>3</th>\n",
       "      <td>10</td>\n",
       "    </tr>\n",
       "    <tr>\n",
       "      <th>4</th>\n",
       "      <td>1</td>\n",
       "    </tr>\n",
       "  </tbody>\n",
       "</table>\n",
       "</div>"
      ],
      "text/plain": [
       "    Pollen\n",
       "ID        \n",
       "0        9\n",
       "1        9\n",
       "2        0\n",
       "3       10\n",
       "4        1"
      ]
     },
     "execution_count": 204,
     "metadata": {},
     "output_type": "execute_result"
    }
   ],
   "source": [
    "submission.head()"
   ]
  },
  {
   "cell_type": "code",
   "execution_count": 205,
   "id": "047efd35",
   "metadata": {},
   "outputs": [],
   "source": [
    "submission.to_csv('nn60.csv')"
   ]
  },
  {
   "cell_type": "markdown",
   "id": "6c816c76",
   "metadata": {},
   "source": [
    "# Second way to concatenate the results"
   ]
  },
  {
   "cell_type": "code",
   "execution_count": null,
   "id": "fa360321",
   "metadata": {},
   "outputs": [],
   "source": [
    "#we build a merged model:"
   ]
  },
  {
   "cell_type": "code",
   "execution_count": 210,
   "id": "d563369e",
   "metadata": {},
   "outputs": [],
   "source": [
    "model1 = models.Sequential()\n",
    "model1.add(layers.Conv2D(32, (3,3),padding = 'same', kernel_initializer='he_normal',bias_initializer= 'glorot_normal',activation='relu',kernel_regularizer=regularizers.l2(0.001), input_shape=(4,32,1)))\n",
    "model1.add(layers.MaxPooling2D((2, 2)))\n",
    "model1.add(layers.Conv2D(128,(1,1),padding = 'same', kernel_initializer='he_normal',bias_initializer= 'glorot_normal', activation='relu',kernel_regularizer=regularizers.l2(0.001)))\n",
    "model1.add(layers.MaxPooling2D((1, 1)))\n",
    "model1.add(layers.Conv2D(128,(1,1),padding = 'same', kernel_initializer='he_normal', bias_initializer= 'glorot_normal',activation='relu',kernel_regularizer=regularizers.l2(0.001)))\n",
    "model1.add(layers.Flatten())\n",
    "model1.add(layers.Dense(128,kernel_initializer='he_normal',bias_initializer= 'glorot_normal', activation='relu')) \n",
    "\n",
    "model2 = models.Sequential()\n",
    "model2.add(layers.Conv2D(12, (3,3), padding ='same', kernel_initializer='glorot_normal', bias_initializer= 'uniform', activation='relu',kernel_regularizer=regularizers.l2(0.001), input_shape=(20,120,1)))\n",
    "model2.add(layers.MaxPooling2D((2, 2)))\n",
    "model2.add(layers.Conv2D(64,(3,3), padding ='same', kernel_initializer='glorot_normal', bias_initializer= 'uniform', activation='relu',kernel_regularizer=regularizers.l2(0.001)))\n",
    "model2.add(Dropout(0.1))\n",
    "model2.add(layers.MaxPooling2D((2, 2))) \n",
    "model2.add(layers.Conv2D(64,(3,3), padding ='same', kernel_initializer='glorot_normal', bias_initializer= 'uniform', activation='relu',kernel_regularizer=regularizers.l2(0.001)))\n",
    "model2.add(Dropout(0.1))\n",
    "model2.add(layers.Flatten())\n",
    "model2.add(layers.Dense(64,kernel_initializer='glorot_normal', bias_initializer= 'uniform', activation='relu')) \n",
    "model2.add(Dropout(0.1))\n",
    "    \n",
    "model3 = models.Sequential()\n",
    "model3.add(layers.Conv2D(128,(3,3),padding = 'same', kernel_initializer='he_uniform',bias_initializer= 'he_uniform', activation = 'relu', input_shape = (4,24,1)))\n",
    "model3.add(layers.MaxPooling2D((1, 1)))\n",
    "model3.add(layers.Conv2D(32,(3,3),padding = 'same', kernel_initializer='he_uniform',bias_initializer= 'he_uniform', activation = 'relu', kernel_regularizer=regularizers.l2(0.01)))\n",
    "model3.add(layers.Flatten())\n",
    "model3.add(layers.Dense(128,kernel_initializer='he_uniform',bias_initializer= 'he_uniform', activation='relu'))\n",
    "\n",
    "zajedno = tf.keras.layers.concatenate([model1.output,model2.output,model3.output])\n",
    "predictions = Dense(12,activation = 'softmax')(zajedno)\n",
    "\n",
    "model = Model(inputs =[model1.input, model2.input, model3.input], outputs = predictions)"
   ]
  },
  {
   "cell_type": "code",
   "execution_count": 211,
   "id": "159313a2",
   "metadata": {},
   "outputs": [],
   "source": [
    "model.compile(loss='categorical_crossentropy',\n",
    "              optimizer='adam',\n",
    "              metrics=['accuracy'])"
   ]
  },
  {
   "cell_type": "code",
   "execution_count": 237,
   "id": "4312a9ab",
   "metadata": {},
   "outputs": [
    {
     "name": "stdout",
     "output_type": "stream",
     "text": [
      "Epoch 1/10\n",
      "12/12 [==============================] - 28s 2s/step - loss: 4.1580 - accuracy: 0.1796\n",
      "Epoch 2/10\n",
      "12/12 [==============================] - 20s 2s/step - loss: 3.1755 - accuracy: 0.3796\n",
      "Epoch 3/10\n",
      "12/12 [==============================] - 19s 2s/step - loss: 2.7599 - accuracy: 0.4723\n",
      "Epoch 4/10\n",
      "12/12 [==============================] - 21s 2s/step - loss: 2.4731 - accuracy: 0.5358\n",
      "Epoch 5/10\n",
      "12/12 [==============================] - 22s 2s/step - loss: 2.2423 - accuracy: 0.5867\n",
      "Epoch 6/10\n",
      "12/12 [==============================] - 22s 2s/step - loss: 2.0547 - accuracy: 0.6292\n",
      "Epoch 7/10\n",
      "12/12 [==============================] - 22s 2s/step - loss: 1.9098 - accuracy: 0.6523\n",
      "Epoch 8/10\n",
      "12/12 [==============================] - 21s 2s/step - loss: 1.7538 - accuracy: 0.6935\n",
      "Epoch 9/10\n",
      "12/12 [==============================] - 24s 2s/step - loss: 1.6396 - accuracy: 0.7067\n",
      "Epoch 10/10\n",
      "12/12 [==============================] - 21s 2s/step - loss: 1.5333 - accuracy: 0.7346\n"
     ]
    },
    {
     "data": {
      "text/plain": [
       "<keras.callbacks.History at 0x1bf43d25610>"
      ]
     },
     "execution_count": 237,
     "metadata": {},
     "output_type": "execute_result"
    }
   ],
   "source": [
    "model.fit([train_1,train_2,train_3] ,train_labels_1, batch_size=400, epochs=10)"
   ]
  },
  {
   "cell_type": "code",
   "execution_count": 238,
   "id": "a63a1d61",
   "metadata": {},
   "outputs": [
    {
     "name": "stdout",
     "output_type": "stream",
     "text": [
      "38/38 [==============================] - 2s 40ms/step - loss: 2.0156 - accuracy: 0.5850\n"
     ]
    }
   ],
   "source": [
    "results_con = model.evaluate([val_1,val_2,val_3],val_labels_3)"
   ]
  },
  {
   "cell_type": "code",
   "execution_count": 239,
   "id": "e64e11fd",
   "metadata": {},
   "outputs": [
    {
     "name": "stdout",
     "output_type": "stream",
     "text": [
      "121/121 [==============================] - 5s 37ms/step\n"
     ]
    }
   ],
   "source": [
    "y_pred_concatenate = model.predict([test_data1_trans,test_data2_trans,test_data3_trans]) "
   ]
  },
  {
   "cell_type": "code",
   "execution_count": 241,
   "id": "b88d817c",
   "metadata": {},
   "outputs": [
    {
     "data": {
      "text/plain": [
       "(3866, 12)"
      ]
     },
     "execution_count": 241,
     "metadata": {},
     "output_type": "execute_result"
    }
   ],
   "source": [
    "y_pred_concatenate.shape"
   ]
  },
  {
   "cell_type": "code",
   "execution_count": 242,
   "id": "8fbbc8e1",
   "metadata": {},
   "outputs": [
    {
     "data": {
      "text/plain": [
       "array([0, 0, 0, ..., 0, 0, 0])"
      ]
     },
     "execution_count": 242,
     "metadata": {},
     "output_type": "execute_result"
    }
   ],
   "source": [
    "y_konacno_concatenate = np.empty(shape=len(y_pred_concatenate))\n",
    "y_konacno_concatenate = y_konacno_concatenate.astype(int)\n",
    "y_konacno_concatenate"
   ]
  },
  {
   "cell_type": "code",
   "execution_count": 243,
   "id": "8297baff",
   "metadata": {},
   "outputs": [],
   "source": [
    "for i in range(len(y_pred_concatenate)):\n",
    "    y_konacno_concatenate[i]=y_pred_concatenate[i].argmax()"
   ]
  },
  {
   "cell_type": "code",
   "execution_count": 244,
   "id": "0d76d8b3",
   "metadata": {},
   "outputs": [],
   "source": [
    "os.chdir(\"D:\\\\Maja\\\\LSDM\\\\Projekat\")\n",
    "submission=pd.read_csv('submission.csv')\n",
    "submission['Pollen']=y_konacno_concatenate\n",
    "submission = submission.set_index('ID')"
   ]
  },
  {
   "cell_type": "code",
   "execution_count": 245,
   "id": "6d52d7b7",
   "metadata": {},
   "outputs": [
    {
     "data": {
      "text/html": [
       "<div>\n",
       "<style scoped>\n",
       "    .dataframe tbody tr th:only-of-type {\n",
       "        vertical-align: middle;\n",
       "    }\n",
       "\n",
       "    .dataframe tbody tr th {\n",
       "        vertical-align: top;\n",
       "    }\n",
       "\n",
       "    .dataframe thead th {\n",
       "        text-align: right;\n",
       "    }\n",
       "</style>\n",
       "<table border=\"1\" class=\"dataframe\">\n",
       "  <thead>\n",
       "    <tr style=\"text-align: right;\">\n",
       "      <th></th>\n",
       "      <th>Pollen</th>\n",
       "    </tr>\n",
       "    <tr>\n",
       "      <th>ID</th>\n",
       "      <th></th>\n",
       "    </tr>\n",
       "  </thead>\n",
       "  <tbody>\n",
       "    <tr>\n",
       "      <th>0</th>\n",
       "      <td>3</td>\n",
       "    </tr>\n",
       "    <tr>\n",
       "      <th>1</th>\n",
       "      <td>9</td>\n",
       "    </tr>\n",
       "    <tr>\n",
       "      <th>2</th>\n",
       "      <td>0</td>\n",
       "    </tr>\n",
       "    <tr>\n",
       "      <th>3</th>\n",
       "      <td>10</td>\n",
       "    </tr>\n",
       "    <tr>\n",
       "      <th>4</th>\n",
       "      <td>6</td>\n",
       "    </tr>\n",
       "  </tbody>\n",
       "</table>\n",
       "</div>"
      ],
      "text/plain": [
       "    Pollen\n",
       "ID        \n",
       "0        3\n",
       "1        9\n",
       "2        0\n",
       "3       10\n",
       "4        6"
      ]
     },
     "execution_count": 245,
     "metadata": {},
     "output_type": "execute_result"
    }
   ],
   "source": [
    "submission.head()"
   ]
  },
  {
   "cell_type": "code",
   "execution_count": 246,
   "id": "a420ebac",
   "metadata": {},
   "outputs": [],
   "source": [
    "submission.to_csv('nn62.csv')"
   ]
  },
  {
   "cell_type": "markdown",
   "id": "414546d8",
   "metadata": {},
   "source": [
    "# Pretrained model"
   ]
  },
  {
   "cell_type": "code",
   "execution_count": 212,
   "id": "95391ea5",
   "metadata": {},
   "outputs": [],
   "source": [
    "from sklearn.neural_network import MLPClassifier"
   ]
  },
  {
   "cell_type": "code",
   "execution_count": 215,
   "id": "3cfed7d2",
   "metadata": {},
   "outputs": [],
   "source": [
    "train_data = training_data1.merge(training_data2, how = \"left\", on = \"ID\")\n",
    "train_data = train_data.merge(training_data3, how = \"left\", on = \"ID\")"
   ]
  },
  {
   "cell_type": "code",
   "execution_count": 216,
   "id": "b04eab29",
   "metadata": {},
   "outputs": [],
   "source": [
    "train_data = pd.DataFrame(sc.fit_transform(train_data))"
   ]
  },
  {
   "cell_type": "code",
   "execution_count": 217,
   "id": "8a76497a",
   "metadata": {},
   "outputs": [
    {
     "data": {
      "text/plain": [
       "(6000, 2624)"
      ]
     },
     "execution_count": 217,
     "metadata": {},
     "output_type": "execute_result"
    }
   ],
   "source": [
    "train_data = np.array(train_data)\n",
    "train_data.shape"
   ]
  },
  {
   "cell_type": "code",
   "execution_count": 218,
   "id": "59a583dc",
   "metadata": {},
   "outputs": [],
   "source": [
    "indices_all = np.array(range(train_data.shape[0]))\n",
    "\n",
    "random.seed(0)\n",
    "random.shuffle(indices_all)\n",
    "\n",
    "new_data_all = [train_data[ind] for ind in indices_all]\n",
    "new_labels_all = [train_labels['Pollen'][ind] for ind in indices_all]"
   ]
  },
  {
   "cell_type": "code",
   "execution_count": 220,
   "id": "4ce50058",
   "metadata": {},
   "outputs": [],
   "source": [
    "ind = np.int(np.round(0.8 * train_data.shape[0])) #uzmemo indekse gde je 80% podataka\n",
    "\n",
    "train_all = new_data_all[:ind] \n",
    "train_labels_all = new_labels_all[:ind]\n",
    "\n",
    "val_all = new_data_all[ind:] #posle tog indeksa svi podaci su u testu\n",
    "val_labels_all = new_labels_all[ind:]"
   ]
  },
  {
   "cell_type": "code",
   "execution_count": 223,
   "id": "8e331847",
   "metadata": {},
   "outputs": [
    {
     "data": {
      "text/plain": [
       "MLPClassifier(hidden_layer_sizes=(150, 100, 50))"
      ]
     },
     "execution_count": 223,
     "metadata": {},
     "output_type": "execute_result"
    }
   ],
   "source": [
    "mlp_clf = MLPClassifier(hidden_layer_sizes=(150,100,50),\n",
    "                        max_iter = 200,activation = 'relu',\n",
    "                        solver = 'adam')\n",
    "\n",
    "mlp_clf.fit(train_all, train_labels_all)"
   ]
  },
  {
   "cell_type": "code",
   "execution_count": 225,
   "id": "4392e919",
   "metadata": {},
   "outputs": [],
   "source": [
    "test_data = test_data1.merge(test_data2, how = \"left\", on = \"ID\")\n",
    "test_data = test_data.merge(test_data3, how = \"left\", on = \"ID\")"
   ]
  },
  {
   "cell_type": "code",
   "execution_count": 226,
   "id": "da206e76",
   "metadata": {},
   "outputs": [],
   "source": [
    "test_data = pd.DataFrame(sc.fit_transform(test_data))"
   ]
  },
  {
   "cell_type": "code",
   "execution_count": 227,
   "id": "bf42289a",
   "metadata": {},
   "outputs": [
    {
     "name": "stdout",
     "output_type": "stream",
     "text": [
      "Accuracy: 0.50\n"
     ]
    }
   ],
   "source": [
    "from sklearn.metrics import accuracy_score\n",
    "y_pred = mlp_clf.predict(val_all)   \n",
    "\n",
    "print('Accuracy: {:.2f}'.format(accuracy_score(val_labels_all, y_pred)))"
   ]
  },
  {
   "cell_type": "code",
   "execution_count": 228,
   "id": "e3b984fa",
   "metadata": {},
   "outputs": [
    {
     "data": {
      "text/plain": [
       "array([ 5,  9,  1, ...,  5, 10,  4], dtype=int64)"
      ]
     },
     "execution_count": 228,
     "metadata": {},
     "output_type": "execute_result"
    }
   ],
   "source": [
    "y_pred_konacno = mlp_clf.predict(test_data)\n",
    "y_pred_konacno"
   ]
  },
  {
   "cell_type": "code",
   "execution_count": 229,
   "id": "78c77eae",
   "metadata": {},
   "outputs": [],
   "source": [
    "os.chdir(\"D:\\\\Maja\\\\LSDM\\\\Projekat\")\n",
    "submission=pd.read_csv('submission.csv')\n",
    "submission['Pollen']=y_pred_konacno\n",
    "submission = submission.set_index('ID')"
   ]
  },
  {
   "cell_type": "code",
   "execution_count": 230,
   "id": "9eff70b7",
   "metadata": {},
   "outputs": [],
   "source": [
    "submission.to_csv('nnPMLP.csv')"
   ]
  },
  {
   "cell_type": "code",
   "execution_count": 232,
   "id": "3a0945e5",
   "metadata": {},
   "outputs": [
    {
     "name": "stdout",
     "output_type": "stream",
     "text": [
      "Best: 0.503958 using {'activation': 'relu', 'hidden_layer_sizes': (150, 100, 50), 'max_iter': 100, 'solver': 'sgd'}\n"
     ]
    }
   ],
   "source": [
    "#hyperparam tuning:\n",
    "parameters = {'hidden_layer_sizes':[(150,100,50), (128,64,32),(100,50,32)],\n",
    "             'max_iter':[50,100],\n",
    "             'activation':['relu', 'tanh'], \n",
    "             'solver': ['adam','sgd']} \n",
    "\n",
    "grid = GridSearchCV(estimator=mlp_clf, param_grid=parameters, n_jobs=-1, cv=5)\n",
    "grid_result = grid.fit(train_all, train_labels_all)\n",
    "\n",
    "print(\"Best: %f using %s\" % (grid_result.best_score_, grid_result.best_params_))"
   ]
  },
  {
   "cell_type": "code",
   "execution_count": 233,
   "id": "4f806fdc",
   "metadata": {},
   "outputs": [
    {
     "data": {
      "text/plain": [
       "MLPClassifier(hidden_layer_sizes=(150, 100, 50), max_iter=100, solver='sgd')"
      ]
     },
     "execution_count": 233,
     "metadata": {},
     "output_type": "execute_result"
    }
   ],
   "source": [
    "mlp_clf = MLPClassifier(hidden_layer_sizes=(150,100,50),\n",
    "                        max_iter = 100,activation = 'relu',\n",
    "                        solver = 'sgd')\n",
    "mlp_clf.fit(train_all, train_labels_all)"
   ]
  },
  {
   "cell_type": "code",
   "execution_count": 234,
   "id": "b7143a8d",
   "metadata": {},
   "outputs": [],
   "source": [
    "y_pred_konacnoo = mlp_clf.predict(test_data)"
   ]
  },
  {
   "cell_type": "code",
   "execution_count": 235,
   "id": "755a9f54",
   "metadata": {},
   "outputs": [],
   "source": [
    "os.chdir(\"D:\\\\Maja\\\\LSDM\\\\Projekat\")\n",
    "submission=pd.read_csv('submission.csv')\n",
    "submission['Pollen']=y_pred_konacnoo\n",
    "submission = submission.set_index('ID')"
   ]
  },
  {
   "cell_type": "code",
   "execution_count": 236,
   "id": "6798f99b",
   "metadata": {},
   "outputs": [],
   "source": [
    "submission.to_csv('nnPretrain.csv')"
   ]
  },
  {
   "cell_type": "code",
   "execution_count": null,
   "id": "516d49e8",
   "metadata": {},
   "outputs": [],
   "source": []
  }
 ],
 "metadata": {
  "kernelspec": {
   "display_name": "Python 3",
   "language": "python",
   "name": "python3"
  },
  "language_info": {
   "codemirror_mode": {
    "name": "ipython",
    "version": 3
   },
   "file_extension": ".py",
   "mimetype": "text/x-python",
   "name": "python",
   "nbconvert_exporter": "python",
   "pygments_lexer": "ipython3",
   "version": "3.8.8"
  }
 },
 "nbformat": 4,
 "nbformat_minor": 5
}
